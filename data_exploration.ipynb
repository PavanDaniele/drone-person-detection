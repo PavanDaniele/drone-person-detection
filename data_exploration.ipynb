{
  "nbformat": 4,
  "nbformat_minor": 0,
  "metadata": {
    "colab": {
      "provenance": [],
      "toc_visible": true,
      "include_colab_link": true
    },
    "kernelspec": {
      "name": "python3",
      "display_name": "Python 3"
    },
    "language_info": {
      "name": "python"
    }
  },
  "cells": [
    {
      "cell_type": "markdown",
      "metadata": {
        "id": "view-in-github",
        "colab_type": "text"
      },
      "source": [
        "<a href=\"https://colab.research.google.com/github/PavanDaniele/drone-person-detection/blob/main/data_exploration.ipynb\" target=\"_parent\"><img src=\"https://colab.research.google.com/assets/colab-badge.svg\" alt=\"Open In Colab\"/></a>"
      ]
    },
    {
      "cell_type": "code",
      "source": [
        "# Run this Every time you start a new session\n",
        "from google.colab import drive\n",
        "drive.mount('/content/drive') # to mount google drive (to see/access it)"
      ],
      "metadata": {
        "id": "ZTKjcwb04cFa",
        "outputId": "44af220d-8f72-46eb-b81c-e577b5a000b8",
        "colab": {
          "base_uri": "https://localhost:8080/",
          "height": 321
        }
      },
      "execution_count": 1,
      "outputs": [
        {
          "output_type": "error",
          "ename": "ValueError",
          "evalue": "mount failed",
          "traceback": [
            "\u001b[0;31m---------------------------------------------------------------------------\u001b[0m",
            "\u001b[0;31mValueError\u001b[0m                                Traceback (most recent call last)",
            "\u001b[0;32m/tmp/ipython-input-3157283321.py\u001b[0m in \u001b[0;36m<cell line: 0>\u001b[0;34m()\u001b[0m\n\u001b[1;32m      1\u001b[0m \u001b[0;31m# Run this Every time you start a new session\u001b[0m\u001b[0;34m\u001b[0m\u001b[0;34m\u001b[0m\u001b[0m\n\u001b[1;32m      2\u001b[0m \u001b[0;32mfrom\u001b[0m \u001b[0mgoogle\u001b[0m\u001b[0;34m.\u001b[0m\u001b[0mcolab\u001b[0m \u001b[0;32mimport\u001b[0m \u001b[0mdrive\u001b[0m\u001b[0;34m\u001b[0m\u001b[0;34m\u001b[0m\u001b[0m\n\u001b[0;32m----> 3\u001b[0;31m \u001b[0mdrive\u001b[0m\u001b[0;34m.\u001b[0m\u001b[0mmount\u001b[0m\u001b[0;34m(\u001b[0m\u001b[0;34m'/content/drive'\u001b[0m\u001b[0;34m)\u001b[0m \u001b[0;31m# to mount google drive (to see/access it)\u001b[0m\u001b[0;34m\u001b[0m\u001b[0;34m\u001b[0m\u001b[0m\n\u001b[0m",
            "\u001b[0;32m/usr/local/lib/python3.12/dist-packages/google/colab/drive.py\u001b[0m in \u001b[0;36mmount\u001b[0;34m(mountpoint, force_remount, timeout_ms, readonly)\u001b[0m\n\u001b[1;32m     95\u001b[0m \u001b[0;32mdef\u001b[0m \u001b[0mmount\u001b[0m\u001b[0;34m(\u001b[0m\u001b[0mmountpoint\u001b[0m\u001b[0;34m,\u001b[0m \u001b[0mforce_remount\u001b[0m\u001b[0;34m=\u001b[0m\u001b[0;32mFalse\u001b[0m\u001b[0;34m,\u001b[0m \u001b[0mtimeout_ms\u001b[0m\u001b[0;34m=\u001b[0m\u001b[0;36m120000\u001b[0m\u001b[0;34m,\u001b[0m \u001b[0mreadonly\u001b[0m\u001b[0;34m=\u001b[0m\u001b[0;32mFalse\u001b[0m\u001b[0;34m)\u001b[0m\u001b[0;34m:\u001b[0m\u001b[0;34m\u001b[0m\u001b[0;34m\u001b[0m\u001b[0m\n\u001b[1;32m     96\u001b[0m   \u001b[0;34m\"\"\"Mount your Google Drive at the specified mountpoint path.\"\"\"\u001b[0m\u001b[0;34m\u001b[0m\u001b[0;34m\u001b[0m\u001b[0m\n\u001b[0;32m---> 97\u001b[0;31m   return _mount(\n\u001b[0m\u001b[1;32m     98\u001b[0m       \u001b[0mmountpoint\u001b[0m\u001b[0;34m,\u001b[0m\u001b[0;34m\u001b[0m\u001b[0;34m\u001b[0m\u001b[0m\n\u001b[1;32m     99\u001b[0m       \u001b[0mforce_remount\u001b[0m\u001b[0;34m=\u001b[0m\u001b[0mforce_remount\u001b[0m\u001b[0;34m,\u001b[0m\u001b[0;34m\u001b[0m\u001b[0;34m\u001b[0m\u001b[0m\n",
            "\u001b[0;32m/usr/local/lib/python3.12/dist-packages/google/colab/drive.py\u001b[0m in \u001b[0;36m_mount\u001b[0;34m(mountpoint, force_remount, timeout_ms, ephemeral, readonly)\u001b[0m\n\u001b[1;32m    270\u001b[0m             \u001b[0;34m'https://research.google.com/colaboratory/faq.html#drive-timeout'\u001b[0m\u001b[0;34m\u001b[0m\u001b[0;34m\u001b[0m\u001b[0m\n\u001b[1;32m    271\u001b[0m         )\n\u001b[0;32m--> 272\u001b[0;31m       \u001b[0;32mraise\u001b[0m \u001b[0mValueError\u001b[0m\u001b[0;34m(\u001b[0m\u001b[0;34m'mount failed'\u001b[0m \u001b[0;34m+\u001b[0m \u001b[0mextra_reason\u001b[0m\u001b[0;34m)\u001b[0m\u001b[0;34m\u001b[0m\u001b[0;34m\u001b[0m\u001b[0m\n\u001b[0m\u001b[1;32m    273\u001b[0m     \u001b[0;32melif\u001b[0m \u001b[0mcase\u001b[0m \u001b[0;34m==\u001b[0m \u001b[0;36m4\u001b[0m\u001b[0;34m:\u001b[0m\u001b[0;34m\u001b[0m\u001b[0;34m\u001b[0m\u001b[0m\n\u001b[1;32m    274\u001b[0m       \u001b[0;31m# Terminate the DriveFS binary before killing bash.\u001b[0m\u001b[0;34m\u001b[0m\u001b[0;34m\u001b[0m\u001b[0m\n",
            "\u001b[0;31mValueError\u001b[0m: mount failed"
          ]
        }
      ]
    },
    {
      "cell_type": "code",
      "source": [
        "import os\n",
        "import xml.etree.ElementTree as ET\n",
        "import pandas as pd\n",
        "import re  # To import the module for the regular expression\n",
        "import shutil # To operate on files and folders"
      ],
      "metadata": {
        "id": "Ojxy1ITDbNya"
      },
      "execution_count": null,
      "outputs": []
    },
    {
      "cell_type": "markdown",
      "source": [
        "# Data Exploration\n",
        "In this notebook, I will explore the dataset used for the person recognition project through drones. My goal is to analyze the content of the dataset, understand its characteristics, and apply necessary transformations (such as resizing, normalization, and creation of training and testing sets). This process is crucial to prepare the data so that it can be used for training deep learning models.\n",
        "\n",
        "The chosen dataset includes images of people taken by drones at different altitudes, and it is essential to analyze it to identify the labels, classes, and any anomalies in the data."
      ],
      "metadata": {
        "id": "-GZswgRNxKB2"
      }
    },
    {
      "cell_type": "markdown",
      "source": [
        "### Useful Functions"
      ],
      "metadata": {
        "id": "s3H2GlZdU3Om"
      }
    },
    {
      "cell_type": "code",
      "source": [
        "def read_file_csv(folder_path, filename): # To read a file csv in a folder\n",
        "  \"\"\"\n",
        "  Read a specific CSV file from a specified folder.\n",
        "\n",
        "  Args:\n",
        "    folder_path (str): Path to the folder containing the CSV file.\n",
        "    filename (str): Name of the CSV file.\n",
        "\n",
        "  Returns:\n",
        "    df (pd.DataFrame): DataFrame containing the data from the CSV file.\n",
        "  \"\"\"\n",
        "\n",
        "  filename_path = os.path.join(folder_path, filename)\n",
        "  print(\"Attempting to read:\", filename_path)\n",
        "  df_filename = pd.read_csv(filename_path)\n",
        "  print(\"File read successfully.\")\n",
        "\n",
        "  return df_filename"
      ],
      "metadata": {
        "id": "wqx7NP1GVCBM"
      },
      "execution_count": null,
      "outputs": []
    },
    {
      "cell_type": "code",
      "source": [
        "# Check if there are jpg images without associated xml files or vice versa, in which case we should delete these files.\n",
        "def check_image_xml_consistency(folder_path): # Check if xml and jpg files are associated\n",
        "  \"\"\"\n",
        "  Check if every image .jpg has a .xml file with the same name and viceversa.\n",
        "\n",
        "  Args:\n",
        "    folder_path (str): path of the folder containing images and xml annotations.\n",
        "\n",
        "  Returns:\n",
        "    dict: dictionary that contain images without xml and xml without any associated image.\n",
        "  \"\"\"\n",
        "  jpg_files = {os.path.splitext(f)[0] for f in os.listdir(folder_path) if f.lower().endswith('.jpg')}\n",
        "  xml_files = {os.path.splitext(f)[0] for f in os.listdir(folder_path) if f.lower().endswith('.xml')}\n",
        "\n",
        "  images_without_xml = sorted(jpg_files - xml_files)\n",
        "  xml_without_images = sorted(xml_files - jpg_files)\n",
        "\n",
        "  print(f\"Total images: {len(jpg_files)}\")\n",
        "  print(f\"Total XML files: {len(xml_files)}\")\n",
        "  print(f\"Images without matching XML: {len(images_without_xml)}\")\n",
        "  print(f\"XML files without matching image: {len(xml_without_images)}\")\n",
        "\n",
        "  return {\n",
        "    \"images_without_xml\": images_without_xml,\n",
        "    \"xml_without_images\": xml_without_images\n",
        "  }\n",
        "\n",
        "# HOW TO BEHAVE:\n",
        "#### If the .jpg image does not have the associated .xml file:\n",
        "# -> if it is from the SARD dataset (delete it).\n",
        "# -> if it is from the Herida dataset keep it valid as a negative image (without objects), include it in the CSV file with class = no_person or similar\n",
        "#\n",
        "#### If the .xml file does not have the associated .jpg image:\n",
        "# -> the .xml file is useless and is likely to generate errors in the parser (delete it)"
      ],
      "metadata": {
        "id": "c77lHlsNVCc9"
      },
      "execution_count": null,
      "outputs": []
    },
    {
      "cell_type": "code",
      "source": [
        "def check_image_dimensions_consistency(file_csv): # Check if all the images have the same dimensions\n",
        "  \"\"\"\n",
        "  Check if all images in the CSV have the same dimensions (width, height).\n",
        "\n",
        "  Args:\n",
        "    file_csv (str): path to csv which contains columns 'filename', 'width' and 'height'.\n",
        "\n",
        "  Returns:\n",
        "    pd.DataFrame: different dimensions found with count.\n",
        "  \"\"\"\n",
        "  df = pd.read_csv(file_csv)\n",
        "\n",
        "  for col in ['width', 'height']:\n",
        "    df[col] = pd.to_numeric(df[col], errors='coerce')\n",
        "\n",
        "  # dedup by filename to avoid multiple bboxes\n",
        "  dfu = df[['filename','width','height']].drop_duplicates()\n",
        "  dimension_counts = dfu.groupby(['width', 'height'])['filename'].nunique().reset_index(name='image_count')\n",
        "\n",
        "  if len(dimension_counts) == 1:\n",
        "    print(f\"All images have the same size: {dimension_counts.iloc[0]['width']}x{dimension_counts.iloc[0]['height']}\")\n",
        "  else:\n",
        "    print(f\"Found {len(dimension_counts)} different image sizes:\")\n",
        "    print(dimension_counts)\n",
        "\n",
        "  return dimension_counts"
      ],
      "metadata": {
        "id": "msw8KqjdVCwD"
      },
      "execution_count": null,
      "outputs": []
    },
    {
      "cell_type": "code",
      "source": [
        "# Note on the \"not_defined\" label:\n",
        "# In the SARD dataset, the \"not_defined\" label is used when a person is clearly present in the image,but their activity or posture\n",
        "#  cannot be reliably classified (e.g., due to occlusion or ambiguity).\n",
        "# Since my task is person detection (i.e., detecting the presence of a person, regardless of their behavior), I decided to treat\n",
        "#  all \"not_defined\" annotations as valid person instances.\n",
        "# This avoids undercounting people in cases where the action is unclear but their presence is certain.\n",
        "\n",
        "def classify_image_annotation_quality(file_csv, dataset_folder, min_pixels=8, min_ratio=0.01): # To find suspicious images\n",
        "  \"\"\"\n",
        "    Classify images into 3 categories using a size-based heuristic:\n",
        "\n",
        "    1) case1_all_suspicious:\n",
        "       Every bounding box in the image is considered \"small\".\n",
        "       A bbox is \"small\" if:\n",
        "        - its width < min_pixels OR its height < min_pixels, OR\n",
        "        - (only if 'width' and 'height' image columns are available in the CSV)\n",
        "          its relative size is small: (bbox_w / img_width < min_ratio) OR (bbox_h / img_height < min_ratio).\n",
        "\n",
        "    2) case2_some_suspicious:\n",
        "       At least one bbox in the image is \"small\", but not all.\n",
        "\n",
        "    3) case3_no_annotations:\n",
        "       The image file exists in 'dataset_folder' but does not appear in the CSV (i.e., no annotation rows).\n",
        "\n",
        "  Args:\n",
        "    file_csv (str): Path to the CSV with columns ['filename','xmin','ymin','xmax','ymax'] and optionally ['width','height'] (image size).\n",
        "    dataset_folder (str): Folder containing the image files.\n",
        "    min_pixels (int): Minimum bbox size in pixels (width or height) to be considered valid.\n",
        "    min_ratio (float): Minimum relative bbox size (vs image size) to be considered valid.\n",
        "  \"\"\"\n",
        "  df = pd.read_csv(file_csv)\n",
        "\n",
        "  # Conversion of numerical coordinates\n",
        "  for c in ['xmin','ymin','xmax','ymax','width','height']:\n",
        "    if c in df: df[c] = pd.to_numeric(df[c], errors='coerce')\n",
        "\n",
        "  # If width/height are not in the CSV, skip the ratio check\n",
        "  has_wh = {'width','height'}.issubset(df.columns)\n",
        "\n",
        "  df['bbox_w'] = df['xmax'] - df['xmin']\n",
        "  df['bbox_h'] = df['ymax'] - df['ymin']\n",
        "  small_pixel = (df['bbox_w'] < min_pixels) | (df['bbox_h'] < min_pixels)\n",
        "  small_ratio = False\n",
        "  if has_wh:\n",
        "    small_ratio = ((df['bbox_w'] / df['width'] < min_ratio) | (df['bbox_h'] / df['height'] < min_ratio))\n",
        "  df['suspicious'] = small_pixel | small_ratio\n",
        "\n",
        "  # Assemble images\n",
        "  grouped = df.groupby('filename')['suspicious']\n",
        "\n",
        "  case1_all_suspicious = set(grouped.all()[grouped.all()].index)  # All boxes are sus\n",
        "  case2_some_suspicious = set((grouped.any() & ~grouped.all())[ (grouped.any() & ~grouped.all()) ].index)  # just some boxes are sus\n",
        "\n",
        "  # All images annotated\n",
        "  annotated_images = set(df['filename'].unique())\n",
        "\n",
        "  # All images in the folder\n",
        "  all_images = {f for f in os.listdir(dataset_folder) if f.endswith('.jpg')}\n",
        "\n",
        "  # Images not annotated (no raw in the csv)\n",
        "  case3_no_annotations = all_images - annotated_images\n",
        "\n",
        "  return {\n",
        "    \"case1_all_suspicious\": case1_all_suspicious, # I'll treat these as if they were empty images\n",
        "    \"case2_some_suspicious\": case2_some_suspicious,\n",
        "    \"case3_no_annotations\": case3_no_annotations # these are empty images\n",
        "  }"
      ],
      "metadata": {
        "id": "JdvgBKkaTEqF"
      },
      "execution_count": null,
      "outputs": []
    },
    {
      "cell_type": "code",
      "source": [
        "def infer_indexing_from_csv_verbose(csv_path, thresh=0.2):\n",
        "  cols = ['xmin','ymin','xmax','ymax','width','height']\n",
        "  df = pd.read_csv(csv_path)  # load everything\n",
        "\n",
        "  # robustness: guarantee numerical\n",
        "  for c in cols:\n",
        "    if c in df: df[c] = pd.to_numeric(df[c], errors='coerce')\n",
        "\n",
        "  # indicative fractions (booleans -> 1/0 -> .mean() = % True)\n",
        "  frac_min0 = ((df['xmin'] == 0) | (df['ymin'] == 0)).mean()\n",
        "  frac_min1 = ((df['xmin'] == 1) | (df['ymin'] == 1)).mean()\n",
        "\n",
        "  if {'xmax','width'}.issubset(df.columns):\n",
        "    frac_max_eq_w = (df['xmax'] == df['width']).mean()\n",
        "  else:\n",
        "    frac_max_eq_w = 0.0\n",
        "\n",
        "  if {'ymax','height'}.issubset(df.columns):\n",
        "    frac_max_eq_h = (df['ymax'] == df['height']).mean()\n",
        "  else:\n",
        "    frac_max_eq_h = 0.0\n",
        "\n",
        "  likely_voc_1based = (frac_min1 > thresh) or (max(frac_max_eq_w, frac_max_eq_h) > thresh)\n",
        "  likely_0based     = (frac_min0 > thresh)\n",
        "\n",
        "  if likely_voc_1based and not likely_0based:\n",
        "    idx = \"1-based\"\n",
        "  elif likely_0based and not likely_voc_1based:\n",
        "    idx = \"0-based\"\n",
        "  else:\n",
        "    idx = \"ambiguous\"\n",
        "\n",
        "  return {\n",
        "    \"indexing\": idx,\n",
        "    \"frac_min0\": float(frac_min0),\n",
        "    \"frac_min1\": float(frac_min1),\n",
        "    \"frac_max_eq_w\": float(frac_max_eq_w),\n",
        "    \"frac_max_eq_h\": float(frac_max_eq_h),\n",
        "    \"threshold\": float(thresh),\n",
        "    \"rows_used\": int(len(df))\n",
        "  }"
      ],
      "metadata": {
        "id": "uLghUZb6UI4k"
      },
      "execution_count": null,
      "outputs": []
    },
    {
      "cell_type": "code",
      "source": [
        "# To check if bounding boxes in CSV are out of bounds for images\n",
        "def check_bboxes_out_of_bounds_from_csv(file_csv, voc_one_indexed=True): # When converting to 0-based, you can call with voc_one_indexed=False\n",
        "  \"\"\"\n",
        "  Check if bounding boxes in CSV are out of bounds for images.\n",
        "\n",
        "  Args:\n",
        "    file_csv (str): Path to CSV with columns: xmin, ymin, xmax, ymax, width, height.\n",
        "    voc_one_indexed (bool): Whether the CSV is 1-based (VOC format) or 0-based.\n",
        "\n",
        "  Returns:\n",
        "    invalid_rows (pd.DataFrame): Annotations with bbox out of bounds.\n",
        "  \"\"\"\n",
        "  df = pd.read_csv(file_csv)\n",
        "\n",
        "  # Make sure the fields are numeric\n",
        "  for col in ['xmin', 'ymin', 'xmax', 'ymax', 'width', 'height']:\n",
        "    df[col] = pd.to_numeric(df[col], errors='coerce')\n",
        "\n",
        "  \"\"\" QUELLO CHE C'ERA PRIMA\n",
        "    # Create mask for bbox out of bounds\n",
        "    out_of_bounds_mask = ~(\n",
        "      (df['xmin'] >= 0) &\n",
        "      (df['ymin'] >= 0) &\n",
        "      (df['xmax'] <= df['width']) &\n",
        "      (df['ymax'] <= df['height']) &\n",
        "      (df['xmax'] > df['xmin']) &\n",
        "      (df['ymax'] > df['ymin'])\n",
        "    )\n",
        "\n",
        "    invalid_rows = df[out_of_bounds_mask].copy()\n",
        "\n",
        "    print(f\"Checked all entries. Found {len(invalid_rows)} invalid bounding boxes.\")\n",
        "    return invalid_rows\n",
        "  \"\"\"\n",
        "  # to avoid false “out-of-bounds” on the edges (common with drones from above)\n",
        "  min_ok = 1 if voc_one_indexed else 0\n",
        "  lb_ok = (df['xmin'] >= min_ok) & (df['ymin'] >= min_ok)\n",
        "  ub_ok = (df['xmax'] <= df['width']) & (df['ymax'] <= df['height'])\n",
        "  shape_ok = (df['xmax'] > df['xmin']) & (df['ymax'] > df['ymin'])\n",
        "\n",
        "  invalid_rows = df[~(lb_ok & ub_ok & shape_ok)].copy()\n",
        "  print(f\"Checked all entries. Found {len(invalid_rows)} invalid bounding boxes.\")\n",
        "\n",
        "  return invalid_rows"
      ],
      "metadata": {
        "id": "YX1iyh23TE_F"
      },
      "execution_count": null,
      "outputs": []
    },
    {
      "cell_type": "code",
      "source": [],
      "metadata": {
        "id": "qh2AKRU0bXw2"
      },
      "execution_count": null,
      "outputs": []
    },
    {
      "cell_type": "code",
      "source": [
        "def is_image_present(folder_path, image_name): # To check if an image is present or not\n",
        "  \"\"\"\n",
        "  Checks whether an image file is present in the folder.\n",
        "\n",
        "  Args:\n",
        "    folder_path (str): Path to the folder.\n",
        "    image_name (str): Name of the file es. 'img001.jpg'.\n",
        "\n",
        "  Returns:\n",
        "    bool: True if the file is present, False otherwise.\n",
        "  \"\"\"\n",
        "  return os.path.isfile(os.path.join(folder_path, image_name))"
      ],
      "metadata": {
        "id": "UQ3fzxGMotmv"
      },
      "execution_count": null,
      "outputs": []
    },
    {
      "cell_type": "code",
      "source": [
        "def parse_xml_annotations(xml_folder): # Read all the XML files in a folder and return a pandas DataFrame with the annotations in them\n",
        "  \"\"\"\n",
        "  Parses annotation data from all XML files in a given folder and returns a DataFrame containing object labels and bounding boxes.\n",
        "\n",
        "  Args:\n",
        "    xml_folder (str): Path to the folder containing XML annotation files.\n",
        "\n",
        "  Returns:\n",
        "    pandas.DataFrame: A DataFrame with columns ['filename', 'class', 'xmin', 'ymin', 'xmax', 'ymax']\n",
        "    containing all annotations extracted from the XML files.\n",
        "  \"\"\"\n",
        "  annotations = []\n",
        "\n",
        "  for file in os.listdir(xml_folder):\n",
        "    if file.endswith('.xml'):\n",
        "      xml_path = os.path.join(xml_folder, file)\n",
        "      try:\n",
        "        tree = ET.parse(xml_path)\n",
        "        root = tree.getroot()\n",
        "\n",
        "        filename = root.find('filename').text.strip()\n",
        "        for obj in root.findall('object'):\n",
        "          label = obj.find('name').text.strip().lower()\n",
        "          bbox = obj.find('bndbox')\n",
        "          xmin = int(bbox.find('xmin').text)\n",
        "          ymin = int(bbox.find('ymin').text)\n",
        "          xmax = int(bbox.find('xmax').text)\n",
        "          ymax = int(bbox.find('ymax').text)\n",
        "\n",
        "          annotations.append({\n",
        "            'filename': filename,\n",
        "            'class': label,\n",
        "            'xmin': xmin,\n",
        "            'ymin': ymin,\n",
        "            'xmax': xmax,\n",
        "            'ymax': ymax\n",
        "          })\n",
        "\n",
        "      except ET.ParseError:\n",
        "        print(f\"Warning: Failed to parse {xml_path}\")\n",
        "\n",
        "  return pd.DataFrame(annotations)\n",
        "\n",
        "\n",
        "\n",
        "\n",
        "def check_csv_vs_xml_annotations(folder_path, csv_filename): # Check if the csv annotations match the xml files\n",
        "  \"\"\"\n",
        "  Compares object annotations in a CSV file against annotations found in XML files.\n",
        "\n",
        "  Args:\n",
        "    folder_path (str): Path to the folder containing both the CSV and XML files.\n",
        "    csv_filename (str): Name of the CSV file to validate.\n",
        "\n",
        "  Returns:\n",
        "    dict: Summary with:\n",
        "      - 'matched': Number of matched annotation rows.\n",
        "      - 'only_in_csv': Number of unmatched rows only in CSV.\n",
        "      - 'only_in_xml': Number of unmatched rows only in XML.\n",
        "      - 'files_only_in_csv': Set of filenames found only in the CSV.\n",
        "      - 'files_only_in_xml': Set of filenames found only in the XML.\n",
        "  \"\"\"\n",
        "  csv_path = os.path.join(folder_path, csv_filename)\n",
        "  df_csv = pd.read_csv(csv_path)\n",
        "  df_xml = parse_xml_annotations(folder_path)\n",
        "\n",
        "  # Normalize filename and class\n",
        "  df_csv['filename'] = df_csv['filename'].astype(str).str.strip()\n",
        "  df_csv['class'] = df_csv['class'].astype(str).str.strip().str.lower()\n",
        "\n",
        "  merged = pd.merge(\n",
        "    df_csv,\n",
        "    df_xml,\n",
        "    how='outer',\n",
        "    on=['filename', 'class', 'xmin', 'ymin', 'xmax', 'ymax'],\n",
        "    indicator=True\n",
        "  )\n",
        "\n",
        "  # Identifica i filename con mismatch\n",
        "  only_csv_filenames = set(merged[merged['_merge'] == 'left_only']['filename'])\n",
        "  only_xml_filenames = set(merged[merged['_merge'] == 'right_only']['filename'])\n",
        "\n",
        "  return {\n",
        "    'matched': merged['_merge'].value_counts().get('both', 0),\n",
        "    'only_in_csv': merged['_merge'].value_counts().get('left_only', 0),\n",
        "    'only_in_xml': merged['_merge'].value_counts().get('right_only', 0),\n",
        "    'files_only_in_csv': sorted(only_csv_filenames),\n",
        "    'files_only_in_xml': sorted(only_xml_filenames)\n",
        "  }"
      ],
      "metadata": {
        "id": "YS8xy8KGmKPT"
      },
      "execution_count": null,
      "outputs": []
    },
    {
      "cell_type": "code",
      "source": [
        "def preview_dataset_cleaning(csv_files, images_to_remove):\n",
        "  \"\"\"\n",
        "  Shows which rows would be removed from CSVs without editing them.\n",
        "\n",
        "  Args:\n",
        "    csv_files (list of str): CSV Paths\n",
        "    images_to_remove (list or set): Names of files to be removed\n",
        "  \"\"\"\n",
        "  results = {}\n",
        "  for csv_file in csv_files:\n",
        "    df = pd.read_csv(csv_file)\n",
        "    hits = df[df['filename'].isin(images_to_remove)]\n",
        "    print(f\"\\n {csv_file}: {len(hits)} rows to remove\")\n",
        "    print(\"Filenames involved:\", hits['filename'].unique())\n",
        "    results[csv_file] = {'rows': len(hits), 'filenames': hits['filename'].unique()}\n",
        "\n",
        "  return results"
      ],
      "metadata": {
        "id": "Agk9T3Fs7W4x"
      },
      "execution_count": null,
      "outputs": []
    },
    {
      "cell_type": "code",
      "source": [
        "def clean_dataset(folder, csv_files, images_to_remove): # To delete images and xml file (also in the csv)\n",
        "  \"\"\"\n",
        "  Delete images and XML files, and directly remove related rows from original CSV files.\n",
        "\n",
        "  Args:\n",
        "    folder (str): Path to folder containing .jpg and xml files.\n",
        "    csv_files (list of str): List of paths to CSV files to clean.\n",
        "    images_to_remove (list or set): Filenames (e.g., 'gss1128.jpg') to remove.\n",
        "  \"\"\"\n",
        "  deleted_images = []\n",
        "  deleted_xmls = []\n",
        "  removed_csv_rows = {}\n",
        "\n",
        "  # 1. Delete image and XML files\n",
        "  for image in images_to_remove:\n",
        "    image_path = os.path.join(folder, image)\n",
        "    xml_path = os.path.join(folder, os.path.splitext(image)[0] + '.xml')\n",
        "\n",
        "    if os.path.exists(image_path):\n",
        "      os.remove(image_path)\n",
        "      deleted_images.append(image)\n",
        "    else:\n",
        "      print(f\"Image not found: {image}\")\n",
        "\n",
        "    if os.path.exists(xml_path):\n",
        "      os.remove(xml_path)\n",
        "      deleted_xmls.append(os.path.basename(xml_path))\n",
        "    else:\n",
        "      print(f\"XML not found: {os.path.basename(xml_path)}\")\n",
        "\n",
        "  # 2. Remove related rows directly from original CSV files\n",
        "  for csv_file in csv_files:\n",
        "    df = pd.read_csv(csv_file)\n",
        "    initial_len = len(df)\n",
        "\n",
        "    # Print the rows will be deleted\n",
        "    hits = df[df['filename'].isin(images_to_remove)]\n",
        "    removed_csv_rows[csv_file] = list(hits['filename'].unique())\n",
        "    print(f\"\\nCheck on {csv_file}: {len(hits)} rows to delete\")\n",
        "    print(\"Filenames:\", hits['filename'].unique())\n",
        "\n",
        "    # Drop rows with matching filenames\n",
        "    df = df[~df['filename'].isin(images_to_remove)] # ~ boolean negation operator\n",
        "    # .isin(): to control if each element in a column is present in a list, set, ecc\n",
        "\n",
        "    # Overwrite the original CSV file\n",
        "    df.to_csv(csv_file, index=False)\n",
        "\n",
        "    print(f\"Updated {csv_file}: {initial_len - len(df)} rows removed\")\n",
        "\n",
        "  return {\n",
        "    \"deleted_images\": deleted_images,\n",
        "    \"deleted_xmls\": deleted_xmls,\n",
        "    \"removed_csv_rows\": removed_csv_rows\n",
        "  }"
      ],
      "metadata": {
        "id": "sGKweCPX7hFV"
      },
      "execution_count": null,
      "outputs": []
    },
    {
      "cell_type": "code",
      "source": [
        "def analyze_dataset_annotations(file_csv, dataset_folder):  # Basic Analysis of the dataset\n",
        "  \"\"\"\n",
        "  Analize the csv file and verify if there are images (.jpg) without annotation\n",
        "  \"\"\"\n",
        "  df = pd.read_csv(file_csv)\n",
        "\n",
        "  # Count the number of annotations for each class\n",
        "  count_labels = df['class'].value_counts()\n",
        "\n",
        "  # Number of bounding box per image\n",
        "  bboxes_per_image = df.groupby('filename').size()\n",
        "  number_bboxes_per_image = bboxes_per_image.value_counts().sort_index()\n",
        "\n",
        "  # All the images annotated in the csv\n",
        "  annotated_images = set(df['filename'].unique())\n",
        "\n",
        "  # All images in the folder\n",
        "  all_images = {f for f in os.listdir(dataset_folder) if f.endswith('.jpg')}\n",
        "\n",
        "  # Images without any annotation in csv file\n",
        "  images_without_annotations = all_images - annotated_images\n",
        "\n",
        "  return {\n",
        "    \"label_count\": count_labels,\n",
        "    \"distribution_of_bbox\": number_bboxes_per_image,\n",
        "    \"number_images_annotated\": len(annotated_images),\n",
        "    \"number_all_images\": len(all_images),\n",
        "    \"number_images_without_annotations\": len(images_without_annotations),\n",
        "    \"images_without_annotations\": images_without_annotations # Useful for debug or to remove them\n",
        "  }"
      ],
      "metadata": {
        "id": "CYMwAVceL3RF"
      },
      "execution_count": null,
      "outputs": []
    },
    {
      "cell_type": "markdown",
      "source": [
        "## Dataset SARD:"
      ],
      "metadata": {
        "id": "emi0h87Ixxnd"
      }
    },
    {
      "cell_type": "markdown",
      "source": [
        "This dataset was built for detecting casualties and persons in search and rescue scenarios in drone images and videos. \\\n",
        "The actors in the footage have simulate exhausted and injured persons as well as \"classic\" types of movement of people in nature, such as running, walking, standing, sitting, or lying down. \\\n",
        "The shots include persons on macadam roads, in quarries, low and high grass, forest shade, and the like."
      ],
      "metadata": {
        "id": "XBcBPzYW7hHz"
      }
    },
    {
      "cell_type": "code",
      "source": [
        "# os.chdir('../') # to change the directory (../ is the start)\n",
        "os.chdir('/content/drive/MyDrive/projectUPV/datasets/SARD_dataset/SARD') # the directory with the dataset\n",
        "print(os.getcwd()) # to see in which directory we are\n",
        "# print(os.listdir()) # to see what there is in the current directory (add the path inside the () to see the content of another directory)"
      ],
      "metadata": {
        "id": "aNNKrAeRzbUw",
        "outputId": "45227182-858a-417f-853f-e1c91ba808e3",
        "colab": {
          "base_uri": "https://localhost:8080/"
        }
      },
      "execution_count": null,
      "outputs": [
        {
          "output_type": "stream",
          "name": "stdout",
          "text": [
            "/content/drive/.shortcut-targets-by-id/1LQbD7p_iS5KLqGNdfrYEvsAx0i_bgB0h/projectUPV/datasets/SARD_dataset/SARD\n"
          ]
        }
      ]
    },
    {
      "cell_type": "code",
      "source": [
        "folder_path_sard = '/content/drive/MyDrive/projectUPV/datasets/SARD_dataset/SARD'"
      ],
      "metadata": {
        "id": "W5FJfhsSrjYL"
      },
      "execution_count": null,
      "outputs": []
    },
    {
      "cell_type": "markdown",
      "source": [
        "We start the cleaning process by checking if there are images without an associated XML file or vice versa:"
      ],
      "metadata": {
        "id": "sXqOT_hp7wpL"
      }
    },
    {
      "cell_type": "code",
      "source": [
        "sard_dataset_path = '/content/drive/MyDrive/projectUPV/datasets/SARD_dataset/SARD'\n",
        "inconsistencies_sard = check_image_xml_consistency(sard_dataset_path)\n",
        "\n",
        "# Let's see which files aren't matching\n",
        "total_unmatched_sard = len(inconsistencies_sard[\"images_without_xml\"]) + len(inconsistencies_sard[\"xml_without_images\"])\n",
        "print(\"Total unmatched files:\", total_unmatched_sard)\n",
        "\n",
        "print(\"\\nImages without XML:\")\n",
        "for f in inconsistencies_sard['images_without_xml']:\n",
        "  print(f\"  - {f}.jpg\")\n",
        "\n",
        "print(\"\\nXML files without image:\")\n",
        "for f in inconsistencies_sard['xml_without_images']:\n",
        "  print(f\"  - {f}.xml\")\n"
      ],
      "metadata": {
        "id": "TK7haQ7aSgCU",
        "outputId": "28b9c70d-00a9-4b57-f5c4-3e784798033d",
        "colab": {
          "base_uri": "https://localhost:8080/"
        }
      },
      "execution_count": null,
      "outputs": [
        {
          "output_type": "stream",
          "name": "stdout",
          "text": [
            "Total images: 1983\n",
            "Total XML files: 1981\n",
            "Images without matching XML: 2\n",
            "XML files without matching image: 0\n",
            "Total unmatched files: 2\n",
            "\n",
            "Images without XML:\n",
            "  - gss1128.jpg\n",
            "  - gss806.jpg\n",
            "\n",
            "XML files without image:\n"
          ]
        }
      ]
    },
    {
      "cell_type": "markdown",
      "source": [
        "We notice that 2 images do not have an associated XML file. These images are:\n",
        "- gss1128.jpg\n",
        "- gss806.jpg\n",
        "\n",
        "And there are No XML files without an associated image."
      ],
      "metadata": {
        "id": "O3l6VgJMcqv0"
      }
    },
    {
      "cell_type": "code",
      "source": [
        "is_image_present(sard_dataset_path, \"gss806.jpg\")"
      ],
      "metadata": {
        "id": "KLkYqwtBpTts",
        "outputId": "93da1180-01db-4789-efb3-745b8a0caeb3",
        "colab": {
          "base_uri": "https://localhost:8080/"
        }
      },
      "execution_count": null,
      "outputs": [
        {
          "output_type": "execute_result",
          "data": {
            "text/plain": [
              "True"
            ]
          },
          "metadata": {},
          "execution_count": 42
        }
      ]
    },
    {
      "cell_type": "code",
      "source": [
        "is_image_present(sard_dataset_path, \"gss1128.jpg\")"
      ],
      "metadata": {
        "colab": {
          "base_uri": "https://localhost:8080/"
        },
        "id": "fqQ9O-kwtZMm",
        "outputId": "1180fc2f-2271-41e3-9b97-875d369666a2"
      },
      "execution_count": null,
      "outputs": [
        {
          "output_type": "execute_result",
          "data": {
            "text/plain": [
              "True"
            ]
          },
          "metadata": {},
          "execution_count": 43
        }
      ]
    },
    {
      "cell_type": "markdown",
      "source": [
        "Now we want to delete these files cause are useless:"
      ],
      "metadata": {
        "id": "VkDX4bK-sdEm"
      }
    },
    {
      "cell_type": "code",
      "source": [
        "print(\"Images without XML:\", len(inconsistencies_sard['images_without_xml']), \"   are: \", inconsistencies_sard['images_without_xml'])\n",
        "\n",
        "def delete_orphan_files(folder_path, orphan_xml_basenames): # to delete the images without xml files associated\n",
        "  \"\"\"\n",
        "  Delete JPG files that are not associated with any XML file.\n",
        "\n",
        "  Args:\n",
        "    folder_path (str): Path to the folder containing the files.\n",
        "    orphan_xml_basenames (list or set): List of base filenames (without extension) for orphan JPGs.\n",
        "  \"\"\"\n",
        "  for img_base in orphan_xml_basenames:\n",
        "    img_path = os.path.join(folder_path, img_base + '.jpg')\n",
        "    if os.path.exists(img_path):\n",
        "      os.remove(img_path)\n",
        "      print(f\"Deleted: {img_base}.jpg\")\n",
        "\n",
        "\n",
        "delete_orphan_files(sard_dataset_path, inconsistencies_sard['images_without_xml'])"
      ],
      "metadata": {
        "colab": {
          "base_uri": "https://localhost:8080/"
        },
        "id": "zViBIRaooFVL",
        "outputId": "5e363b23-3662-43f8-d067-1f15ecb168c8"
      },
      "execution_count": null,
      "outputs": [
        {
          "output_type": "stream",
          "name": "stdout",
          "text": [
            "Images without XML: 2    are:  ['gss1128', 'gss806']\n",
            "Deleted: gss1128.jpg\n",
            "Deleted: gss806.jpg\n"
          ]
        }
      ]
    },
    {
      "cell_type": "code",
      "source": [
        "is_image_present(sard_dataset_path, \"gss806.jpg\")"
      ],
      "metadata": {
        "colab": {
          "base_uri": "https://localhost:8080/"
        },
        "id": "7oetkemBuLt_",
        "outputId": "5f5a4acf-822c-4c31-97e6-843ecc9343a6"
      },
      "execution_count": null,
      "outputs": [
        {
          "output_type": "execute_result",
          "data": {
            "text/plain": [
              "False"
            ]
          },
          "metadata": {},
          "execution_count": 45
        }
      ]
    },
    {
      "cell_type": "code",
      "source": [
        "is_image_present(sard_dataset_path, \"gss1128.jpg\")"
      ],
      "metadata": {
        "colab": {
          "base_uri": "https://localhost:8080/"
        },
        "id": "z1IZoZLot8WX",
        "outputId": "d0d27723-decb-45c6-d0f9-4e08011c33f6"
      },
      "execution_count": null,
      "outputs": [
        {
          "output_type": "execute_result",
          "data": {
            "text/plain": [
              "False"
            ]
          },
          "metadata": {},
          "execution_count": 46
        }
      ]
    },
    {
      "cell_type": "markdown",
      "source": [
        "Now we delete the other 3 files:"
      ],
      "metadata": {
        "id": "sqv-vD0n3A-Z"
      }
    },
    {
      "cell_type": "code",
      "source": [
        "# is_image_present(sard_dataset_path, \"gss974 (1).jpg\")"
      ],
      "metadata": {
        "id": "cjr0EMN42-dD"
      },
      "execution_count": null,
      "outputs": []
    },
    {
      "cell_type": "code",
      "source": [
        "# is_image_present(sard_dataset_path, \"gss98 (1).jpg\")"
      ],
      "metadata": {
        "id": "090vvtxK2-KZ"
      },
      "execution_count": null,
      "outputs": []
    },
    {
      "cell_type": "code",
      "source": [
        "# is_image_present(sard_dataset_path, \"gss99 (1).jpg\")"
      ],
      "metadata": {
        "id": "nceMXPQ12-B6"
      },
      "execution_count": null,
      "outputs": []
    },
    {
      "cell_type": "code",
      "source": [
        "print(\"Images without XML:\", len(inconsistencies_sard['xml_without_images']), \"   are: \", inconsistencies_sard['xml_without_images'])\n",
        "\n",
        "def delete_orphan_xml_files(folder_path, orphan_xml_basenames):  # to delete the xml files without images associated\n",
        "  \"\"\"\n",
        "  Delete XML files that don't have a corresponding .jpg image.\n",
        "\n",
        "  Args:\n",
        "    folder_path (str): Path to the dataset folder.\n",
        "    orphan_xml_basenames (list or set): List of base filenames (without extension) for orphan XMLs.\n",
        "  \"\"\"\n",
        "  for xml_base in orphan_xml_basenames:\n",
        "    xml_path = os.path.join(folder_path, xml_base + '.xml')\n",
        "    if os.path.exists(xml_path):\n",
        "      os.remove(xml_path)\n",
        "      print(f\"Deleted: {xml_base}.xml\")\n",
        "    else:\n",
        "      print(f\"File not found (already deleted?): {xml_base}.xml\")\n",
        "\n",
        "\n",
        "# delete_orphan_xml_files(sard_dataset_path, inconsistencies_sard['xml_without_images'])"
      ],
      "metadata": {
        "id": "qfO-kTwz3GEq",
        "outputId": "45da6e4f-1bb0-41af-9d3c-f6e5b801cb72",
        "colab": {
          "base_uri": "https://localhost:8080/"
        }
      },
      "execution_count": null,
      "outputs": [
        {
          "output_type": "stream",
          "name": "stdout",
          "text": [
            "Images without XML: 0    are:  []\n"
          ]
        }
      ]
    },
    {
      "cell_type": "code",
      "source": [
        "# is_image_present(sard_dataset_path, \"gss974 (1).jpg\")"
      ],
      "metadata": {
        "id": "f9Ti5-Nr294V"
      },
      "execution_count": null,
      "outputs": []
    },
    {
      "cell_type": "code",
      "source": [
        "# is_image_present(sard_dataset_path, \"gss98 (1).jpg\")"
      ],
      "metadata": {
        "id": "7EApauon29hl"
      },
      "execution_count": null,
      "outputs": []
    },
    {
      "cell_type": "code",
      "source": [
        "# is_image_present(sard_dataset_path, \"gss99 (1).jpg\")"
      ],
      "metadata": {
        "id": "Fsaz0PLe3Imx"
      },
      "execution_count": null,
      "outputs": []
    },
    {
      "cell_type": "markdown",
      "source": [
        "Let's check if in the csv files are some rows about the deleted files. If so we need to delete them too:"
      ],
      "metadata": {
        "id": "RPinBcxtsjq_"
      }
    },
    {
      "cell_type": "code",
      "source": [
        "def check_removed_images_in_csv(csv_paths, removed_images): # To check if the csv files contains something about the images we removed\n",
        "  \"\"\"\n",
        "  Check if the deleted images are still present in the CSV files.\n",
        "\n",
        "  Args:\n",
        "    csv_paths (list of str): CSV paths to check.\n",
        "    removed_images (list or set): Names of image files to look for.\n",
        "  \"\"\"\n",
        "  for csv_file in csv_paths:\n",
        "    print(f\"\\nCheck in: {os.path.basename(csv_file)}\")\n",
        "    df = pd.read_csv(csv_file)\n",
        "\n",
        "    matches = df[df['filename'].isin(removed_images)]\n",
        "    if not matches.empty:\n",
        "      print(f\"Found {len(matches)} lines related to deleted images:\")\n",
        "      print(matches['filename'].unique())\n",
        "    else:\n",
        "      print(\"No lines to delete found.\")\n",
        "\n",
        "\n",
        "\n",
        "\n",
        "folder_path_sard = '/content/drive/MyDrive/projectUPV/datasets/SARD_dataset/SARD'\n",
        "\n",
        "csv_sard_labels_path = os.path.join(folder_path_sard, 'sard_labels.csv')\n",
        "csv_sard_person_labels_path = os.path.join(folder_path_sard, 'sard_person_labels.csv')\n",
        "csv_files = [csv_sard_labels_path, csv_sard_person_labels_path]\n",
        "\n",
        "removed_images_without_xml = inconsistencies_sard['images_without_xml']\n",
        "removed_xml_without_images = inconsistencies_sard['xml_without_images']\n",
        "\n",
        "check_removed_images_in_csv(csv_files, removed_images_without_xml)\n",
        "check_removed_images_in_csv(csv_files, removed_xml_without_images)"
      ],
      "metadata": {
        "colab": {
          "base_uri": "https://localhost:8080/"
        },
        "id": "pbwyYl6AvcQe",
        "outputId": "6603d4cb-dea0-4b96-820d-a2d57b324f8b"
      },
      "execution_count": null,
      "outputs": [
        {
          "output_type": "stream",
          "name": "stdout",
          "text": [
            "\n",
            "Check in: sard_labels.csv\n",
            "No lines to delete found.\n",
            "\n",
            "Check in: sard_person_labels.csv\n",
            "No lines to delete found.\n",
            "\n",
            "Check in: sard_labels.csv\n",
            "No lines to delete found.\n",
            "\n",
            "Check in: sard_person_labels.csv\n",
            "No lines to delete found.\n"
          ]
        }
      ]
    },
    {
      "cell_type": "code",
      "source": [
        "def find_really_empty_images_strict(dataset_path): # To find all the empty images\n",
        "  \"\"\"\n",
        "  Find images where bounding box coordinates are all very small (<= 3)\n",
        "\n",
        "  Args:\n",
        "    dataset_path (str): Path to dataset containing .jpg and .xml files.\n",
        "\n",
        "  Returns:\n",
        "    really_empty_images (set): Set of image filenames considered truly empty.\n",
        "  \"\"\"\n",
        "\n",
        "  really_empty_images = set()\n",
        "\n",
        "  for filename in os.listdir(dataset_path):\n",
        "    if filename.endswith('.xml'):\n",
        "      xml_path = os.path.join(dataset_path, filename)\n",
        "\n",
        "      try:\n",
        "        tree = ET.parse(xml_path)\n",
        "        root = tree.getroot()\n",
        "\n",
        "        labels = []\n",
        "        suspicious_bboxes = []\n",
        "\n",
        "        for obj in root.findall('object'):\n",
        "          label = obj.find('name').text.strip()\n",
        "          bndbox = obj.find('bndbox')\n",
        "          xmin = int(bndbox.find('xmin').text.strip())\n",
        "          ymin = int(bndbox.find('ymin').text.strip())\n",
        "          xmax = int(bndbox.find('xmax').text.strip())\n",
        "          ymax = int(bndbox.find('ymax').text.strip())\n",
        "\n",
        "          labels.append(label)\n",
        "          suspicious = (xmin <= 3 or ymin <= 3 or xmax <= 3 or ymax <= 3)\n",
        "          suspicious_bboxes.append(suspicious)\n",
        "\n",
        "        if labels and all(suspicious_bboxes):\n",
        "          image_filename = root.find('filename').text.strip()\n",
        "          really_empty_images.add(image_filename)\n",
        "\n",
        "      except ET.ParseError:\n",
        "        print(f\"Warning: Failed to parse {xml_path}\")\n",
        "\n",
        "  return really_empty_images\n",
        "\n",
        "sard_dataset_path = '/content/drive/MyDrive/projectUPV/datasets/SARD_dataset/SARD'\n",
        "really_empty_images = find_really_empty_images_strict(sard_dataset_path)\n",
        "\n",
        "print(\"There are \", len(really_empty_images), \" empty images\")\n",
        "print(\"Really empty images:\", really_empty_images)"
      ],
      "metadata": {
        "id": "7-97IjowPzul",
        "outputId": "fe7f42bc-be44-40ca-a521-406364455297",
        "colab": {
          "base_uri": "https://localhost:8080/"
        }
      },
      "execution_count": null,
      "outputs": [
        {
          "output_type": "stream",
          "name": "stdout",
          "text": [
            "There are  4  empty images\n",
            "Really empty images: {'gss1129.jpg', 'gss327.jpg', 'gss326.jpg', 'gss1138.jpg'}\n"
          ]
        }
      ]
    },
    {
      "cell_type": "markdown",
      "source": [
        "We read the CSV file containing annotation information from the XML files associated with the images:"
      ],
      "metadata": {
        "id": "4kN2q49ZhWe3"
      }
    },
    {
      "cell_type": "code",
      "source": [
        "# To read a specific file csv\n",
        "folder_path_sard = '/content/drive/MyDrive/projectUPV/datasets/SARD_dataset/SARD'\n",
        "\n",
        "# print(\"Files in directory:\", os.listdir(folder_path_sard))\n",
        "csv_files = [f for f in os.listdir(folder_path_sard) if f.lower().endswith('.csv')]\n",
        "print(\"CSV files:\", csv_files)\n",
        "\n",
        "read_file_csv(folder_path_sard, 'sard_labels.csv')"
      ],
      "metadata": {
        "id": "Ne3X5_nRas_r",
        "outputId": "5f539797-fa9b-452b-8378-b01c4cdd5155",
        "colab": {
          "base_uri": "https://localhost:8080/",
          "height": 460
        }
      },
      "execution_count": null,
      "outputs": [
        {
          "output_type": "stream",
          "name": "stdout",
          "text": [
            "CSV files: ['sard_labels.csv', 'sard_person_labels.csv']\n",
            "Attempting to read: /content/drive/MyDrive/projectUPV/datasets/SARD_dataset/SARD/sard_labels.csv\n"
          ]
        },
        {
          "output_type": "execute_result",
          "data": {
            "text/plain": [
              "         filename  width  height        class  xmin  ymin  xmax  ymax\n",
              "0     gss1299.jpg   1920    1080      Sitting   473   667   519   733\n",
              "1     gss1604.jpg   1920    1080  Not-defined   927   317   953   347\n",
              "2     gss1604.jpg   1920    1080  Not-defined   999   589  1033   636\n",
              "3      gss801.jpg   1920    1080  Not-defined   315   394   391   456\n",
              "4      gss501.jpg   1920    1080  Not-defined  1412   337  1453   376\n",
              "...           ...    ...     ...          ...   ...   ...   ...   ...\n",
              "6527   gss955.jpg   1920    1080     Standing   164   777   220   857\n",
              "6528   gss955.jpg   1920    1080        Lying  1094   664  1199   702\n",
              "6529   gss955.jpg   1920    1080      Sitting  1491   460  1516   489\n",
              "6530   gss955.jpg   1920    1080        Lying  1668   595  1720   625\n",
              "6531   gss955.jpg   1920    1080      Running  1823   615  1856   660\n",
              "\n",
              "[6532 rows x 8 columns]"
            ],
            "text/html": [
              "\n",
              "  <div id=\"df-e004c288-bf64-45bc-9d54-efde0e367115\" class=\"colab-df-container\">\n",
              "    <div>\n",
              "<style scoped>\n",
              "    .dataframe tbody tr th:only-of-type {\n",
              "        vertical-align: middle;\n",
              "    }\n",
              "\n",
              "    .dataframe tbody tr th {\n",
              "        vertical-align: top;\n",
              "    }\n",
              "\n",
              "    .dataframe thead th {\n",
              "        text-align: right;\n",
              "    }\n",
              "</style>\n",
              "<table border=\"1\" class=\"dataframe\">\n",
              "  <thead>\n",
              "    <tr style=\"text-align: right;\">\n",
              "      <th></th>\n",
              "      <th>filename</th>\n",
              "      <th>width</th>\n",
              "      <th>height</th>\n",
              "      <th>class</th>\n",
              "      <th>xmin</th>\n",
              "      <th>ymin</th>\n",
              "      <th>xmax</th>\n",
              "      <th>ymax</th>\n",
              "    </tr>\n",
              "  </thead>\n",
              "  <tbody>\n",
              "    <tr>\n",
              "      <th>0</th>\n",
              "      <td>gss1299.jpg</td>\n",
              "      <td>1920</td>\n",
              "      <td>1080</td>\n",
              "      <td>Sitting</td>\n",
              "      <td>473</td>\n",
              "      <td>667</td>\n",
              "      <td>519</td>\n",
              "      <td>733</td>\n",
              "    </tr>\n",
              "    <tr>\n",
              "      <th>1</th>\n",
              "      <td>gss1604.jpg</td>\n",
              "      <td>1920</td>\n",
              "      <td>1080</td>\n",
              "      <td>Not-defined</td>\n",
              "      <td>927</td>\n",
              "      <td>317</td>\n",
              "      <td>953</td>\n",
              "      <td>347</td>\n",
              "    </tr>\n",
              "    <tr>\n",
              "      <th>2</th>\n",
              "      <td>gss1604.jpg</td>\n",
              "      <td>1920</td>\n",
              "      <td>1080</td>\n",
              "      <td>Not-defined</td>\n",
              "      <td>999</td>\n",
              "      <td>589</td>\n",
              "      <td>1033</td>\n",
              "      <td>636</td>\n",
              "    </tr>\n",
              "    <tr>\n",
              "      <th>3</th>\n",
              "      <td>gss801.jpg</td>\n",
              "      <td>1920</td>\n",
              "      <td>1080</td>\n",
              "      <td>Not-defined</td>\n",
              "      <td>315</td>\n",
              "      <td>394</td>\n",
              "      <td>391</td>\n",
              "      <td>456</td>\n",
              "    </tr>\n",
              "    <tr>\n",
              "      <th>4</th>\n",
              "      <td>gss501.jpg</td>\n",
              "      <td>1920</td>\n",
              "      <td>1080</td>\n",
              "      <td>Not-defined</td>\n",
              "      <td>1412</td>\n",
              "      <td>337</td>\n",
              "      <td>1453</td>\n",
              "      <td>376</td>\n",
              "    </tr>\n",
              "    <tr>\n",
              "      <th>...</th>\n",
              "      <td>...</td>\n",
              "      <td>...</td>\n",
              "      <td>...</td>\n",
              "      <td>...</td>\n",
              "      <td>...</td>\n",
              "      <td>...</td>\n",
              "      <td>...</td>\n",
              "      <td>...</td>\n",
              "    </tr>\n",
              "    <tr>\n",
              "      <th>6527</th>\n",
              "      <td>gss955.jpg</td>\n",
              "      <td>1920</td>\n",
              "      <td>1080</td>\n",
              "      <td>Standing</td>\n",
              "      <td>164</td>\n",
              "      <td>777</td>\n",
              "      <td>220</td>\n",
              "      <td>857</td>\n",
              "    </tr>\n",
              "    <tr>\n",
              "      <th>6528</th>\n",
              "      <td>gss955.jpg</td>\n",
              "      <td>1920</td>\n",
              "      <td>1080</td>\n",
              "      <td>Lying</td>\n",
              "      <td>1094</td>\n",
              "      <td>664</td>\n",
              "      <td>1199</td>\n",
              "      <td>702</td>\n",
              "    </tr>\n",
              "    <tr>\n",
              "      <th>6529</th>\n",
              "      <td>gss955.jpg</td>\n",
              "      <td>1920</td>\n",
              "      <td>1080</td>\n",
              "      <td>Sitting</td>\n",
              "      <td>1491</td>\n",
              "      <td>460</td>\n",
              "      <td>1516</td>\n",
              "      <td>489</td>\n",
              "    </tr>\n",
              "    <tr>\n",
              "      <th>6530</th>\n",
              "      <td>gss955.jpg</td>\n",
              "      <td>1920</td>\n",
              "      <td>1080</td>\n",
              "      <td>Lying</td>\n",
              "      <td>1668</td>\n",
              "      <td>595</td>\n",
              "      <td>1720</td>\n",
              "      <td>625</td>\n",
              "    </tr>\n",
              "    <tr>\n",
              "      <th>6531</th>\n",
              "      <td>gss955.jpg</td>\n",
              "      <td>1920</td>\n",
              "      <td>1080</td>\n",
              "      <td>Running</td>\n",
              "      <td>1823</td>\n",
              "      <td>615</td>\n",
              "      <td>1856</td>\n",
              "      <td>660</td>\n",
              "    </tr>\n",
              "  </tbody>\n",
              "</table>\n",
              "<p>6532 rows × 8 columns</p>\n",
              "</div>\n",
              "    <div class=\"colab-df-buttons\">\n",
              "\n",
              "  <div class=\"colab-df-container\">\n",
              "    <button class=\"colab-df-convert\" onclick=\"convertToInteractive('df-e004c288-bf64-45bc-9d54-efde0e367115')\"\n",
              "            title=\"Convert this dataframe to an interactive table.\"\n",
              "            style=\"display:none;\">\n",
              "\n",
              "  <svg xmlns=\"http://www.w3.org/2000/svg\" height=\"24px\" viewBox=\"0 -960 960 960\">\n",
              "    <path d=\"M120-120v-720h720v720H120Zm60-500h600v-160H180v160Zm220 220h160v-160H400v160Zm0 220h160v-160H400v160ZM180-400h160v-160H180v160Zm440 0h160v-160H620v160ZM180-180h160v-160H180v160Zm440 0h160v-160H620v160Z\"/>\n",
              "  </svg>\n",
              "    </button>\n",
              "\n",
              "  <style>\n",
              "    .colab-df-container {\n",
              "      display:flex;\n",
              "      gap: 12px;\n",
              "    }\n",
              "\n",
              "    .colab-df-convert {\n",
              "      background-color: #E8F0FE;\n",
              "      border: none;\n",
              "      border-radius: 50%;\n",
              "      cursor: pointer;\n",
              "      display: none;\n",
              "      fill: #1967D2;\n",
              "      height: 32px;\n",
              "      padding: 0 0 0 0;\n",
              "      width: 32px;\n",
              "    }\n",
              "\n",
              "    .colab-df-convert:hover {\n",
              "      background-color: #E2EBFA;\n",
              "      box-shadow: 0px 1px 2px rgba(60, 64, 67, 0.3), 0px 1px 3px 1px rgba(60, 64, 67, 0.15);\n",
              "      fill: #174EA6;\n",
              "    }\n",
              "\n",
              "    .colab-df-buttons div {\n",
              "      margin-bottom: 4px;\n",
              "    }\n",
              "\n",
              "    [theme=dark] .colab-df-convert {\n",
              "      background-color: #3B4455;\n",
              "      fill: #D2E3FC;\n",
              "    }\n",
              "\n",
              "    [theme=dark] .colab-df-convert:hover {\n",
              "      background-color: #434B5C;\n",
              "      box-shadow: 0px 1px 3px 1px rgba(0, 0, 0, 0.15);\n",
              "      filter: drop-shadow(0px 1px 2px rgba(0, 0, 0, 0.3));\n",
              "      fill: #FFFFFF;\n",
              "    }\n",
              "  </style>\n",
              "\n",
              "    <script>\n",
              "      const buttonEl =\n",
              "        document.querySelector('#df-e004c288-bf64-45bc-9d54-efde0e367115 button.colab-df-convert');\n",
              "      buttonEl.style.display =\n",
              "        google.colab.kernel.accessAllowed ? 'block' : 'none';\n",
              "\n",
              "      async function convertToInteractive(key) {\n",
              "        const element = document.querySelector('#df-e004c288-bf64-45bc-9d54-efde0e367115');\n",
              "        const dataTable =\n",
              "          await google.colab.kernel.invokeFunction('convertToInteractive',\n",
              "                                                    [key], {});\n",
              "        if (!dataTable) return;\n",
              "\n",
              "        const docLinkHtml = 'Like what you see? Visit the ' +\n",
              "          '<a target=\"_blank\" href=https://colab.research.google.com/notebooks/data_table.ipynb>data table notebook</a>'\n",
              "          + ' to learn more about interactive tables.';\n",
              "        element.innerHTML = '';\n",
              "        dataTable['output_type'] = 'display_data';\n",
              "        await google.colab.output.renderOutput(dataTable, element);\n",
              "        const docLink = document.createElement('div');\n",
              "        docLink.innerHTML = docLinkHtml;\n",
              "        element.appendChild(docLink);\n",
              "      }\n",
              "    </script>\n",
              "  </div>\n",
              "\n",
              "\n",
              "    <div id=\"df-74d3e928-c325-4179-91ba-7ff5d72d4bd1\">\n",
              "      <button class=\"colab-df-quickchart\" onclick=\"quickchart('df-74d3e928-c325-4179-91ba-7ff5d72d4bd1')\"\n",
              "                title=\"Suggest charts\"\n",
              "                style=\"display:none;\">\n",
              "\n",
              "<svg xmlns=\"http://www.w3.org/2000/svg\" height=\"24px\"viewBox=\"0 0 24 24\"\n",
              "     width=\"24px\">\n",
              "    <g>\n",
              "        <path d=\"M19 3H5c-1.1 0-2 .9-2 2v14c0 1.1.9 2 2 2h14c1.1 0 2-.9 2-2V5c0-1.1-.9-2-2-2zM9 17H7v-7h2v7zm4 0h-2V7h2v10zm4 0h-2v-4h2v4z\"/>\n",
              "    </g>\n",
              "</svg>\n",
              "      </button>\n",
              "\n",
              "<style>\n",
              "  .colab-df-quickchart {\n",
              "      --bg-color: #E8F0FE;\n",
              "      --fill-color: #1967D2;\n",
              "      --hover-bg-color: #E2EBFA;\n",
              "      --hover-fill-color: #174EA6;\n",
              "      --disabled-fill-color: #AAA;\n",
              "      --disabled-bg-color: #DDD;\n",
              "  }\n",
              "\n",
              "  [theme=dark] .colab-df-quickchart {\n",
              "      --bg-color: #3B4455;\n",
              "      --fill-color: #D2E3FC;\n",
              "      --hover-bg-color: #434B5C;\n",
              "      --hover-fill-color: #FFFFFF;\n",
              "      --disabled-bg-color: #3B4455;\n",
              "      --disabled-fill-color: #666;\n",
              "  }\n",
              "\n",
              "  .colab-df-quickchart {\n",
              "    background-color: var(--bg-color);\n",
              "    border: none;\n",
              "    border-radius: 50%;\n",
              "    cursor: pointer;\n",
              "    display: none;\n",
              "    fill: var(--fill-color);\n",
              "    height: 32px;\n",
              "    padding: 0;\n",
              "    width: 32px;\n",
              "  }\n",
              "\n",
              "  .colab-df-quickchart:hover {\n",
              "    background-color: var(--hover-bg-color);\n",
              "    box-shadow: 0 1px 2px rgba(60, 64, 67, 0.3), 0 1px 3px 1px rgba(60, 64, 67, 0.15);\n",
              "    fill: var(--button-hover-fill-color);\n",
              "  }\n",
              "\n",
              "  .colab-df-quickchart-complete:disabled,\n",
              "  .colab-df-quickchart-complete:disabled:hover {\n",
              "    background-color: var(--disabled-bg-color);\n",
              "    fill: var(--disabled-fill-color);\n",
              "    box-shadow: none;\n",
              "  }\n",
              "\n",
              "  .colab-df-spinner {\n",
              "    border: 2px solid var(--fill-color);\n",
              "    border-color: transparent;\n",
              "    border-bottom-color: var(--fill-color);\n",
              "    animation:\n",
              "      spin 1s steps(1) infinite;\n",
              "  }\n",
              "\n",
              "  @keyframes spin {\n",
              "    0% {\n",
              "      border-color: transparent;\n",
              "      border-bottom-color: var(--fill-color);\n",
              "      border-left-color: var(--fill-color);\n",
              "    }\n",
              "    20% {\n",
              "      border-color: transparent;\n",
              "      border-left-color: var(--fill-color);\n",
              "      border-top-color: var(--fill-color);\n",
              "    }\n",
              "    30% {\n",
              "      border-color: transparent;\n",
              "      border-left-color: var(--fill-color);\n",
              "      border-top-color: var(--fill-color);\n",
              "      border-right-color: var(--fill-color);\n",
              "    }\n",
              "    40% {\n",
              "      border-color: transparent;\n",
              "      border-right-color: var(--fill-color);\n",
              "      border-top-color: var(--fill-color);\n",
              "    }\n",
              "    60% {\n",
              "      border-color: transparent;\n",
              "      border-right-color: var(--fill-color);\n",
              "    }\n",
              "    80% {\n",
              "      border-color: transparent;\n",
              "      border-right-color: var(--fill-color);\n",
              "      border-bottom-color: var(--fill-color);\n",
              "    }\n",
              "    90% {\n",
              "      border-color: transparent;\n",
              "      border-bottom-color: var(--fill-color);\n",
              "    }\n",
              "  }\n",
              "</style>\n",
              "\n",
              "      <script>\n",
              "        async function quickchart(key) {\n",
              "          const quickchartButtonEl =\n",
              "            document.querySelector('#' + key + ' button');\n",
              "          quickchartButtonEl.disabled = true;  // To prevent multiple clicks.\n",
              "          quickchartButtonEl.classList.add('colab-df-spinner');\n",
              "          try {\n",
              "            const charts = await google.colab.kernel.invokeFunction(\n",
              "                'suggestCharts', [key], {});\n",
              "          } catch (error) {\n",
              "            console.error('Error during call to suggestCharts:', error);\n",
              "          }\n",
              "          quickchartButtonEl.classList.remove('colab-df-spinner');\n",
              "          quickchartButtonEl.classList.add('colab-df-quickchart-complete');\n",
              "        }\n",
              "        (() => {\n",
              "          let quickchartButtonEl =\n",
              "            document.querySelector('#df-74d3e928-c325-4179-91ba-7ff5d72d4bd1 button');\n",
              "          quickchartButtonEl.style.display =\n",
              "            google.colab.kernel.accessAllowed ? 'block' : 'none';\n",
              "        })();\n",
              "      </script>\n",
              "    </div>\n",
              "\n",
              "    </div>\n",
              "  </div>\n"
            ],
            "application/vnd.google.colaboratory.intrinsic+json": {
              "type": "dataframe",
              "summary": "{\n  \"name\": \"read_file_csv(folder_path_sard, 'sard_labels\",\n  \"rows\": 6532,\n  \"fields\": [\n    {\n      \"column\": \"filename\",\n      \"properties\": {\n        \"dtype\": \"category\",\n        \"num_unique_values\": 1981,\n        \"samples\": [\n          \"gss1649.jpg\",\n          \"gss1143.jpg\",\n          \"gss1846.jpg\"\n        ],\n        \"semantic_type\": \"\",\n        \"description\": \"\"\n      }\n    },\n    {\n      \"column\": \"width\",\n      \"properties\": {\n        \"dtype\": \"number\",\n        \"std\": 0,\n        \"min\": 1920,\n        \"max\": 1920,\n        \"num_unique_values\": 1,\n        \"samples\": [\n          1920\n        ],\n        \"semantic_type\": \"\",\n        \"description\": \"\"\n      }\n    },\n    {\n      \"column\": \"height\",\n      \"properties\": {\n        \"dtype\": \"number\",\n        \"std\": 0,\n        \"min\": 1080,\n        \"max\": 1080,\n        \"num_unique_values\": 1,\n        \"samples\": [\n          1080\n        ],\n        \"semantic_type\": \"\",\n        \"description\": \"\"\n      }\n    },\n    {\n      \"column\": \"class\",\n      \"properties\": {\n        \"dtype\": \"category\",\n        \"num_unique_values\": 6,\n        \"samples\": [\n          \"Sitting\"\n        ],\n        \"semantic_type\": \"\",\n        \"description\": \"\"\n      }\n    },\n    {\n      \"column\": \"xmin\",\n      \"properties\": {\n        \"dtype\": \"number\",\n        \"std\": 469,\n        \"min\": 1,\n        \"max\": 1909,\n        \"num_unique_values\": 1786,\n        \"samples\": [\n          1596\n        ],\n        \"semantic_type\": \"\",\n        \"description\": \"\"\n      }\n    },\n    {\n      \"column\": \"ymin\",\n      \"properties\": {\n        \"dtype\": \"number\",\n        \"std\": 261,\n        \"min\": 1,\n        \"max\": 1058,\n        \"num_unique_values\": 1017,\n        \"samples\": [\n          829\n        ],\n        \"semantic_type\": \"\",\n        \"description\": \"\"\n      }\n    },\n    {\n      \"column\": \"xmax\",\n      \"properties\": {\n        \"dtype\": \"number\",\n        \"std\": 468,\n        \"min\": 12,\n        \"max\": 1920,\n        \"num_unique_values\": 1774,\n        \"samples\": [\n          908\n        ],\n        \"semantic_type\": \"\",\n        \"description\": \"\"\n      }\n    },\n    {\n      \"column\": \"ymax\",\n      \"properties\": {\n        \"dtype\": \"number\",\n        \"std\": 268,\n        \"min\": 9,\n        \"max\": 1080,\n        \"num_unique_values\": 1052,\n        \"samples\": [\n          405\n        ],\n        \"semantic_type\": \"\",\n        \"description\": \"\"\n      }\n    }\n  ]\n}"
            }
          },
          "metadata": {},
          "execution_count": 50
        }
      ]
    },
    {
      "cell_type": "code",
      "source": [
        "read_file_csv(folder_path_sard, 'sard_person_labels.csv')"
      ],
      "metadata": {
        "colab": {
          "base_uri": "https://localhost:8080/",
          "height": 442
        },
        "id": "Wa9X5B45kQ5X",
        "outputId": "230fa950-092e-4c86-c85f-69ae7aeb1497"
      },
      "execution_count": null,
      "outputs": [
        {
          "output_type": "stream",
          "name": "stdout",
          "text": [
            "Attempting to read: /content/drive/MyDrive/projectUPV/datasets/SARD_dataset/SARD/sard_person_labels.csv\n"
          ]
        },
        {
          "output_type": "execute_result",
          "data": {
            "text/plain": [
              "         filename  width  height   class  xmin  ymin  xmax  ymax\n",
              "0     gss1299.jpg   1920    1080  person   473   667   519   733\n",
              "1     gss1604.jpg   1920    1080  person   927   317   953   347\n",
              "2     gss1604.jpg   1920    1080  person   999   589  1033   636\n",
              "3      gss801.jpg   1920    1080  person   315   394   391   456\n",
              "4      gss501.jpg   1920    1080  person  1412   337  1453   376\n",
              "...           ...    ...     ...     ...   ...   ...   ...   ...\n",
              "6527   gss955.jpg   1920    1080  person   164   777   220   857\n",
              "6528   gss955.jpg   1920    1080  person  1094   664  1199   702\n",
              "6529   gss955.jpg   1920    1080  person  1491   460  1516   489\n",
              "6530   gss955.jpg   1920    1080  person  1668   595  1720   625\n",
              "6531   gss955.jpg   1920    1080  person  1823   615  1856   660\n",
              "\n",
              "[6532 rows x 8 columns]"
            ],
            "text/html": [
              "\n",
              "  <div id=\"df-87ff7f0b-3fbe-487b-b0a8-b3de5212c16d\" class=\"colab-df-container\">\n",
              "    <div>\n",
              "<style scoped>\n",
              "    .dataframe tbody tr th:only-of-type {\n",
              "        vertical-align: middle;\n",
              "    }\n",
              "\n",
              "    .dataframe tbody tr th {\n",
              "        vertical-align: top;\n",
              "    }\n",
              "\n",
              "    .dataframe thead th {\n",
              "        text-align: right;\n",
              "    }\n",
              "</style>\n",
              "<table border=\"1\" class=\"dataframe\">\n",
              "  <thead>\n",
              "    <tr style=\"text-align: right;\">\n",
              "      <th></th>\n",
              "      <th>filename</th>\n",
              "      <th>width</th>\n",
              "      <th>height</th>\n",
              "      <th>class</th>\n",
              "      <th>xmin</th>\n",
              "      <th>ymin</th>\n",
              "      <th>xmax</th>\n",
              "      <th>ymax</th>\n",
              "    </tr>\n",
              "  </thead>\n",
              "  <tbody>\n",
              "    <tr>\n",
              "      <th>0</th>\n",
              "      <td>gss1299.jpg</td>\n",
              "      <td>1920</td>\n",
              "      <td>1080</td>\n",
              "      <td>person</td>\n",
              "      <td>473</td>\n",
              "      <td>667</td>\n",
              "      <td>519</td>\n",
              "      <td>733</td>\n",
              "    </tr>\n",
              "    <tr>\n",
              "      <th>1</th>\n",
              "      <td>gss1604.jpg</td>\n",
              "      <td>1920</td>\n",
              "      <td>1080</td>\n",
              "      <td>person</td>\n",
              "      <td>927</td>\n",
              "      <td>317</td>\n",
              "      <td>953</td>\n",
              "      <td>347</td>\n",
              "    </tr>\n",
              "    <tr>\n",
              "      <th>2</th>\n",
              "      <td>gss1604.jpg</td>\n",
              "      <td>1920</td>\n",
              "      <td>1080</td>\n",
              "      <td>person</td>\n",
              "      <td>999</td>\n",
              "      <td>589</td>\n",
              "      <td>1033</td>\n",
              "      <td>636</td>\n",
              "    </tr>\n",
              "    <tr>\n",
              "      <th>3</th>\n",
              "      <td>gss801.jpg</td>\n",
              "      <td>1920</td>\n",
              "      <td>1080</td>\n",
              "      <td>person</td>\n",
              "      <td>315</td>\n",
              "      <td>394</td>\n",
              "      <td>391</td>\n",
              "      <td>456</td>\n",
              "    </tr>\n",
              "    <tr>\n",
              "      <th>4</th>\n",
              "      <td>gss501.jpg</td>\n",
              "      <td>1920</td>\n",
              "      <td>1080</td>\n",
              "      <td>person</td>\n",
              "      <td>1412</td>\n",
              "      <td>337</td>\n",
              "      <td>1453</td>\n",
              "      <td>376</td>\n",
              "    </tr>\n",
              "    <tr>\n",
              "      <th>...</th>\n",
              "      <td>...</td>\n",
              "      <td>...</td>\n",
              "      <td>...</td>\n",
              "      <td>...</td>\n",
              "      <td>...</td>\n",
              "      <td>...</td>\n",
              "      <td>...</td>\n",
              "      <td>...</td>\n",
              "    </tr>\n",
              "    <tr>\n",
              "      <th>6527</th>\n",
              "      <td>gss955.jpg</td>\n",
              "      <td>1920</td>\n",
              "      <td>1080</td>\n",
              "      <td>person</td>\n",
              "      <td>164</td>\n",
              "      <td>777</td>\n",
              "      <td>220</td>\n",
              "      <td>857</td>\n",
              "    </tr>\n",
              "    <tr>\n",
              "      <th>6528</th>\n",
              "      <td>gss955.jpg</td>\n",
              "      <td>1920</td>\n",
              "      <td>1080</td>\n",
              "      <td>person</td>\n",
              "      <td>1094</td>\n",
              "      <td>664</td>\n",
              "      <td>1199</td>\n",
              "      <td>702</td>\n",
              "    </tr>\n",
              "    <tr>\n",
              "      <th>6529</th>\n",
              "      <td>gss955.jpg</td>\n",
              "      <td>1920</td>\n",
              "      <td>1080</td>\n",
              "      <td>person</td>\n",
              "      <td>1491</td>\n",
              "      <td>460</td>\n",
              "      <td>1516</td>\n",
              "      <td>489</td>\n",
              "    </tr>\n",
              "    <tr>\n",
              "      <th>6530</th>\n",
              "      <td>gss955.jpg</td>\n",
              "      <td>1920</td>\n",
              "      <td>1080</td>\n",
              "      <td>person</td>\n",
              "      <td>1668</td>\n",
              "      <td>595</td>\n",
              "      <td>1720</td>\n",
              "      <td>625</td>\n",
              "    </tr>\n",
              "    <tr>\n",
              "      <th>6531</th>\n",
              "      <td>gss955.jpg</td>\n",
              "      <td>1920</td>\n",
              "      <td>1080</td>\n",
              "      <td>person</td>\n",
              "      <td>1823</td>\n",
              "      <td>615</td>\n",
              "      <td>1856</td>\n",
              "      <td>660</td>\n",
              "    </tr>\n",
              "  </tbody>\n",
              "</table>\n",
              "<p>6532 rows × 8 columns</p>\n",
              "</div>\n",
              "    <div class=\"colab-df-buttons\">\n",
              "\n",
              "  <div class=\"colab-df-container\">\n",
              "    <button class=\"colab-df-convert\" onclick=\"convertToInteractive('df-87ff7f0b-3fbe-487b-b0a8-b3de5212c16d')\"\n",
              "            title=\"Convert this dataframe to an interactive table.\"\n",
              "            style=\"display:none;\">\n",
              "\n",
              "  <svg xmlns=\"http://www.w3.org/2000/svg\" height=\"24px\" viewBox=\"0 -960 960 960\">\n",
              "    <path d=\"M120-120v-720h720v720H120Zm60-500h600v-160H180v160Zm220 220h160v-160H400v160Zm0 220h160v-160H400v160ZM180-400h160v-160H180v160Zm440 0h160v-160H620v160ZM180-180h160v-160H180v160Zm440 0h160v-160H620v160Z\"/>\n",
              "  </svg>\n",
              "    </button>\n",
              "\n",
              "  <style>\n",
              "    .colab-df-container {\n",
              "      display:flex;\n",
              "      gap: 12px;\n",
              "    }\n",
              "\n",
              "    .colab-df-convert {\n",
              "      background-color: #E8F0FE;\n",
              "      border: none;\n",
              "      border-radius: 50%;\n",
              "      cursor: pointer;\n",
              "      display: none;\n",
              "      fill: #1967D2;\n",
              "      height: 32px;\n",
              "      padding: 0 0 0 0;\n",
              "      width: 32px;\n",
              "    }\n",
              "\n",
              "    .colab-df-convert:hover {\n",
              "      background-color: #E2EBFA;\n",
              "      box-shadow: 0px 1px 2px rgba(60, 64, 67, 0.3), 0px 1px 3px 1px rgba(60, 64, 67, 0.15);\n",
              "      fill: #174EA6;\n",
              "    }\n",
              "\n",
              "    .colab-df-buttons div {\n",
              "      margin-bottom: 4px;\n",
              "    }\n",
              "\n",
              "    [theme=dark] .colab-df-convert {\n",
              "      background-color: #3B4455;\n",
              "      fill: #D2E3FC;\n",
              "    }\n",
              "\n",
              "    [theme=dark] .colab-df-convert:hover {\n",
              "      background-color: #434B5C;\n",
              "      box-shadow: 0px 1px 3px 1px rgba(0, 0, 0, 0.15);\n",
              "      filter: drop-shadow(0px 1px 2px rgba(0, 0, 0, 0.3));\n",
              "      fill: #FFFFFF;\n",
              "    }\n",
              "  </style>\n",
              "\n",
              "    <script>\n",
              "      const buttonEl =\n",
              "        document.querySelector('#df-87ff7f0b-3fbe-487b-b0a8-b3de5212c16d button.colab-df-convert');\n",
              "      buttonEl.style.display =\n",
              "        google.colab.kernel.accessAllowed ? 'block' : 'none';\n",
              "\n",
              "      async function convertToInteractive(key) {\n",
              "        const element = document.querySelector('#df-87ff7f0b-3fbe-487b-b0a8-b3de5212c16d');\n",
              "        const dataTable =\n",
              "          await google.colab.kernel.invokeFunction('convertToInteractive',\n",
              "                                                    [key], {});\n",
              "        if (!dataTable) return;\n",
              "\n",
              "        const docLinkHtml = 'Like what you see? Visit the ' +\n",
              "          '<a target=\"_blank\" href=https://colab.research.google.com/notebooks/data_table.ipynb>data table notebook</a>'\n",
              "          + ' to learn more about interactive tables.';\n",
              "        element.innerHTML = '';\n",
              "        dataTable['output_type'] = 'display_data';\n",
              "        await google.colab.output.renderOutput(dataTable, element);\n",
              "        const docLink = document.createElement('div');\n",
              "        docLink.innerHTML = docLinkHtml;\n",
              "        element.appendChild(docLink);\n",
              "      }\n",
              "    </script>\n",
              "  </div>\n",
              "\n",
              "\n",
              "    <div id=\"df-cc77927d-ea9b-4bfd-a089-dc76f8fd9b1d\">\n",
              "      <button class=\"colab-df-quickchart\" onclick=\"quickchart('df-cc77927d-ea9b-4bfd-a089-dc76f8fd9b1d')\"\n",
              "                title=\"Suggest charts\"\n",
              "                style=\"display:none;\">\n",
              "\n",
              "<svg xmlns=\"http://www.w3.org/2000/svg\" height=\"24px\"viewBox=\"0 0 24 24\"\n",
              "     width=\"24px\">\n",
              "    <g>\n",
              "        <path d=\"M19 3H5c-1.1 0-2 .9-2 2v14c0 1.1.9 2 2 2h14c1.1 0 2-.9 2-2V5c0-1.1-.9-2-2-2zM9 17H7v-7h2v7zm4 0h-2V7h2v10zm4 0h-2v-4h2v4z\"/>\n",
              "    </g>\n",
              "</svg>\n",
              "      </button>\n",
              "\n",
              "<style>\n",
              "  .colab-df-quickchart {\n",
              "      --bg-color: #E8F0FE;\n",
              "      --fill-color: #1967D2;\n",
              "      --hover-bg-color: #E2EBFA;\n",
              "      --hover-fill-color: #174EA6;\n",
              "      --disabled-fill-color: #AAA;\n",
              "      --disabled-bg-color: #DDD;\n",
              "  }\n",
              "\n",
              "  [theme=dark] .colab-df-quickchart {\n",
              "      --bg-color: #3B4455;\n",
              "      --fill-color: #D2E3FC;\n",
              "      --hover-bg-color: #434B5C;\n",
              "      --hover-fill-color: #FFFFFF;\n",
              "      --disabled-bg-color: #3B4455;\n",
              "      --disabled-fill-color: #666;\n",
              "  }\n",
              "\n",
              "  .colab-df-quickchart {\n",
              "    background-color: var(--bg-color);\n",
              "    border: none;\n",
              "    border-radius: 50%;\n",
              "    cursor: pointer;\n",
              "    display: none;\n",
              "    fill: var(--fill-color);\n",
              "    height: 32px;\n",
              "    padding: 0;\n",
              "    width: 32px;\n",
              "  }\n",
              "\n",
              "  .colab-df-quickchart:hover {\n",
              "    background-color: var(--hover-bg-color);\n",
              "    box-shadow: 0 1px 2px rgba(60, 64, 67, 0.3), 0 1px 3px 1px rgba(60, 64, 67, 0.15);\n",
              "    fill: var(--button-hover-fill-color);\n",
              "  }\n",
              "\n",
              "  .colab-df-quickchart-complete:disabled,\n",
              "  .colab-df-quickchart-complete:disabled:hover {\n",
              "    background-color: var(--disabled-bg-color);\n",
              "    fill: var(--disabled-fill-color);\n",
              "    box-shadow: none;\n",
              "  }\n",
              "\n",
              "  .colab-df-spinner {\n",
              "    border: 2px solid var(--fill-color);\n",
              "    border-color: transparent;\n",
              "    border-bottom-color: var(--fill-color);\n",
              "    animation:\n",
              "      spin 1s steps(1) infinite;\n",
              "  }\n",
              "\n",
              "  @keyframes spin {\n",
              "    0% {\n",
              "      border-color: transparent;\n",
              "      border-bottom-color: var(--fill-color);\n",
              "      border-left-color: var(--fill-color);\n",
              "    }\n",
              "    20% {\n",
              "      border-color: transparent;\n",
              "      border-left-color: var(--fill-color);\n",
              "      border-top-color: var(--fill-color);\n",
              "    }\n",
              "    30% {\n",
              "      border-color: transparent;\n",
              "      border-left-color: var(--fill-color);\n",
              "      border-top-color: var(--fill-color);\n",
              "      border-right-color: var(--fill-color);\n",
              "    }\n",
              "    40% {\n",
              "      border-color: transparent;\n",
              "      border-right-color: var(--fill-color);\n",
              "      border-top-color: var(--fill-color);\n",
              "    }\n",
              "    60% {\n",
              "      border-color: transparent;\n",
              "      border-right-color: var(--fill-color);\n",
              "    }\n",
              "    80% {\n",
              "      border-color: transparent;\n",
              "      border-right-color: var(--fill-color);\n",
              "      border-bottom-color: var(--fill-color);\n",
              "    }\n",
              "    90% {\n",
              "      border-color: transparent;\n",
              "      border-bottom-color: var(--fill-color);\n",
              "    }\n",
              "  }\n",
              "</style>\n",
              "\n",
              "      <script>\n",
              "        async function quickchart(key) {\n",
              "          const quickchartButtonEl =\n",
              "            document.querySelector('#' + key + ' button');\n",
              "          quickchartButtonEl.disabled = true;  // To prevent multiple clicks.\n",
              "          quickchartButtonEl.classList.add('colab-df-spinner');\n",
              "          try {\n",
              "            const charts = await google.colab.kernel.invokeFunction(\n",
              "                'suggestCharts', [key], {});\n",
              "          } catch (error) {\n",
              "            console.error('Error during call to suggestCharts:', error);\n",
              "          }\n",
              "          quickchartButtonEl.classList.remove('colab-df-spinner');\n",
              "          quickchartButtonEl.classList.add('colab-df-quickchart-complete');\n",
              "        }\n",
              "        (() => {\n",
              "          let quickchartButtonEl =\n",
              "            document.querySelector('#df-cc77927d-ea9b-4bfd-a089-dc76f8fd9b1d button');\n",
              "          quickchartButtonEl.style.display =\n",
              "            google.colab.kernel.accessAllowed ? 'block' : 'none';\n",
              "        })();\n",
              "      </script>\n",
              "    </div>\n",
              "\n",
              "    </div>\n",
              "  </div>\n"
            ],
            "application/vnd.google.colaboratory.intrinsic+json": {
              "type": "dataframe",
              "summary": "{\n  \"name\": \"read_file_csv(folder_path_sard, 'sard_person_labels\",\n  \"rows\": 6532,\n  \"fields\": [\n    {\n      \"column\": \"filename\",\n      \"properties\": {\n        \"dtype\": \"category\",\n        \"num_unique_values\": 1981,\n        \"samples\": [\n          \"gss1649.jpg\",\n          \"gss1143.jpg\",\n          \"gss1846.jpg\"\n        ],\n        \"semantic_type\": \"\",\n        \"description\": \"\"\n      }\n    },\n    {\n      \"column\": \"width\",\n      \"properties\": {\n        \"dtype\": \"number\",\n        \"std\": 0,\n        \"min\": 1920,\n        \"max\": 1920,\n        \"num_unique_values\": 1,\n        \"samples\": [\n          1920\n        ],\n        \"semantic_type\": \"\",\n        \"description\": \"\"\n      }\n    },\n    {\n      \"column\": \"height\",\n      \"properties\": {\n        \"dtype\": \"number\",\n        \"std\": 0,\n        \"min\": 1080,\n        \"max\": 1080,\n        \"num_unique_values\": 1,\n        \"samples\": [\n          1080\n        ],\n        \"semantic_type\": \"\",\n        \"description\": \"\"\n      }\n    },\n    {\n      \"column\": \"class\",\n      \"properties\": {\n        \"dtype\": \"category\",\n        \"num_unique_values\": 1,\n        \"samples\": [\n          \"person\"\n        ],\n        \"semantic_type\": \"\",\n        \"description\": \"\"\n      }\n    },\n    {\n      \"column\": \"xmin\",\n      \"properties\": {\n        \"dtype\": \"number\",\n        \"std\": 469,\n        \"min\": 1,\n        \"max\": 1909,\n        \"num_unique_values\": 1786,\n        \"samples\": [\n          1596\n        ],\n        \"semantic_type\": \"\",\n        \"description\": \"\"\n      }\n    },\n    {\n      \"column\": \"ymin\",\n      \"properties\": {\n        \"dtype\": \"number\",\n        \"std\": 261,\n        \"min\": 1,\n        \"max\": 1058,\n        \"num_unique_values\": 1017,\n        \"samples\": [\n          829\n        ],\n        \"semantic_type\": \"\",\n        \"description\": \"\"\n      }\n    },\n    {\n      \"column\": \"xmax\",\n      \"properties\": {\n        \"dtype\": \"number\",\n        \"std\": 468,\n        \"min\": 12,\n        \"max\": 1920,\n        \"num_unique_values\": 1774,\n        \"samples\": [\n          908\n        ],\n        \"semantic_type\": \"\",\n        \"description\": \"\"\n      }\n    },\n    {\n      \"column\": \"ymax\",\n      \"properties\": {\n        \"dtype\": \"number\",\n        \"std\": 268,\n        \"min\": 9,\n        \"max\": 1080,\n        \"num_unique_values\": 1052,\n        \"samples\": [\n          405\n        ],\n        \"semantic_type\": \"\",\n        \"description\": \"\"\n      }\n    }\n  ]\n}"
            }
          },
          "metadata": {},
          "execution_count": 51
        }
      ]
    },
    {
      "cell_type": "markdown",
      "source": [
        "We immediately notice that the CSV is unordered, making it hard to read. \\\n",
        "We proceed by renaming the .jpg files (images) and the corresponding .xml files:"
      ],
      "metadata": {
        "id": "57gK_Py3h1JN"
      }
    },
    {
      "cell_type": "code",
      "source": [
        "# As we see, the file is not sorted. We want to order it but first we should rename also the images and .xml files\n",
        "\n",
        "def rename_images_and_xml_files(folder_path, prefix=\"gss\"): # To rename a .jpg images and xml files with a prefix\n",
        "  \"\"\"\n",
        "  Rename only paired .jpg and .xml files to format gssNNNN.jpg/xml to ensure consistency between image and annotation files.\n",
        "\n",
        "  Args:\n",
        "    folder_path (str): Path to dataset containing images\n",
        "    prefix (str): Prefix to add to the new filenames\n",
        "  \"\"\"\n",
        "  for filename in os.listdir(folder_path):\n",
        "    if filename.endswith('.jpg') or filename.endswith('.xml'):\n",
        "      match = re.match(rf'{prefix}(\\d+)\\.(jpg|xml)', filename)\n",
        "      if match:\n",
        "        number = int(match.group(1))\n",
        "        extension = match.group(2)\n",
        "        new_name = f\"{prefix}{str(number).zfill(4)}.{extension}\"\n",
        "\n",
        "        old_path = os.path.join(folder_path, filename)\n",
        "        new_path = os.path.join(folder_path, new_name)\n",
        "\n",
        "        if old_path != new_path:\n",
        "          os.rename(old_path, new_path)\n",
        "          # print(f\"Renamed: {filename} → {new_name}\")\n",
        "\n",
        "  print(\"Files renamed successfully!\")\n",
        "\n",
        "rename_images_and_xml_files(folder_path_sard)"
      ],
      "metadata": {
        "id": "wBfivw6leULp",
        "outputId": "c5f386ab-8040-4f1d-9322-3dcec50f02d4",
        "colab": {
          "base_uri": "https://localhost:8080/"
        }
      },
      "execution_count": null,
      "outputs": [
        {
          "output_type": "stream",
          "name": "stdout",
          "text": [
            "Files renamed successfully!\n"
          ]
        }
      ]
    },
    {
      "cell_type": "markdown",
      "source": [
        "Now that we have correctly renamed the .jpg and .xml files, we continue by updating the filenames in the CSV file. \\\n",
        "Then, we sort the rows in the CSV file based on the filename."
      ],
      "metadata": {
        "id": "zzu-LD34jJlb"
      }
    },
    {
      "cell_type": "code",
      "source": [
        "# Modify the names in gssNNNN.jpg format\n",
        "def format_filename(old_name, prefix=\"gss\"):\n",
        "  num = re.findall(r'\\d+', old_name)\n",
        "  if num:\n",
        "    return f\"{prefix}{int(num[0]):04d}.jpg\"\n",
        "  return old_name  # In case there are no numbers"
      ],
      "metadata": {
        "id": "KJOrRUTkpfD6"
      },
      "execution_count": null,
      "outputs": []
    },
    {
      "cell_type": "code",
      "source": [
        "def update_csv_filenames(folder_path, csv_file, prefix=\"gss\"): # to change the filename column in a csv file\n",
        "  \"\"\"\n",
        "  Update the 'filename' column in a CSV file with a new prefix in the format gssNNNN.jpg.\n",
        "\n",
        "  Args:\n",
        "    folder_path (str): Path to dataset containing csv\n",
        "    csv_file (str): Name of the CSV file\n",
        "    prefix (str): Prefix to add to the new filenames\n",
        "  \"\"\"\n",
        "  # After renaming, update the filenames in the CSV\n",
        "  csv_path = os.path.join(folder_path, csv_file)\n",
        "  df = pd.read_csv(csv_path)\n",
        "\n",
        "  df['filename'] = df['filename'].apply(lambda x: format_filename(x, prefix=prefix))\n",
        "\n",
        "  # Sort de dataframe by filename\n",
        "  df = df.sort_values(by='filename').reset_index(drop=True)\n",
        "\n",
        "  # Save the updated and sorted DataFrame\n",
        "  df.to_csv(csv_path, index=False)\n",
        "\n",
        "  # Print the updated DataFrame to verify the changes\n",
        "  print(f\"Updated CSV '{csv_file}':\")\n",
        "  print(df.head())  # Print first few rows to verify"
      ],
      "metadata": {
        "id": "tZgflh8HmsZD"
      },
      "execution_count": null,
      "outputs": []
    },
    {
      "cell_type": "code",
      "source": [
        "update_csv_filenames(folder_path_sard, 'sard_labels.csv')\n",
        "read_file_csv(folder_path_sard, 'sard_labels.csv')"
      ],
      "metadata": {
        "id": "8AsQvnOz7rRk",
        "outputId": "8e29e5fb-11e3-4c63-b50d-d9afbacc70f0",
        "colab": {
          "base_uri": "https://localhost:8080/",
          "height": 569
        }
      },
      "execution_count": null,
      "outputs": [
        {
          "output_type": "stream",
          "name": "stdout",
          "text": [
            "Updated CSV 'sard_labels.csv':\n",
            "      filename  width  height     class  xmin  ymin  xmax  ymax\n",
            "0  gss0001.jpg   1920    1080   Walking  1110   358  1134   424\n",
            "1  gss0001.jpg   1920    1080  Standing  1077   367  1100   428\n",
            "2  gss0001.jpg   1920    1080   Sitting  1041   144  1061   173\n",
            "3  gss0002.jpg   1920    1080   Sitting  1041   142  1062   173\n",
            "4  gss0002.jpg   1920    1080  Standing  1079   365  1101   428\n",
            "Attempting to read: /content/drive/MyDrive/projectUPV/datasets/SARD_dataset/SARD/sard_labels.csv\n"
          ]
        },
        {
          "output_type": "execute_result",
          "data": {
            "text/plain": [
              "         filename  width  height     class  xmin  ymin  xmax  ymax\n",
              "0     gss0001.jpg   1920    1080   Walking  1110   358  1134   424\n",
              "1     gss0001.jpg   1920    1080  Standing  1077   367  1100   428\n",
              "2     gss0001.jpg   1920    1080   Sitting  1041   144  1061   173\n",
              "3     gss0002.jpg   1920    1080   Sitting  1041   142  1062   173\n",
              "4     gss0002.jpg   1920    1080  Standing  1079   365  1101   428\n",
              "...           ...    ...     ...       ...   ...   ...   ...   ...\n",
              "6527  gss2104.jpg   1920    1080  Standing  1174   604  1226   672\n",
              "6528  gss2104.jpg   1920    1080  Standing  1226  1040  1266  1080\n",
              "6529  gss2104.jpg   1920    1080  Standing  1391   931  1458   982\n",
              "6530  gss2104.jpg   1920    1080  Standing  1548  1032  1608  1071\n",
              "6531  gss2104.jpg   1920    1080  Standing  1840  1011  1918  1075\n",
              "\n",
              "[6532 rows x 8 columns]"
            ],
            "text/html": [
              "\n",
              "  <div id=\"df-1437238e-39b8-4279-ad6a-6f94566303ae\" class=\"colab-df-container\">\n",
              "    <div>\n",
              "<style scoped>\n",
              "    .dataframe tbody tr th:only-of-type {\n",
              "        vertical-align: middle;\n",
              "    }\n",
              "\n",
              "    .dataframe tbody tr th {\n",
              "        vertical-align: top;\n",
              "    }\n",
              "\n",
              "    .dataframe thead th {\n",
              "        text-align: right;\n",
              "    }\n",
              "</style>\n",
              "<table border=\"1\" class=\"dataframe\">\n",
              "  <thead>\n",
              "    <tr style=\"text-align: right;\">\n",
              "      <th></th>\n",
              "      <th>filename</th>\n",
              "      <th>width</th>\n",
              "      <th>height</th>\n",
              "      <th>class</th>\n",
              "      <th>xmin</th>\n",
              "      <th>ymin</th>\n",
              "      <th>xmax</th>\n",
              "      <th>ymax</th>\n",
              "    </tr>\n",
              "  </thead>\n",
              "  <tbody>\n",
              "    <tr>\n",
              "      <th>0</th>\n",
              "      <td>gss0001.jpg</td>\n",
              "      <td>1920</td>\n",
              "      <td>1080</td>\n",
              "      <td>Walking</td>\n",
              "      <td>1110</td>\n",
              "      <td>358</td>\n",
              "      <td>1134</td>\n",
              "      <td>424</td>\n",
              "    </tr>\n",
              "    <tr>\n",
              "      <th>1</th>\n",
              "      <td>gss0001.jpg</td>\n",
              "      <td>1920</td>\n",
              "      <td>1080</td>\n",
              "      <td>Standing</td>\n",
              "      <td>1077</td>\n",
              "      <td>367</td>\n",
              "      <td>1100</td>\n",
              "      <td>428</td>\n",
              "    </tr>\n",
              "    <tr>\n",
              "      <th>2</th>\n",
              "      <td>gss0001.jpg</td>\n",
              "      <td>1920</td>\n",
              "      <td>1080</td>\n",
              "      <td>Sitting</td>\n",
              "      <td>1041</td>\n",
              "      <td>144</td>\n",
              "      <td>1061</td>\n",
              "      <td>173</td>\n",
              "    </tr>\n",
              "    <tr>\n",
              "      <th>3</th>\n",
              "      <td>gss0002.jpg</td>\n",
              "      <td>1920</td>\n",
              "      <td>1080</td>\n",
              "      <td>Sitting</td>\n",
              "      <td>1041</td>\n",
              "      <td>142</td>\n",
              "      <td>1062</td>\n",
              "      <td>173</td>\n",
              "    </tr>\n",
              "    <tr>\n",
              "      <th>4</th>\n",
              "      <td>gss0002.jpg</td>\n",
              "      <td>1920</td>\n",
              "      <td>1080</td>\n",
              "      <td>Standing</td>\n",
              "      <td>1079</td>\n",
              "      <td>365</td>\n",
              "      <td>1101</td>\n",
              "      <td>428</td>\n",
              "    </tr>\n",
              "    <tr>\n",
              "      <th>...</th>\n",
              "      <td>...</td>\n",
              "      <td>...</td>\n",
              "      <td>...</td>\n",
              "      <td>...</td>\n",
              "      <td>...</td>\n",
              "      <td>...</td>\n",
              "      <td>...</td>\n",
              "      <td>...</td>\n",
              "    </tr>\n",
              "    <tr>\n",
              "      <th>6527</th>\n",
              "      <td>gss2104.jpg</td>\n",
              "      <td>1920</td>\n",
              "      <td>1080</td>\n",
              "      <td>Standing</td>\n",
              "      <td>1174</td>\n",
              "      <td>604</td>\n",
              "      <td>1226</td>\n",
              "      <td>672</td>\n",
              "    </tr>\n",
              "    <tr>\n",
              "      <th>6528</th>\n",
              "      <td>gss2104.jpg</td>\n",
              "      <td>1920</td>\n",
              "      <td>1080</td>\n",
              "      <td>Standing</td>\n",
              "      <td>1226</td>\n",
              "      <td>1040</td>\n",
              "      <td>1266</td>\n",
              "      <td>1080</td>\n",
              "    </tr>\n",
              "    <tr>\n",
              "      <th>6529</th>\n",
              "      <td>gss2104.jpg</td>\n",
              "      <td>1920</td>\n",
              "      <td>1080</td>\n",
              "      <td>Standing</td>\n",
              "      <td>1391</td>\n",
              "      <td>931</td>\n",
              "      <td>1458</td>\n",
              "      <td>982</td>\n",
              "    </tr>\n",
              "    <tr>\n",
              "      <th>6530</th>\n",
              "      <td>gss2104.jpg</td>\n",
              "      <td>1920</td>\n",
              "      <td>1080</td>\n",
              "      <td>Standing</td>\n",
              "      <td>1548</td>\n",
              "      <td>1032</td>\n",
              "      <td>1608</td>\n",
              "      <td>1071</td>\n",
              "    </tr>\n",
              "    <tr>\n",
              "      <th>6531</th>\n",
              "      <td>gss2104.jpg</td>\n",
              "      <td>1920</td>\n",
              "      <td>1080</td>\n",
              "      <td>Standing</td>\n",
              "      <td>1840</td>\n",
              "      <td>1011</td>\n",
              "      <td>1918</td>\n",
              "      <td>1075</td>\n",
              "    </tr>\n",
              "  </tbody>\n",
              "</table>\n",
              "<p>6532 rows × 8 columns</p>\n",
              "</div>\n",
              "    <div class=\"colab-df-buttons\">\n",
              "\n",
              "  <div class=\"colab-df-container\">\n",
              "    <button class=\"colab-df-convert\" onclick=\"convertToInteractive('df-1437238e-39b8-4279-ad6a-6f94566303ae')\"\n",
              "            title=\"Convert this dataframe to an interactive table.\"\n",
              "            style=\"display:none;\">\n",
              "\n",
              "  <svg xmlns=\"http://www.w3.org/2000/svg\" height=\"24px\" viewBox=\"0 -960 960 960\">\n",
              "    <path d=\"M120-120v-720h720v720H120Zm60-500h600v-160H180v160Zm220 220h160v-160H400v160Zm0 220h160v-160H400v160ZM180-400h160v-160H180v160Zm440 0h160v-160H620v160ZM180-180h160v-160H180v160Zm440 0h160v-160H620v160Z\"/>\n",
              "  </svg>\n",
              "    </button>\n",
              "\n",
              "  <style>\n",
              "    .colab-df-container {\n",
              "      display:flex;\n",
              "      gap: 12px;\n",
              "    }\n",
              "\n",
              "    .colab-df-convert {\n",
              "      background-color: #E8F0FE;\n",
              "      border: none;\n",
              "      border-radius: 50%;\n",
              "      cursor: pointer;\n",
              "      display: none;\n",
              "      fill: #1967D2;\n",
              "      height: 32px;\n",
              "      padding: 0 0 0 0;\n",
              "      width: 32px;\n",
              "    }\n",
              "\n",
              "    .colab-df-convert:hover {\n",
              "      background-color: #E2EBFA;\n",
              "      box-shadow: 0px 1px 2px rgba(60, 64, 67, 0.3), 0px 1px 3px 1px rgba(60, 64, 67, 0.15);\n",
              "      fill: #174EA6;\n",
              "    }\n",
              "\n",
              "    .colab-df-buttons div {\n",
              "      margin-bottom: 4px;\n",
              "    }\n",
              "\n",
              "    [theme=dark] .colab-df-convert {\n",
              "      background-color: #3B4455;\n",
              "      fill: #D2E3FC;\n",
              "    }\n",
              "\n",
              "    [theme=dark] .colab-df-convert:hover {\n",
              "      background-color: #434B5C;\n",
              "      box-shadow: 0px 1px 3px 1px rgba(0, 0, 0, 0.15);\n",
              "      filter: drop-shadow(0px 1px 2px rgba(0, 0, 0, 0.3));\n",
              "      fill: #FFFFFF;\n",
              "    }\n",
              "  </style>\n",
              "\n",
              "    <script>\n",
              "      const buttonEl =\n",
              "        document.querySelector('#df-1437238e-39b8-4279-ad6a-6f94566303ae button.colab-df-convert');\n",
              "      buttonEl.style.display =\n",
              "        google.colab.kernel.accessAllowed ? 'block' : 'none';\n",
              "\n",
              "      async function convertToInteractive(key) {\n",
              "        const element = document.querySelector('#df-1437238e-39b8-4279-ad6a-6f94566303ae');\n",
              "        const dataTable =\n",
              "          await google.colab.kernel.invokeFunction('convertToInteractive',\n",
              "                                                    [key], {});\n",
              "        if (!dataTable) return;\n",
              "\n",
              "        const docLinkHtml = 'Like what you see? Visit the ' +\n",
              "          '<a target=\"_blank\" href=https://colab.research.google.com/notebooks/data_table.ipynb>data table notebook</a>'\n",
              "          + ' to learn more about interactive tables.';\n",
              "        element.innerHTML = '';\n",
              "        dataTable['output_type'] = 'display_data';\n",
              "        await google.colab.output.renderOutput(dataTable, element);\n",
              "        const docLink = document.createElement('div');\n",
              "        docLink.innerHTML = docLinkHtml;\n",
              "        element.appendChild(docLink);\n",
              "      }\n",
              "    </script>\n",
              "  </div>\n",
              "\n",
              "\n",
              "    <div id=\"df-5e0321b1-9b2a-4f11-bd89-d0c0efe03628\">\n",
              "      <button class=\"colab-df-quickchart\" onclick=\"quickchart('df-5e0321b1-9b2a-4f11-bd89-d0c0efe03628')\"\n",
              "                title=\"Suggest charts\"\n",
              "                style=\"display:none;\">\n",
              "\n",
              "<svg xmlns=\"http://www.w3.org/2000/svg\" height=\"24px\"viewBox=\"0 0 24 24\"\n",
              "     width=\"24px\">\n",
              "    <g>\n",
              "        <path d=\"M19 3H5c-1.1 0-2 .9-2 2v14c0 1.1.9 2 2 2h14c1.1 0 2-.9 2-2V5c0-1.1-.9-2-2-2zM9 17H7v-7h2v7zm4 0h-2V7h2v10zm4 0h-2v-4h2v4z\"/>\n",
              "    </g>\n",
              "</svg>\n",
              "      </button>\n",
              "\n",
              "<style>\n",
              "  .colab-df-quickchart {\n",
              "      --bg-color: #E8F0FE;\n",
              "      --fill-color: #1967D2;\n",
              "      --hover-bg-color: #E2EBFA;\n",
              "      --hover-fill-color: #174EA6;\n",
              "      --disabled-fill-color: #AAA;\n",
              "      --disabled-bg-color: #DDD;\n",
              "  }\n",
              "\n",
              "  [theme=dark] .colab-df-quickchart {\n",
              "      --bg-color: #3B4455;\n",
              "      --fill-color: #D2E3FC;\n",
              "      --hover-bg-color: #434B5C;\n",
              "      --hover-fill-color: #FFFFFF;\n",
              "      --disabled-bg-color: #3B4455;\n",
              "      --disabled-fill-color: #666;\n",
              "  }\n",
              "\n",
              "  .colab-df-quickchart {\n",
              "    background-color: var(--bg-color);\n",
              "    border: none;\n",
              "    border-radius: 50%;\n",
              "    cursor: pointer;\n",
              "    display: none;\n",
              "    fill: var(--fill-color);\n",
              "    height: 32px;\n",
              "    padding: 0;\n",
              "    width: 32px;\n",
              "  }\n",
              "\n",
              "  .colab-df-quickchart:hover {\n",
              "    background-color: var(--hover-bg-color);\n",
              "    box-shadow: 0 1px 2px rgba(60, 64, 67, 0.3), 0 1px 3px 1px rgba(60, 64, 67, 0.15);\n",
              "    fill: var(--button-hover-fill-color);\n",
              "  }\n",
              "\n",
              "  .colab-df-quickchart-complete:disabled,\n",
              "  .colab-df-quickchart-complete:disabled:hover {\n",
              "    background-color: var(--disabled-bg-color);\n",
              "    fill: var(--disabled-fill-color);\n",
              "    box-shadow: none;\n",
              "  }\n",
              "\n",
              "  .colab-df-spinner {\n",
              "    border: 2px solid var(--fill-color);\n",
              "    border-color: transparent;\n",
              "    border-bottom-color: var(--fill-color);\n",
              "    animation:\n",
              "      spin 1s steps(1) infinite;\n",
              "  }\n",
              "\n",
              "  @keyframes spin {\n",
              "    0% {\n",
              "      border-color: transparent;\n",
              "      border-bottom-color: var(--fill-color);\n",
              "      border-left-color: var(--fill-color);\n",
              "    }\n",
              "    20% {\n",
              "      border-color: transparent;\n",
              "      border-left-color: var(--fill-color);\n",
              "      border-top-color: var(--fill-color);\n",
              "    }\n",
              "    30% {\n",
              "      border-color: transparent;\n",
              "      border-left-color: var(--fill-color);\n",
              "      border-top-color: var(--fill-color);\n",
              "      border-right-color: var(--fill-color);\n",
              "    }\n",
              "    40% {\n",
              "      border-color: transparent;\n",
              "      border-right-color: var(--fill-color);\n",
              "      border-top-color: var(--fill-color);\n",
              "    }\n",
              "    60% {\n",
              "      border-color: transparent;\n",
              "      border-right-color: var(--fill-color);\n",
              "    }\n",
              "    80% {\n",
              "      border-color: transparent;\n",
              "      border-right-color: var(--fill-color);\n",
              "      border-bottom-color: var(--fill-color);\n",
              "    }\n",
              "    90% {\n",
              "      border-color: transparent;\n",
              "      border-bottom-color: var(--fill-color);\n",
              "    }\n",
              "  }\n",
              "</style>\n",
              "\n",
              "      <script>\n",
              "        async function quickchart(key) {\n",
              "          const quickchartButtonEl =\n",
              "            document.querySelector('#' + key + ' button');\n",
              "          quickchartButtonEl.disabled = true;  // To prevent multiple clicks.\n",
              "          quickchartButtonEl.classList.add('colab-df-spinner');\n",
              "          try {\n",
              "            const charts = await google.colab.kernel.invokeFunction(\n",
              "                'suggestCharts', [key], {});\n",
              "          } catch (error) {\n",
              "            console.error('Error during call to suggestCharts:', error);\n",
              "          }\n",
              "          quickchartButtonEl.classList.remove('colab-df-spinner');\n",
              "          quickchartButtonEl.classList.add('colab-df-quickchart-complete');\n",
              "        }\n",
              "        (() => {\n",
              "          let quickchartButtonEl =\n",
              "            document.querySelector('#df-5e0321b1-9b2a-4f11-bd89-d0c0efe03628 button');\n",
              "          quickchartButtonEl.style.display =\n",
              "            google.colab.kernel.accessAllowed ? 'block' : 'none';\n",
              "        })();\n",
              "      </script>\n",
              "    </div>\n",
              "\n",
              "    </div>\n",
              "  </div>\n"
            ],
            "application/vnd.google.colaboratory.intrinsic+json": {
              "type": "dataframe",
              "summary": "{\n  \"name\": \"read_file_csv(folder_path_sard, 'sard_labels\",\n  \"rows\": 6532,\n  \"fields\": [\n    {\n      \"column\": \"filename\",\n      \"properties\": {\n        \"dtype\": \"category\",\n        \"num_unique_values\": 1981,\n        \"samples\": [\n          \"gss0610.jpg\",\n          \"gss2082.jpg\",\n          \"gss1364.jpg\"\n        ],\n        \"semantic_type\": \"\",\n        \"description\": \"\"\n      }\n    },\n    {\n      \"column\": \"width\",\n      \"properties\": {\n        \"dtype\": \"number\",\n        \"std\": 0,\n        \"min\": 1920,\n        \"max\": 1920,\n        \"num_unique_values\": 1,\n        \"samples\": [\n          1920\n        ],\n        \"semantic_type\": \"\",\n        \"description\": \"\"\n      }\n    },\n    {\n      \"column\": \"height\",\n      \"properties\": {\n        \"dtype\": \"number\",\n        \"std\": 0,\n        \"min\": 1080,\n        \"max\": 1080,\n        \"num_unique_values\": 1,\n        \"samples\": [\n          1080\n        ],\n        \"semantic_type\": \"\",\n        \"description\": \"\"\n      }\n    },\n    {\n      \"column\": \"class\",\n      \"properties\": {\n        \"dtype\": \"category\",\n        \"num_unique_values\": 6,\n        \"samples\": [\n          \"Walking\"\n        ],\n        \"semantic_type\": \"\",\n        \"description\": \"\"\n      }\n    },\n    {\n      \"column\": \"xmin\",\n      \"properties\": {\n        \"dtype\": \"number\",\n        \"std\": 469,\n        \"min\": 1,\n        \"max\": 1909,\n        \"num_unique_values\": 1786,\n        \"samples\": [\n          732\n        ],\n        \"semantic_type\": \"\",\n        \"description\": \"\"\n      }\n    },\n    {\n      \"column\": \"ymin\",\n      \"properties\": {\n        \"dtype\": \"number\",\n        \"std\": 261,\n        \"min\": 1,\n        \"max\": 1058,\n        \"num_unique_values\": 1017,\n        \"samples\": [\n          991\n        ],\n        \"semantic_type\": \"\",\n        \"description\": \"\"\n      }\n    },\n    {\n      \"column\": \"xmax\",\n      \"properties\": {\n        \"dtype\": \"number\",\n        \"std\": 468,\n        \"min\": 12,\n        \"max\": 1920,\n        \"num_unique_values\": 1774,\n        \"samples\": [\n          709\n        ],\n        \"semantic_type\": \"\",\n        \"description\": \"\"\n      }\n    },\n    {\n      \"column\": \"ymax\",\n      \"properties\": {\n        \"dtype\": \"number\",\n        \"std\": 268,\n        \"min\": 9,\n        \"max\": 1080,\n        \"num_unique_values\": 1052,\n        \"samples\": [\n          332\n        ],\n        \"semantic_type\": \"\",\n        \"description\": \"\"\n      }\n    }\n  ]\n}"
            }
          },
          "metadata": {},
          "execution_count": 55
        }
      ]
    },
    {
      "cell_type": "code",
      "source": [
        "update_csv_filenames(folder_path_sard, 'sard_person_labels.csv')\n",
        "read_file_csv(folder_path_sard, 'sard_person_labels.csv')"
      ],
      "metadata": {
        "id": "xerLheAf7zve",
        "outputId": "ad193aa5-b62f-4470-c880-d49146954b66",
        "colab": {
          "base_uri": "https://localhost:8080/",
          "height": 569
        }
      },
      "execution_count": null,
      "outputs": [
        {
          "output_type": "stream",
          "name": "stdout",
          "text": [
            "Updated CSV 'sard_person_labels.csv':\n",
            "      filename  width  height   class  xmin  ymin  xmax  ymax\n",
            "0  gss0001.jpg   1920    1080  person  1110   358  1134   424\n",
            "1  gss0001.jpg   1920    1080  person  1077   367  1100   428\n",
            "2  gss0001.jpg   1920    1080  person  1041   144  1061   173\n",
            "3  gss0002.jpg   1920    1080  person  1041   142  1062   173\n",
            "4  gss0002.jpg   1920    1080  person  1079   365  1101   428\n",
            "Attempting to read: /content/drive/MyDrive/projectUPV/datasets/SARD_dataset/SARD/sard_person_labels.csv\n"
          ]
        },
        {
          "output_type": "execute_result",
          "data": {
            "text/plain": [
              "         filename  width  height   class  xmin  ymin  xmax  ymax\n",
              "0     gss0001.jpg   1920    1080  person  1110   358  1134   424\n",
              "1     gss0001.jpg   1920    1080  person  1077   367  1100   428\n",
              "2     gss0001.jpg   1920    1080  person  1041   144  1061   173\n",
              "3     gss0002.jpg   1920    1080  person  1041   142  1062   173\n",
              "4     gss0002.jpg   1920    1080  person  1079   365  1101   428\n",
              "...           ...    ...     ...     ...   ...   ...   ...   ...\n",
              "6527  gss2104.jpg   1920    1080  person  1174   604  1226   672\n",
              "6528  gss2104.jpg   1920    1080  person  1226  1040  1266  1080\n",
              "6529  gss2104.jpg   1920    1080  person  1391   931  1458   982\n",
              "6530  gss2104.jpg   1920    1080  person  1548  1032  1608  1071\n",
              "6531  gss2104.jpg   1920    1080  person  1840  1011  1918  1075\n",
              "\n",
              "[6532 rows x 8 columns]"
            ],
            "text/html": [
              "\n",
              "  <div id=\"df-1fc25c6d-7369-474a-a0c4-6e11fae0138b\" class=\"colab-df-container\">\n",
              "    <div>\n",
              "<style scoped>\n",
              "    .dataframe tbody tr th:only-of-type {\n",
              "        vertical-align: middle;\n",
              "    }\n",
              "\n",
              "    .dataframe tbody tr th {\n",
              "        vertical-align: top;\n",
              "    }\n",
              "\n",
              "    .dataframe thead th {\n",
              "        text-align: right;\n",
              "    }\n",
              "</style>\n",
              "<table border=\"1\" class=\"dataframe\">\n",
              "  <thead>\n",
              "    <tr style=\"text-align: right;\">\n",
              "      <th></th>\n",
              "      <th>filename</th>\n",
              "      <th>width</th>\n",
              "      <th>height</th>\n",
              "      <th>class</th>\n",
              "      <th>xmin</th>\n",
              "      <th>ymin</th>\n",
              "      <th>xmax</th>\n",
              "      <th>ymax</th>\n",
              "    </tr>\n",
              "  </thead>\n",
              "  <tbody>\n",
              "    <tr>\n",
              "      <th>0</th>\n",
              "      <td>gss0001.jpg</td>\n",
              "      <td>1920</td>\n",
              "      <td>1080</td>\n",
              "      <td>person</td>\n",
              "      <td>1110</td>\n",
              "      <td>358</td>\n",
              "      <td>1134</td>\n",
              "      <td>424</td>\n",
              "    </tr>\n",
              "    <tr>\n",
              "      <th>1</th>\n",
              "      <td>gss0001.jpg</td>\n",
              "      <td>1920</td>\n",
              "      <td>1080</td>\n",
              "      <td>person</td>\n",
              "      <td>1077</td>\n",
              "      <td>367</td>\n",
              "      <td>1100</td>\n",
              "      <td>428</td>\n",
              "    </tr>\n",
              "    <tr>\n",
              "      <th>2</th>\n",
              "      <td>gss0001.jpg</td>\n",
              "      <td>1920</td>\n",
              "      <td>1080</td>\n",
              "      <td>person</td>\n",
              "      <td>1041</td>\n",
              "      <td>144</td>\n",
              "      <td>1061</td>\n",
              "      <td>173</td>\n",
              "    </tr>\n",
              "    <tr>\n",
              "      <th>3</th>\n",
              "      <td>gss0002.jpg</td>\n",
              "      <td>1920</td>\n",
              "      <td>1080</td>\n",
              "      <td>person</td>\n",
              "      <td>1041</td>\n",
              "      <td>142</td>\n",
              "      <td>1062</td>\n",
              "      <td>173</td>\n",
              "    </tr>\n",
              "    <tr>\n",
              "      <th>4</th>\n",
              "      <td>gss0002.jpg</td>\n",
              "      <td>1920</td>\n",
              "      <td>1080</td>\n",
              "      <td>person</td>\n",
              "      <td>1079</td>\n",
              "      <td>365</td>\n",
              "      <td>1101</td>\n",
              "      <td>428</td>\n",
              "    </tr>\n",
              "    <tr>\n",
              "      <th>...</th>\n",
              "      <td>...</td>\n",
              "      <td>...</td>\n",
              "      <td>...</td>\n",
              "      <td>...</td>\n",
              "      <td>...</td>\n",
              "      <td>...</td>\n",
              "      <td>...</td>\n",
              "      <td>...</td>\n",
              "    </tr>\n",
              "    <tr>\n",
              "      <th>6527</th>\n",
              "      <td>gss2104.jpg</td>\n",
              "      <td>1920</td>\n",
              "      <td>1080</td>\n",
              "      <td>person</td>\n",
              "      <td>1174</td>\n",
              "      <td>604</td>\n",
              "      <td>1226</td>\n",
              "      <td>672</td>\n",
              "    </tr>\n",
              "    <tr>\n",
              "      <th>6528</th>\n",
              "      <td>gss2104.jpg</td>\n",
              "      <td>1920</td>\n",
              "      <td>1080</td>\n",
              "      <td>person</td>\n",
              "      <td>1226</td>\n",
              "      <td>1040</td>\n",
              "      <td>1266</td>\n",
              "      <td>1080</td>\n",
              "    </tr>\n",
              "    <tr>\n",
              "      <th>6529</th>\n",
              "      <td>gss2104.jpg</td>\n",
              "      <td>1920</td>\n",
              "      <td>1080</td>\n",
              "      <td>person</td>\n",
              "      <td>1391</td>\n",
              "      <td>931</td>\n",
              "      <td>1458</td>\n",
              "      <td>982</td>\n",
              "    </tr>\n",
              "    <tr>\n",
              "      <th>6530</th>\n",
              "      <td>gss2104.jpg</td>\n",
              "      <td>1920</td>\n",
              "      <td>1080</td>\n",
              "      <td>person</td>\n",
              "      <td>1548</td>\n",
              "      <td>1032</td>\n",
              "      <td>1608</td>\n",
              "      <td>1071</td>\n",
              "    </tr>\n",
              "    <tr>\n",
              "      <th>6531</th>\n",
              "      <td>gss2104.jpg</td>\n",
              "      <td>1920</td>\n",
              "      <td>1080</td>\n",
              "      <td>person</td>\n",
              "      <td>1840</td>\n",
              "      <td>1011</td>\n",
              "      <td>1918</td>\n",
              "      <td>1075</td>\n",
              "    </tr>\n",
              "  </tbody>\n",
              "</table>\n",
              "<p>6532 rows × 8 columns</p>\n",
              "</div>\n",
              "    <div class=\"colab-df-buttons\">\n",
              "\n",
              "  <div class=\"colab-df-container\">\n",
              "    <button class=\"colab-df-convert\" onclick=\"convertToInteractive('df-1fc25c6d-7369-474a-a0c4-6e11fae0138b')\"\n",
              "            title=\"Convert this dataframe to an interactive table.\"\n",
              "            style=\"display:none;\">\n",
              "\n",
              "  <svg xmlns=\"http://www.w3.org/2000/svg\" height=\"24px\" viewBox=\"0 -960 960 960\">\n",
              "    <path d=\"M120-120v-720h720v720H120Zm60-500h600v-160H180v160Zm220 220h160v-160H400v160Zm0 220h160v-160H400v160ZM180-400h160v-160H180v160Zm440 0h160v-160H620v160ZM180-180h160v-160H180v160Zm440 0h160v-160H620v160Z\"/>\n",
              "  </svg>\n",
              "    </button>\n",
              "\n",
              "  <style>\n",
              "    .colab-df-container {\n",
              "      display:flex;\n",
              "      gap: 12px;\n",
              "    }\n",
              "\n",
              "    .colab-df-convert {\n",
              "      background-color: #E8F0FE;\n",
              "      border: none;\n",
              "      border-radius: 50%;\n",
              "      cursor: pointer;\n",
              "      display: none;\n",
              "      fill: #1967D2;\n",
              "      height: 32px;\n",
              "      padding: 0 0 0 0;\n",
              "      width: 32px;\n",
              "    }\n",
              "\n",
              "    .colab-df-convert:hover {\n",
              "      background-color: #E2EBFA;\n",
              "      box-shadow: 0px 1px 2px rgba(60, 64, 67, 0.3), 0px 1px 3px 1px rgba(60, 64, 67, 0.15);\n",
              "      fill: #174EA6;\n",
              "    }\n",
              "\n",
              "    .colab-df-buttons div {\n",
              "      margin-bottom: 4px;\n",
              "    }\n",
              "\n",
              "    [theme=dark] .colab-df-convert {\n",
              "      background-color: #3B4455;\n",
              "      fill: #D2E3FC;\n",
              "    }\n",
              "\n",
              "    [theme=dark] .colab-df-convert:hover {\n",
              "      background-color: #434B5C;\n",
              "      box-shadow: 0px 1px 3px 1px rgba(0, 0, 0, 0.15);\n",
              "      filter: drop-shadow(0px 1px 2px rgba(0, 0, 0, 0.3));\n",
              "      fill: #FFFFFF;\n",
              "    }\n",
              "  </style>\n",
              "\n",
              "    <script>\n",
              "      const buttonEl =\n",
              "        document.querySelector('#df-1fc25c6d-7369-474a-a0c4-6e11fae0138b button.colab-df-convert');\n",
              "      buttonEl.style.display =\n",
              "        google.colab.kernel.accessAllowed ? 'block' : 'none';\n",
              "\n",
              "      async function convertToInteractive(key) {\n",
              "        const element = document.querySelector('#df-1fc25c6d-7369-474a-a0c4-6e11fae0138b');\n",
              "        const dataTable =\n",
              "          await google.colab.kernel.invokeFunction('convertToInteractive',\n",
              "                                                    [key], {});\n",
              "        if (!dataTable) return;\n",
              "\n",
              "        const docLinkHtml = 'Like what you see? Visit the ' +\n",
              "          '<a target=\"_blank\" href=https://colab.research.google.com/notebooks/data_table.ipynb>data table notebook</a>'\n",
              "          + ' to learn more about interactive tables.';\n",
              "        element.innerHTML = '';\n",
              "        dataTable['output_type'] = 'display_data';\n",
              "        await google.colab.output.renderOutput(dataTable, element);\n",
              "        const docLink = document.createElement('div');\n",
              "        docLink.innerHTML = docLinkHtml;\n",
              "        element.appendChild(docLink);\n",
              "      }\n",
              "    </script>\n",
              "  </div>\n",
              "\n",
              "\n",
              "    <div id=\"df-c2013bdd-7151-4763-9ed2-c28b3c0cfd2d\">\n",
              "      <button class=\"colab-df-quickchart\" onclick=\"quickchart('df-c2013bdd-7151-4763-9ed2-c28b3c0cfd2d')\"\n",
              "                title=\"Suggest charts\"\n",
              "                style=\"display:none;\">\n",
              "\n",
              "<svg xmlns=\"http://www.w3.org/2000/svg\" height=\"24px\"viewBox=\"0 0 24 24\"\n",
              "     width=\"24px\">\n",
              "    <g>\n",
              "        <path d=\"M19 3H5c-1.1 0-2 .9-2 2v14c0 1.1.9 2 2 2h14c1.1 0 2-.9 2-2V5c0-1.1-.9-2-2-2zM9 17H7v-7h2v7zm4 0h-2V7h2v10zm4 0h-2v-4h2v4z\"/>\n",
              "    </g>\n",
              "</svg>\n",
              "      </button>\n",
              "\n",
              "<style>\n",
              "  .colab-df-quickchart {\n",
              "      --bg-color: #E8F0FE;\n",
              "      --fill-color: #1967D2;\n",
              "      --hover-bg-color: #E2EBFA;\n",
              "      --hover-fill-color: #174EA6;\n",
              "      --disabled-fill-color: #AAA;\n",
              "      --disabled-bg-color: #DDD;\n",
              "  }\n",
              "\n",
              "  [theme=dark] .colab-df-quickchart {\n",
              "      --bg-color: #3B4455;\n",
              "      --fill-color: #D2E3FC;\n",
              "      --hover-bg-color: #434B5C;\n",
              "      --hover-fill-color: #FFFFFF;\n",
              "      --disabled-bg-color: #3B4455;\n",
              "      --disabled-fill-color: #666;\n",
              "  }\n",
              "\n",
              "  .colab-df-quickchart {\n",
              "    background-color: var(--bg-color);\n",
              "    border: none;\n",
              "    border-radius: 50%;\n",
              "    cursor: pointer;\n",
              "    display: none;\n",
              "    fill: var(--fill-color);\n",
              "    height: 32px;\n",
              "    padding: 0;\n",
              "    width: 32px;\n",
              "  }\n",
              "\n",
              "  .colab-df-quickchart:hover {\n",
              "    background-color: var(--hover-bg-color);\n",
              "    box-shadow: 0 1px 2px rgba(60, 64, 67, 0.3), 0 1px 3px 1px rgba(60, 64, 67, 0.15);\n",
              "    fill: var(--button-hover-fill-color);\n",
              "  }\n",
              "\n",
              "  .colab-df-quickchart-complete:disabled,\n",
              "  .colab-df-quickchart-complete:disabled:hover {\n",
              "    background-color: var(--disabled-bg-color);\n",
              "    fill: var(--disabled-fill-color);\n",
              "    box-shadow: none;\n",
              "  }\n",
              "\n",
              "  .colab-df-spinner {\n",
              "    border: 2px solid var(--fill-color);\n",
              "    border-color: transparent;\n",
              "    border-bottom-color: var(--fill-color);\n",
              "    animation:\n",
              "      spin 1s steps(1) infinite;\n",
              "  }\n",
              "\n",
              "  @keyframes spin {\n",
              "    0% {\n",
              "      border-color: transparent;\n",
              "      border-bottom-color: var(--fill-color);\n",
              "      border-left-color: var(--fill-color);\n",
              "    }\n",
              "    20% {\n",
              "      border-color: transparent;\n",
              "      border-left-color: var(--fill-color);\n",
              "      border-top-color: var(--fill-color);\n",
              "    }\n",
              "    30% {\n",
              "      border-color: transparent;\n",
              "      border-left-color: var(--fill-color);\n",
              "      border-top-color: var(--fill-color);\n",
              "      border-right-color: var(--fill-color);\n",
              "    }\n",
              "    40% {\n",
              "      border-color: transparent;\n",
              "      border-right-color: var(--fill-color);\n",
              "      border-top-color: var(--fill-color);\n",
              "    }\n",
              "    60% {\n",
              "      border-color: transparent;\n",
              "      border-right-color: var(--fill-color);\n",
              "    }\n",
              "    80% {\n",
              "      border-color: transparent;\n",
              "      border-right-color: var(--fill-color);\n",
              "      border-bottom-color: var(--fill-color);\n",
              "    }\n",
              "    90% {\n",
              "      border-color: transparent;\n",
              "      border-bottom-color: var(--fill-color);\n",
              "    }\n",
              "  }\n",
              "</style>\n",
              "\n",
              "      <script>\n",
              "        async function quickchart(key) {\n",
              "          const quickchartButtonEl =\n",
              "            document.querySelector('#' + key + ' button');\n",
              "          quickchartButtonEl.disabled = true;  // To prevent multiple clicks.\n",
              "          quickchartButtonEl.classList.add('colab-df-spinner');\n",
              "          try {\n",
              "            const charts = await google.colab.kernel.invokeFunction(\n",
              "                'suggestCharts', [key], {});\n",
              "          } catch (error) {\n",
              "            console.error('Error during call to suggestCharts:', error);\n",
              "          }\n",
              "          quickchartButtonEl.classList.remove('colab-df-spinner');\n",
              "          quickchartButtonEl.classList.add('colab-df-quickchart-complete');\n",
              "        }\n",
              "        (() => {\n",
              "          let quickchartButtonEl =\n",
              "            document.querySelector('#df-c2013bdd-7151-4763-9ed2-c28b3c0cfd2d button');\n",
              "          quickchartButtonEl.style.display =\n",
              "            google.colab.kernel.accessAllowed ? 'block' : 'none';\n",
              "        })();\n",
              "      </script>\n",
              "    </div>\n",
              "\n",
              "    </div>\n",
              "  </div>\n"
            ],
            "application/vnd.google.colaboratory.intrinsic+json": {
              "type": "dataframe",
              "summary": "{\n  \"name\": \"read_file_csv(folder_path_sard, 'sard_person_labels\",\n  \"rows\": 6532,\n  \"fields\": [\n    {\n      \"column\": \"filename\",\n      \"properties\": {\n        \"dtype\": \"category\",\n        \"num_unique_values\": 1981,\n        \"samples\": [\n          \"gss0610.jpg\",\n          \"gss2082.jpg\",\n          \"gss1364.jpg\"\n        ],\n        \"semantic_type\": \"\",\n        \"description\": \"\"\n      }\n    },\n    {\n      \"column\": \"width\",\n      \"properties\": {\n        \"dtype\": \"number\",\n        \"std\": 0,\n        \"min\": 1920,\n        \"max\": 1920,\n        \"num_unique_values\": 1,\n        \"samples\": [\n          1920\n        ],\n        \"semantic_type\": \"\",\n        \"description\": \"\"\n      }\n    },\n    {\n      \"column\": \"height\",\n      \"properties\": {\n        \"dtype\": \"number\",\n        \"std\": 0,\n        \"min\": 1080,\n        \"max\": 1080,\n        \"num_unique_values\": 1,\n        \"samples\": [\n          1080\n        ],\n        \"semantic_type\": \"\",\n        \"description\": \"\"\n      }\n    },\n    {\n      \"column\": \"class\",\n      \"properties\": {\n        \"dtype\": \"category\",\n        \"num_unique_values\": 1,\n        \"samples\": [\n          \"person\"\n        ],\n        \"semantic_type\": \"\",\n        \"description\": \"\"\n      }\n    },\n    {\n      \"column\": \"xmin\",\n      \"properties\": {\n        \"dtype\": \"number\",\n        \"std\": 469,\n        \"min\": 1,\n        \"max\": 1909,\n        \"num_unique_values\": 1786,\n        \"samples\": [\n          732\n        ],\n        \"semantic_type\": \"\",\n        \"description\": \"\"\n      }\n    },\n    {\n      \"column\": \"ymin\",\n      \"properties\": {\n        \"dtype\": \"number\",\n        \"std\": 261,\n        \"min\": 1,\n        \"max\": 1058,\n        \"num_unique_values\": 1017,\n        \"samples\": [\n          991\n        ],\n        \"semantic_type\": \"\",\n        \"description\": \"\"\n      }\n    },\n    {\n      \"column\": \"xmax\",\n      \"properties\": {\n        \"dtype\": \"number\",\n        \"std\": 468,\n        \"min\": 12,\n        \"max\": 1920,\n        \"num_unique_values\": 1774,\n        \"samples\": [\n          709\n        ],\n        \"semantic_type\": \"\",\n        \"description\": \"\"\n      }\n    },\n    {\n      \"column\": \"ymax\",\n      \"properties\": {\n        \"dtype\": \"number\",\n        \"std\": 268,\n        \"min\": 9,\n        \"max\": 1080,\n        \"num_unique_values\": 1052,\n        \"samples\": [\n          332\n        ],\n        \"semantic_type\": \"\",\n        \"description\": \"\"\n      }\n    }\n  ]\n}"
            }
          },
          "metadata": {},
          "execution_count": 56
        }
      ]
    },
    {
      "cell_type": "markdown",
      "source": [
        "Now we need to update the filenames in the XML files as well, to avoid inconsistencies:"
      ],
      "metadata": {
        "id": "JWI-D07orobS"
      }
    },
    {
      "cell_type": "code",
      "source": [
        "def update_xml_filenames_sard(folder_path, prefix=\"gss\"): # To update the filename tag in each xml file in a folder\n",
        "  \"\"\"\n",
        "  Update the <filename> tag in each XML file in the folder to follow gssNNNN.jpg format.\n",
        "\n",
        "  Args:\n",
        "    folder_path (str): Path to the folder containing XML files.\n",
        "    prefix (str): Prefix for the filenames (default: 'gss').\n",
        "\n",
        "  Returns:\n",
        "    list: List of XML filenames that were updated.\n",
        "  \"\"\"\n",
        "  updated_files = []\n",
        "  updated = 0\n",
        "\n",
        "  for file in os.listdir(folder_path):\n",
        "    if file.endswith('.xml'):\n",
        "      xml_path = os.path.join(folder_path, file)\n",
        "      try:\n",
        "        tree = ET.parse(xml_path)\n",
        "        root = tree.getroot()\n",
        "\n",
        "        filename_tag = root.find('filename')\n",
        "        if filename_tag is not None:\n",
        "          old_name = filename_tag.text\n",
        "          new_name = format_filename(old_name, prefix)\n",
        "\n",
        "          if old_name != new_name:\n",
        "            filename_tag.text = new_name\n",
        "            tree.write(xml_path)\n",
        "            updated += 1\n",
        "            updated_files.append(file)\n",
        "\n",
        "      except ET.ParseError:\n",
        "        print(f\"Failed to parse {file}\")\n",
        "\n",
        "  # print(f\"Updated <filename> in {updated} XML files.\")\n",
        "  return updated_files\n",
        "\n",
        "# This function change the filename tag only if 'old_name' is different from what it should be (in other words 'new_name')\n",
        "\n",
        "update_xml_filenames_sard(folder_path_sard)"
      ],
      "metadata": {
        "id": "frWLHAjJpXKO",
        "outputId": "cce8e7e0-1d35-4f7e-f3c4-3cd20ac14d41",
        "colab": {
          "base_uri": "https://localhost:8080/"
        },
        "collapsed": true
      },
      "execution_count": null,
      "outputs": [
        {
          "output_type": "stream",
          "name": "stdout",
          "text": [
            "Updated <filename> in 939 XML files.\n"
          ]
        },
        {
          "output_type": "execute_result",
          "data": {
            "text/plain": [
              "['gss0500.xml',\n",
              " 'gss0050.xml',\n",
              " 'gss0501.xml',\n",
              " 'gss0504.xml',\n",
              " 'gss0506.xml',\n",
              " 'gss0051.xml',\n",
              " 'gss0508.xml',\n",
              " 'gss0507.xml',\n",
              " 'gss0509.xml',\n",
              " 'gss0510.xml',\n",
              " 'gss0505.xml',\n",
              " 'gss0511.xml',\n",
              " 'gss0512.xml',\n",
              " 'gss0518.xml',\n",
              " 'gss0052.xml',\n",
              " 'gss0516.xml',\n",
              " 'gss0513.xml',\n",
              " 'gss0515.xml',\n",
              " 'gss0517.xml',\n",
              " 'gss0514.xml',\n",
              " 'gss0519.xml',\n",
              " 'gss0521.xml',\n",
              " 'gss0523.xml',\n",
              " 'gss0527.xml',\n",
              " 'gss0526.xml',\n",
              " 'gss0525.xml',\n",
              " 'gss0520.xml',\n",
              " 'gss0524.xml',\n",
              " 'gss0522.xml',\n",
              " 'gss0530.xml',\n",
              " 'gss0529.xml',\n",
              " 'gss0528.xml',\n",
              " 'gss0532.xml',\n",
              " 'gss0531.xml',\n",
              " 'gss0534.xml',\n",
              " 'gss0053.xml',\n",
              " 'gss0533.xml',\n",
              " 'gss0054.xml',\n",
              " 'gss0541.xml',\n",
              " 'gss0542.xml',\n",
              " 'gss0537.xml',\n",
              " 'gss0540.xml',\n",
              " 'gss0538.xml',\n",
              " 'gss0539.xml',\n",
              " 'gss0535.xml',\n",
              " 'gss0536.xml',\n",
              " 'gss0548.xml',\n",
              " 'gss0543.xml',\n",
              " 'gss0546.xml',\n",
              " 'gss0549.xml',\n",
              " 'gss0544.xml',\n",
              " 'gss0547.xml',\n",
              " 'gss0545.xml',\n",
              " 'gss0055.xml',\n",
              " 'gss0555.xml',\n",
              " 'gss0550.xml',\n",
              " 'gss0557.xml',\n",
              " 'gss0553.xml',\n",
              " 'gss0551.xml',\n",
              " 'gss0552.xml',\n",
              " 'gss0556.xml',\n",
              " 'gss0554.xml',\n",
              " 'gss0558.xml',\n",
              " 'gss0560.xml',\n",
              " 'gss0056.xml',\n",
              " 'gss0561.xml',\n",
              " 'gss0562.xml',\n",
              " 'gss0559.xml',\n",
              " 'gss0563.xml',\n",
              " 'gss0565.xml',\n",
              " 'gss0566.xml',\n",
              " 'gss0569.xml',\n",
              " 'gss0568.xml',\n",
              " 'gss0564.xml',\n",
              " 'gss0567.xml',\n",
              " 'gss0057.xml',\n",
              " 'gss0575.xml',\n",
              " 'gss0572.xml',\n",
              " 'gss0574.xml',\n",
              " 'gss0576.xml',\n",
              " 'gss0573.xml',\n",
              " 'gss0570.xml',\n",
              " 'gss0577.xml',\n",
              " 'gss0571.xml',\n",
              " 'gss0579.xml',\n",
              " 'gss0058.xml',\n",
              " 'gss0578.xml',\n",
              " 'gss0582.xml',\n",
              " 'gss0580.xml',\n",
              " 'gss0583.xml',\n",
              " 'gss0581.xml',\n",
              " 'gss0588.xml',\n",
              " 'gss0587.xml',\n",
              " 'gss0586.xml',\n",
              " 'gss0584.xml',\n",
              " 'gss0585.xml',\n",
              " 'gss0589.xml',\n",
              " 'gss0590.xml',\n",
              " 'gss0591.xml',\n",
              " 'gss0592.xml',\n",
              " 'gss0059.xml',\n",
              " 'gss0594.xml',\n",
              " 'gss0597.xml',\n",
              " 'gss0598.xml',\n",
              " 'gss0596.xml',\n",
              " 'gss0593.xml',\n",
              " 'gss0599.xml',\n",
              " 'gss0595.xml',\n",
              " 'gss0060.xml',\n",
              " 'gss0602.xml',\n",
              " 'gss0006.xml',\n",
              " 'gss0601.xml',\n",
              " 'gss0603.xml',\n",
              " 'gss0600.xml',\n",
              " 'gss0604.xml',\n",
              " 'gss0611.xml',\n",
              " 'gss0608.xml',\n",
              " 'gss0610.xml',\n",
              " 'gss0605.xml',\n",
              " 'gss0609.xml',\n",
              " 'gss0607.xml',\n",
              " 'gss0606.xml',\n",
              " 'gss0617.xml',\n",
              " 'gss0618.xml',\n",
              " 'gss0614.xml',\n",
              " 'gss0612.xml',\n",
              " 'gss0613.xml',\n",
              " 'gss0616.xml',\n",
              " 'gss0615.xml',\n",
              " 'gss0626.xml',\n",
              " 'gss0627.xml',\n",
              " 'gss0624.xml',\n",
              " 'gss0620.xml',\n",
              " 'gss0622.xml',\n",
              " 'gss0621.xml',\n",
              " 'gss0625.xml',\n",
              " 'gss0619.xml',\n",
              " 'gss0623.xml',\n",
              " 'gss0630.xml',\n",
              " 'gss0635.xml',\n",
              " 'gss0634.xml',\n",
              " 'gss0631.xml',\n",
              " 'gss0632.xml',\n",
              " 'gss0628.xml',\n",
              " 'gss0636.xml',\n",
              " 'gss0633.xml',\n",
              " 'gss0629.xml',\n",
              " 'gss0637.xml',\n",
              " 'gss0639.xml',\n",
              " 'gss0640.xml',\n",
              " 'gss0644.xml',\n",
              " 'gss0638.xml',\n",
              " 'gss0642.xml',\n",
              " 'gss0643.xml',\n",
              " 'gss0641.xml',\n",
              " 'gss0065.xml',\n",
              " 'gss0645.xml',\n",
              " 'gss0648.xml',\n",
              " 'gss0649.xml',\n",
              " 'gss0646.xml',\n",
              " 'gss0647.xml',\n",
              " 'gss0650.xml',\n",
              " 'gss0652.xml',\n",
              " 'gss0654.xml',\n",
              " 'gss0653.xml',\n",
              " 'gss0651.xml',\n",
              " 'gss0659.xml',\n",
              " 'gss0656.xml',\n",
              " 'gss0655.xml',\n",
              " 'gss0657.xml',\n",
              " 'gss0658.xml',\n",
              " 'gss0066.xml',\n",
              " 'gss0666.xml',\n",
              " 'gss0663.xml',\n",
              " 'gss0667.xml',\n",
              " 'gss0660.xml',\n",
              " 'gss0668.xml',\n",
              " 'gss0665.xml',\n",
              " 'gss0661.xml',\n",
              " 'gss0664.xml',\n",
              " 'gss0662.xml',\n",
              " 'gss0676.xml',\n",
              " 'gss0670.xml',\n",
              " 'gss0677.xml',\n",
              " 'gss0674.xml',\n",
              " 'gss0675.xml',\n",
              " 'gss0672.xml',\n",
              " 'gss0673.xml',\n",
              " 'gss0671.xml',\n",
              " 'gss0669.xml',\n",
              " 'gss0684.xml',\n",
              " 'gss0683.xml',\n",
              " 'gss0682.xml',\n",
              " 'gss0678.xml',\n",
              " 'gss0680.xml',\n",
              " 'gss0679.xml',\n",
              " 'gss0686.xml',\n",
              " 'gss0681.xml',\n",
              " 'gss0685.xml',\n",
              " 'gss0688.xml',\n",
              " 'gss0695.xml',\n",
              " 'gss0690.xml',\n",
              " 'gss0687.xml',\n",
              " 'gss0689.xml',\n",
              " 'gss0693.xml',\n",
              " 'gss0691.xml',\n",
              " 'gss0694.xml',\n",
              " 'gss0692.xml',\n",
              " 'gss0696.xml',\n",
              " 'gss0700.xml',\n",
              " 'gss0703.xml',\n",
              " 'gss0704.xml',\n",
              " 'gss0697.xml',\n",
              " 'gss0698.xml',\n",
              " 'gss0007.xml',\n",
              " 'gss0699.xml',\n",
              " 'gss0070.xml',\n",
              " 'gss0701.xml',\n",
              " 'gss0702.xml',\n",
              " 'gss0708.xml',\n",
              " 'gss0710.xml',\n",
              " 'gss0711.xml',\n",
              " 'gss0707.xml',\n",
              " 'gss0709.xml',\n",
              " 'gss0706.xml',\n",
              " 'gss0705.xml',\n",
              " 'gss0712.xml',\n",
              " 'gss0716.xml',\n",
              " 'gss0713.xml',\n",
              " 'gss0714.xml',\n",
              " 'gss0715.xml',\n",
              " 'gss0721.xml',\n",
              " 'gss0719.xml',\n",
              " 'gss0717.xml',\n",
              " 'gss0720.xml',\n",
              " 'gss0718.xml',\n",
              " 'gss0727.xml',\n",
              " 'gss0723.xml',\n",
              " 'gss0726.xml',\n",
              " 'gss0724.xml',\n",
              " 'gss0725.xml',\n",
              " 'gss0722.xml',\n",
              " 'gss0731.xml',\n",
              " 'gss0730.xml',\n",
              " 'gss0729.xml',\n",
              " 'gss0728.xml',\n",
              " 'gss0733.xml',\n",
              " 'gss0735.xml',\n",
              " 'gss0734.xml',\n",
              " 'gss0736.xml',\n",
              " 'gss0732.xml',\n",
              " 'gss0747.xml',\n",
              " 'gss0738.xml',\n",
              " 'gss0737.xml',\n",
              " 'gss0741.xml',\n",
              " 'gss0739.xml',\n",
              " 'gss0740.xml',\n",
              " 'gss0742.xml',\n",
              " 'gss0750.xml',\n",
              " 'gss0753.xml',\n",
              " 'gss0749.xml',\n",
              " 'gss0751.xml',\n",
              " 'gss0748.xml',\n",
              " 'gss0752.xml',\n",
              " 'gss0757.xml',\n",
              " 'gss0758.xml',\n",
              " 'gss0760.xml',\n",
              " 'gss0759.xml',\n",
              " 'gss0754.xml',\n",
              " 'gss0756.xml',\n",
              " 'gss0755.xml',\n",
              " 'gss0762.xml',\n",
              " 'gss0765.xml',\n",
              " 'gss0764.xml',\n",
              " 'gss0761.xml',\n",
              " 'gss0766.xml',\n",
              " 'gss0763.xml',\n",
              " 'gss0773.xml',\n",
              " 'gss0767.xml',\n",
              " 'gss0768.xml',\n",
              " 'gss0771.xml',\n",
              " 'gss0770.xml',\n",
              " 'gss0772.xml',\n",
              " 'gss0769.xml',\n",
              " 'gss0776.xml',\n",
              " 'gss0775.xml',\n",
              " 'gss0781.xml',\n",
              " 'gss0778.xml',\n",
              " 'gss0777.xml',\n",
              " 'gss0779.xml',\n",
              " 'gss0780.xml',\n",
              " 'gss0774.xml',\n",
              " 'gss0784.xml',\n",
              " 'gss0783.xml',\n",
              " 'gss0785.xml',\n",
              " 'gss0782.xml',\n",
              " 'gss0786.xml',\n",
              " 'gss0787.xml',\n",
              " 'gss0788.xml',\n",
              " 'gss0790.xml',\n",
              " 'gss0794.xml',\n",
              " 'gss0792.xml',\n",
              " 'gss0789.xml',\n",
              " 'gss0791.xml',\n",
              " 'gss0793.xml',\n",
              " 'gss0795.xml',\n",
              " 'gss0798.xml',\n",
              " 'gss0008.xml',\n",
              " 'gss0800.xml',\n",
              " 'gss0797.xml',\n",
              " 'gss0796.xml',\n",
              " 'gss0801.xml',\n",
              " 'gss0803.xml',\n",
              " 'gss0802.xml',\n",
              " 'gss0799.xml',\n",
              " 'gss0809.xml',\n",
              " 'gss0812.xml',\n",
              " 'gss0805.xml',\n",
              " 'gss0804.xml',\n",
              " 'gss0807.xml',\n",
              " 'gss0810.xml',\n",
              " 'gss0811.xml',\n",
              " 'gss0808.xml',\n",
              " 'gss0820.xml',\n",
              " 'gss0817.xml',\n",
              " 'gss0819.xml',\n",
              " 'gss0813.xml',\n",
              " 'gss0818.xml',\n",
              " 'gss0815.xml',\n",
              " 'gss0814.xml',\n",
              " 'gss0816.xml',\n",
              " 'gss0828.xml',\n",
              " 'gss0829.xml',\n",
              " 'gss0822.xml',\n",
              " 'gss0824.xml',\n",
              " 'gss0823.xml',\n",
              " 'gss0825.xml',\n",
              " 'gss0821.xml',\n",
              " 'gss0826.xml',\n",
              " 'gss0827.xml',\n",
              " 'gss0838.xml',\n",
              " 'gss0833.xml',\n",
              " 'gss0837.xml',\n",
              " 'gss0083.xml',\n",
              " 'gss0835.xml',\n",
              " 'gss0832.xml',\n",
              " 'gss0834.xml',\n",
              " 'gss0830.xml',\n",
              " 'gss0831.xml',\n",
              " 'gss0843.xml',\n",
              " 'gss0841.xml',\n",
              " 'gss0848.xml',\n",
              " 'gss0846.xml',\n",
              " 'gss0842.xml',\n",
              " 'gss0844.xml',\n",
              " 'gss0839.xml',\n",
              " 'gss0847.xml',\n",
              " 'gss0845.xml',\n",
              " 'gss0840.xml',\n",
              " 'gss0854.xml',\n",
              " 'gss0855.xml',\n",
              " 'gss0857.xml',\n",
              " 'gss0850.xml',\n",
              " 'gss0849.xml',\n",
              " 'gss0851.xml',\n",
              " 'gss0858.xml',\n",
              " 'gss0856.xml',\n",
              " 'gss0853.xml',\n",
              " 'gss0085.xml',\n",
              " 'gss0852.xml',\n",
              " 'gss0859.xml',\n",
              " 'gss0860.xml',\n",
              " 'gss0086.xml',\n",
              " 'gss0863.xml',\n",
              " 'gss0865.xml',\n",
              " 'gss0861.xml',\n",
              " 'gss0867.xml',\n",
              " 'gss0864.xml',\n",
              " 'gss0866.xml',\n",
              " 'gss0862.xml',\n",
              " 'gss0875.xml',\n",
              " 'gss0087.xml',\n",
              " 'gss0877.xml',\n",
              " 'gss0876.xml',\n",
              " 'gss0870.xml',\n",
              " 'gss0874.xml',\n",
              " 'gss0871.xml',\n",
              " 'gss0869.xml',\n",
              " 'gss0873.xml',\n",
              " 'gss0872.xml',\n",
              " 'gss0868.xml',\n",
              " 'gss0880.xml',\n",
              " 'gss0886.xml',\n",
              " 'gss0881.xml',\n",
              " 'gss0878.xml',\n",
              " 'gss0882.xml',\n",
              " 'gss0884.xml',\n",
              " 'gss0883.xml',\n",
              " 'gss0879.xml',\n",
              " 'gss0088.xml',\n",
              " 'gss0885.xml',\n",
              " 'gss0889.xml',\n",
              " 'gss0894.xml',\n",
              " 'gss0892.xml',\n",
              " 'gss0895.xml',\n",
              " 'gss0897.xml',\n",
              " 'gss0089.xml',\n",
              " 'gss0898.xml',\n",
              " 'gss0887.xml',\n",
              " 'gss0893.xml',\n",
              " 'gss0888.xml',\n",
              " 'gss0896.xml',\n",
              " 'gss0900.xml',\n",
              " 'gss0903.xml',\n",
              " 'gss0902.xml',\n",
              " 'gss0906.xml',\n",
              " 'gss0904.xml',\n",
              " 'gss0899.xml',\n",
              " 'gss0905.xml',\n",
              " 'gss0908.xml',\n",
              " 'gss0009.xml',\n",
              " 'gss0090.xml',\n",
              " 'gss0907.xml',\n",
              " 'gss0901.xml',\n",
              " 'gss0091.xml',\n",
              " 'gss0915.xml',\n",
              " 'gss0917.xml',\n",
              " 'gss0911.xml',\n",
              " 'gss0910.xml',\n",
              " 'gss0909.xml',\n",
              " 'gss0914.xml',\n",
              " 'gss0918.xml',\n",
              " 'gss0919.xml',\n",
              " 'gss0913.xml',\n",
              " 'gss0912.xml',\n",
              " 'gss0916.xml',\n",
              " 'gss0927.xml',\n",
              " 'gss0925.xml',\n",
              " 'gss0928.xml',\n",
              " 'gss0926.xml',\n",
              " 'gss0920.xml',\n",
              " 'gss0921.xml',\n",
              " 'gss0924.xml',\n",
              " 'gss0923.xml',\n",
              " 'gss0929.xml',\n",
              " 'gss0092.xml',\n",
              " 'gss0922.xml',\n",
              " 'gss0930.xml',\n",
              " 'gss0094.xml',\n",
              " 'gss0932.xml',\n",
              " 'gss0935.xml',\n",
              " 'gss0936.xml',\n",
              " 'gss0938.xml',\n",
              " 'gss0931.xml',\n",
              " 'gss0939.xml',\n",
              " 'gss0934.xml',\n",
              " 'gss0937.xml',\n",
              " 'gss0933.xml',\n",
              " 'gss0093.xml',\n",
              " 'gss0941.xml',\n",
              " 'gss0940.xml',\n",
              " 'gss0942.xml',\n",
              " 'gss0945.xml',\n",
              " 'gss0944.xml',\n",
              " 'gss0943.xml',\n",
              " 'gss0949.xml',\n",
              " 'gss0948.xml',\n",
              " 'gss0946.xml',\n",
              " 'gss0947.xml',\n",
              " 'gss0955.xml',\n",
              " 'gss0953.xml',\n",
              " 'gss0954.xml',\n",
              " 'gss0956.xml',\n",
              " 'gss0095.xml',\n",
              " 'gss0952.xml',\n",
              " 'gss0950.xml',\n",
              " 'gss0951.xml',\n",
              " 'gss0957.xml',\n",
              " 'gss0960.xml',\n",
              " 'gss0964.xml',\n",
              " 'gss0096.xml',\n",
              " 'gss0965.xml',\n",
              " 'gss0962.xml',\n",
              " 'gss0961.xml',\n",
              " 'gss0963.xml',\n",
              " 'gss0959.xml',\n",
              " 'gss0958.xml',\n",
              " 'gss0966.xml',\n",
              " 'gss0973.xml',\n",
              " 'gss0097.xml',\n",
              " 'gss0972.xml',\n",
              " 'gss0968.xml',\n",
              " 'gss0970.xml',\n",
              " 'gss0969.xml',\n",
              " 'gss0971.xml',\n",
              " 'gss0967.xml',\n",
              " 'gss0098.xml',\n",
              " 'gss0974.xml',\n",
              " 'gss0099.xml',\n",
              " 'gss0194.xml',\n",
              " 'gss0195.xml',\n",
              " 'gss0196.xml',\n",
              " 'gss0197.xml',\n",
              " 'gss0198.xml',\n",
              " 'gss0199.xml',\n",
              " 'gss0002.xml',\n",
              " 'gss0020.xml',\n",
              " 'gss0200.xml',\n",
              " 'gss0201.xml',\n",
              " 'gss0202.xml',\n",
              " 'gss0203.xml',\n",
              " 'gss0204.xml',\n",
              " 'gss0205.xml',\n",
              " 'gss0206.xml',\n",
              " 'gss0207.xml',\n",
              " 'gss0208.xml',\n",
              " 'gss0209.xml',\n",
              " 'gss0021.xml',\n",
              " 'gss0210.xml',\n",
              " 'gss0212.xml',\n",
              " 'gss0211.xml',\n",
              " 'gss0217.xml',\n",
              " 'gss0219.xml',\n",
              " 'gss0220.xml',\n",
              " 'gss0215.xml',\n",
              " 'gss0218.xml',\n",
              " 'gss0213.xml',\n",
              " 'gss0214.xml',\n",
              " 'gss0216.xml',\n",
              " 'gss0022.xml',\n",
              " 'gss0226.xml',\n",
              " 'gss0224.xml',\n",
              " 'gss0229.xml',\n",
              " 'gss0228.xml',\n",
              " 'gss0223.xml',\n",
              " 'gss0221.xml',\n",
              " 'gss0227.xml',\n",
              " 'gss0222.xml',\n",
              " 'gss0225.xml',\n",
              " 'gss0023.xml',\n",
              " 'gss0234.xml',\n",
              " 'gss0236.xml',\n",
              " 'gss0231.xml',\n",
              " 'gss0235.xml',\n",
              " 'gss0237.xml',\n",
              " 'gss0232.xml',\n",
              " 'gss0233.xml',\n",
              " 'gss0230.xml',\n",
              " 'gss0240.xml',\n",
              " 'gss0239.xml',\n",
              " 'gss0244.xml',\n",
              " 'gss0242.xml',\n",
              " 'gss0238.xml',\n",
              " 'gss0243.xml',\n",
              " 'gss0024.xml',\n",
              " 'gss0241.xml',\n",
              " 'gss0248.xml',\n",
              " 'gss0246.xml',\n",
              " 'gss0249.xml',\n",
              " 'gss0025.xml',\n",
              " 'gss0245.xml',\n",
              " 'gss0247.xml',\n",
              " 'gss0252.xml',\n",
              " 'gss0257.xml',\n",
              " 'gss0258.xml',\n",
              " 'gss0250.xml',\n",
              " 'gss0255.xml',\n",
              " 'gss0254.xml',\n",
              " 'gss0256.xml',\n",
              " 'gss0253.xml',\n",
              " 'gss0251.xml',\n",
              " 'gss0268.xml',\n",
              " 'gss0263.xml',\n",
              " 'gss0267.xml',\n",
              " 'gss0262.xml',\n",
              " 'gss0265.xml',\n",
              " 'gss0266.xml',\n",
              " 'gss0264.xml',\n",
              " 'gss0259.xml',\n",
              " 'gss0260.xml',\n",
              " 'gss0261.xml',\n",
              " 'gss0026.xml',\n",
              " 'gss0275.xml',\n",
              " 'gss0269.xml',\n",
              " 'gss0271.xml',\n",
              " 'gss0276.xml',\n",
              " 'gss0274.xml',\n",
              " 'gss0270.xml',\n",
              " 'gss0027.xml',\n",
              " 'gss0273.xml',\n",
              " 'gss0272.xml',\n",
              " 'gss0280.xml',\n",
              " 'gss0281.xml',\n",
              " 'gss0278.xml',\n",
              " 'gss0279.xml',\n",
              " 'gss0283.xml',\n",
              " 'gss0277.xml',\n",
              " 'gss0282.xml',\n",
              " 'gss0288.xml',\n",
              " 'gss0028.xml',\n",
              " 'gss0294.xml',\n",
              " 'gss0029.xml',\n",
              " 'gss0290.xml',\n",
              " 'gss0291.xml',\n",
              " 'gss0292.xml',\n",
              " 'gss0295.xml',\n",
              " 'gss0289.xml',\n",
              " 'gss0293.xml',\n",
              " 'gss0296.xml',\n",
              " 'gss0299.xml',\n",
              " 'gss0003.xml',\n",
              " 'gss0297.xml',\n",
              " 'gss0300.xml',\n",
              " 'gss0030.xml',\n",
              " 'gss0298.xml',\n",
              " 'gss0302.xml',\n",
              " 'gss0309.xml',\n",
              " 'gss0301.xml',\n",
              " 'gss0304.xml',\n",
              " 'gss0306.xml',\n",
              " 'gss0308.xml',\n",
              " 'gss0303.xml',\n",
              " 'gss0305.xml',\n",
              " 'gss0313.xml',\n",
              " 'gss0031.xml',\n",
              " 'gss0310.xml',\n",
              " 'gss0316.xml',\n",
              " 'gss0314.xml',\n",
              " 'gss0311.xml',\n",
              " 'gss0315.xml',\n",
              " 'gss0312.xml',\n",
              " 'gss0319.xml',\n",
              " 'gss0317.xml',\n",
              " 'gss0324.xml',\n",
              " 'gss0322.xml',\n",
              " 'gss0032.xml',\n",
              " 'gss0318.xml',\n",
              " 'gss0320.xml',\n",
              " 'gss0321.xml',\n",
              " 'gss0323.xml',\n",
              " 'gss0330.xml',\n",
              " 'gss0331.xml',\n",
              " 'gss0033.xml',\n",
              " 'gss0332.xml',\n",
              " 'gss0326.xml',\n",
              " 'gss0333.xml',\n",
              " 'gss0325.xml',\n",
              " 'gss0327.xml',\n",
              " 'gss0340.xml',\n",
              " 'gss0341.xml',\n",
              " 'gss0338.xml',\n",
              " 'gss0336.xml',\n",
              " 'gss0337.xml',\n",
              " 'gss0034.xml',\n",
              " 'gss0339.xml',\n",
              " 'gss0334.xml',\n",
              " 'gss0335.xml',\n",
              " 'gss0035.xml',\n",
              " 'gss0347.xml',\n",
              " 'gss0344.xml',\n",
              " 'gss0349.xml',\n",
              " 'gss0346.xml',\n",
              " 'gss0342.xml',\n",
              " 'gss0348.xml',\n",
              " 'gss0345.xml',\n",
              " 'gss0343.xml',\n",
              " 'gss0356.xml',\n",
              " 'gss0351.xml',\n",
              " 'gss0357.xml',\n",
              " 'gss0355.xml',\n",
              " 'gss0350.xml',\n",
              " 'gss0358.xml',\n",
              " 'gss0352.xml',\n",
              " 'gss0353.xml',\n",
              " 'gss0354.xml',\n",
              " 'gss0036.xml',\n",
              " 'gss0362.xml',\n",
              " 'gss0361.xml',\n",
              " 'gss0360.xml',\n",
              " 'gss0364.xml',\n",
              " 'gss0363.xml',\n",
              " 'gss0359.xml',\n",
              " 'gss0365.xml',\n",
              " 'gss0368.xml',\n",
              " 'gss0367.xml',\n",
              " 'gss0371.xml',\n",
              " 'gss0372.xml',\n",
              " 'gss0369.xml',\n",
              " 'gss0037.xml',\n",
              " 'gss0370.xml',\n",
              " 'gss0366.xml',\n",
              " 'gss0378.xml',\n",
              " 'gss0374.xml',\n",
              " 'gss0379.xml',\n",
              " 'gss0376.xml',\n",
              " 'gss0377.xml',\n",
              " 'gss0373.xml',\n",
              " 'gss0375.xml',\n",
              " 'gss0385.xml',\n",
              " 'gss0380.xml',\n",
              " 'gss0383.xml',\n",
              " 'gss0381.xml',\n",
              " 'gss0382.xml',\n",
              " 'gss0038.xml',\n",
              " 'gss0384.xml',\n",
              " 'gss0389.xml',\n",
              " 'gss0388.xml',\n",
              " 'gss0039.xml',\n",
              " 'gss0391.xml',\n",
              " 'gss0392.xml',\n",
              " 'gss0393.xml',\n",
              " 'gss0387.xml',\n",
              " 'gss0390.xml',\n",
              " 'gss0386.xml',\n",
              " 'gss0399.xml',\n",
              " 'gss0394.xml',\n",
              " 'gss0040.xml',\n",
              " 'gss0397.xml',\n",
              " 'gss0401.xml',\n",
              " 'gss0396.xml',\n",
              " 'gss0395.xml',\n",
              " 'gss0398.xml',\n",
              " 'gss0400.xml',\n",
              " 'gss0004.xml',\n",
              " 'gss0409.xml',\n",
              " 'gss0404.xml',\n",
              " 'gss0405.xml',\n",
              " 'gss0408.xml',\n",
              " 'gss0407.xml',\n",
              " 'gss0406.xml',\n",
              " 'gss0410.xml',\n",
              " 'gss0402.xml',\n",
              " 'gss0403.xml',\n",
              " 'gss0041.xml',\n",
              " 'gss0417.xml',\n",
              " 'gss0419.xml',\n",
              " 'gss0418.xml',\n",
              " 'gss0413.xml',\n",
              " 'gss0042.xml',\n",
              " 'gss0411.xml',\n",
              " 'gss0416.xml',\n",
              " 'gss0414.xml',\n",
              " 'gss0412.xml',\n",
              " 'gss0415.xml',\n",
              " 'gss0426.xml',\n",
              " 'gss0424.xml',\n",
              " 'gss0422.xml',\n",
              " 'gss0423.xml',\n",
              " 'gss0427.xml',\n",
              " 'gss0425.xml',\n",
              " 'gss0421.xml',\n",
              " 'gss0420.xml',\n",
              " 'gss0429.xml',\n",
              " 'gss0428.xml',\n",
              " 'gss0431.xml',\n",
              " 'gss0432.xml',\n",
              " 'gss0043.xml',\n",
              " 'gss0437.xml',\n",
              " 'gss0434.xml',\n",
              " 'gss0436.xml',\n",
              " 'gss0430.xml',\n",
              " 'gss0433.xml',\n",
              " 'gss0435.xml',\n",
              " 'gss0440.xml',\n",
              " 'gss0441.xml',\n",
              " 'gss0044.xml',\n",
              " 'gss0439.xml',\n",
              " 'gss0443.xml',\n",
              " 'gss0438.xml',\n",
              " 'gss0442.xml',\n",
              " 'gss0446.xml',\n",
              " 'gss0445.xml',\n",
              " 'gss0448.xml',\n",
              " 'gss0447.xml',\n",
              " 'gss0444.xml',\n",
              " 'gss0451.xml',\n",
              " 'gss0453.xml',\n",
              " 'gss0452.xml',\n",
              " 'gss0449.xml',\n",
              " 'gss0450.xml',\n",
              " 'gss0454.xml',\n",
              " 'gss0045.xml',\n",
              " 'gss0455.xml',\n",
              " 'gss0457.xml',\n",
              " 'gss0460.xml',\n",
              " 'gss0456.xml',\n",
              " 'gss0459.xml',\n",
              " 'gss0046.xml',\n",
              " 'gss0461.xml',\n",
              " 'gss0458.xml',\n",
              " 'gss0469.xml',\n",
              " 'gss0462.xml',\n",
              " 'gss0463.xml',\n",
              " 'gss0464.xml',\n",
              " 'gss0465.xml',\n",
              " 'gss0466.xml',\n",
              " 'gss0047.xml',\n",
              " 'gss0468.xml',\n",
              " 'gss0467.xml',\n",
              " 'gss0474.xml',\n",
              " 'gss0475.xml',\n",
              " 'gss0473.xml',\n",
              " 'gss0476.xml',\n",
              " 'gss0477.xml',\n",
              " 'gss0472.xml',\n",
              " 'gss0470.xml',\n",
              " 'gss0471.xml',\n",
              " 'gss0479.xml',\n",
              " 'gss0481.xml',\n",
              " 'gss0482.xml',\n",
              " 'gss0478.xml',\n",
              " 'gss0048.xml',\n",
              " 'gss0480.xml',\n",
              " 'gss0483.xml',\n",
              " 'gss0484.xml',\n",
              " 'gss0049.xml',\n",
              " 'gss0486.xml',\n",
              " 'gss0488.xml',\n",
              " 'gss0489.xml',\n",
              " 'gss0485.xml',\n",
              " 'gss0487.xml',\n",
              " 'gss0493.xml',\n",
              " 'gss0492.xml',\n",
              " 'gss0494.xml',\n",
              " 'gss0496.xml',\n",
              " 'gss0498.xml',\n",
              " 'gss0495.xml',\n",
              " 'gss0497.xml',\n",
              " 'gss0490.xml',\n",
              " 'gss0491.xml',\n",
              " 'gss0499.xml',\n",
              " 'gss0502.xml',\n",
              " 'gss0005.xml',\n",
              " 'gss0503.xml',\n",
              " 'gss0149.xml',\n",
              " 'gss0015.xml',\n",
              " 'gss0150.xml',\n",
              " 'gss0151.xml',\n",
              " 'gss0152.xml',\n",
              " 'gss0153.xml',\n",
              " 'gss0154.xml',\n",
              " 'gss0155.xml',\n",
              " 'gss0156.xml',\n",
              " 'gss0157.xml',\n",
              " 'gss0158.xml',\n",
              " 'gss0159.xml',\n",
              " 'gss0016.xml',\n",
              " 'gss0160.xml',\n",
              " 'gss0161.xml',\n",
              " 'gss0162.xml',\n",
              " 'gss0163.xml',\n",
              " 'gss0164.xml',\n",
              " 'gss0165.xml',\n",
              " 'gss0166.xml',\n",
              " 'gss0167.xml',\n",
              " 'gss0168.xml',\n",
              " 'gss0169.xml',\n",
              " 'gss0017.xml',\n",
              " 'gss0170.xml',\n",
              " 'gss0171.xml',\n",
              " 'gss0172.xml',\n",
              " 'gss0173.xml',\n",
              " 'gss0174.xml',\n",
              " 'gss0175.xml',\n",
              " 'gss0176.xml',\n",
              " 'gss0177.xml',\n",
              " 'gss0178.xml',\n",
              " 'gss0179.xml',\n",
              " 'gss0018.xml',\n",
              " 'gss0180.xml',\n",
              " 'gss0181.xml',\n",
              " 'gss0182.xml',\n",
              " 'gss0183.xml',\n",
              " 'gss0184.xml',\n",
              " 'gss0185.xml',\n",
              " 'gss0186.xml',\n",
              " 'gss0187.xml',\n",
              " 'gss0188.xml',\n",
              " 'gss0189.xml',\n",
              " 'gss0019.xml',\n",
              " 'gss0190.xml',\n",
              " 'gss0191.xml',\n",
              " 'gss0192.xml',\n",
              " 'gss0193.xml',\n",
              " 'gss0010.xml',\n",
              " 'gss0001.xml',\n",
              " 'gss0100.xml',\n",
              " 'gss0101.xml',\n",
              " 'gss0102.xml',\n",
              " 'gss0103.xml',\n",
              " 'gss0104.xml',\n",
              " 'gss0105.xml',\n",
              " 'gss0106.xml',\n",
              " 'gss0107.xml',\n",
              " 'gss0108.xml',\n",
              " 'gss0109.xml',\n",
              " 'gss0011.xml',\n",
              " 'gss0110.xml',\n",
              " 'gss0111.xml',\n",
              " 'gss0112.xml',\n",
              " 'gss0113.xml',\n",
              " 'gss0114.xml',\n",
              " 'gss0115.xml',\n",
              " 'gss0116.xml',\n",
              " 'gss0117.xml',\n",
              " 'gss0118.xml',\n",
              " 'gss0119.xml',\n",
              " 'gss0120.xml',\n",
              " 'gss0012.xml',\n",
              " 'gss0121.xml',\n",
              " 'gss0122.xml',\n",
              " 'gss0123.xml',\n",
              " 'gss0125.xml',\n",
              " 'gss0126.xml',\n",
              " 'gss0124.xml',\n",
              " 'gss0129.xml',\n",
              " 'gss0127.xml',\n",
              " 'gss0128.xml',\n",
              " 'gss0013.xml',\n",
              " 'gss0130.xml',\n",
              " 'gss0131.xml',\n",
              " 'gss0132.xml',\n",
              " 'gss0133.xml',\n",
              " 'gss0134.xml',\n",
              " 'gss0135.xml',\n",
              " 'gss0136.xml',\n",
              " 'gss0137.xml',\n",
              " 'gss0138.xml',\n",
              " 'gss0139.xml',\n",
              " 'gss0014.xml',\n",
              " 'gss0140.xml',\n",
              " 'gss0141.xml',\n",
              " 'gss0142.xml',\n",
              " 'gss0143.xml',\n",
              " 'gss0144.xml',\n",
              " 'gss0145.xml',\n",
              " 'gss0146.xml',\n",
              " 'gss0147.xml',\n",
              " 'gss0148.xml']"
            ]
          },
          "metadata": {},
          "execution_count": 57
        }
      ]
    },
    {
      "cell_type": "markdown",
      "source": [
        "The number of updated files does not match the total number of XML files. \\\n",
        "We then check for inconsistencies:"
      ],
      "metadata": {
        "id": "Gv6nwbuX8ITo"
      }
    },
    {
      "cell_type": "code",
      "source": [
        "def find_unmodified_xml_files(folder_path):\n",
        "  \"\"\"\n",
        "  Check which .xml files have not updated the <filename> field consistently with their names.\n",
        "  Example: if the file is named 'gss0123.xml', the <filename> field should be 'gss0123.jpg'.\n",
        "\n",
        "  Args:\n",
        "    folder_path (str): path to the folder with .xml files\n",
        "\n",
        "  Returns:\n",
        "    list: xml file names that have not been edited correctly\n",
        "  \"\"\"\n",
        "  not_updated = []\n",
        "\n",
        "  for file in os.listdir(folder_path):\n",
        "    if file.endswith('.xml'):\n",
        "      expected_filename = os.path.splitext(file)[0] + '.jpg'\n",
        "      xml_path = os.path.join(folder_path, file)\n",
        "\n",
        "      try:\n",
        "        tree = ET.parse(xml_path)\n",
        "        root = tree.getroot()\n",
        "\n",
        "        filename_tag = root.find('filename')\n",
        "        if filename_tag is not None:\n",
        "          current_value = filename_tag.text.strip()\n",
        "          if current_value != expected_filename:\n",
        "            not_updated.append(file)\n",
        "\n",
        "      except ET.ParseError:\n",
        "        print(f\"Error in the parsing of: {file}\")\n",
        "\n",
        "  print(f\"Found {len(not_updated)} outdated XML files.\")\n",
        "  return not_updated\n",
        "\n",
        "\n",
        "non_modificated = find_unmodified_xml_files(folder_path_sard)\n",
        "\n",
        "print(non_modificated)"
      ],
      "metadata": {
        "id": "d8FlHYDRyiK3",
        "outputId": "4eb933c6-aa78-4dfc-f494-98893790ef21",
        "colab": {
          "base_uri": "https://localhost:8080/"
        }
      },
      "execution_count": null,
      "outputs": [
        {
          "output_type": "stream",
          "name": "stdout",
          "text": [
            "Found 0 outdated XML files.\n",
            "[]\n"
          ]
        }
      ]
    },
    {
      "cell_type": "markdown",
      "source": [
        "Perfect, all XML files are fully updated internally.\n",
        "\n",
        "\\\n",
        "We identify any files that remain inconsistent:"
      ],
      "metadata": {
        "id": "1SlLS5QnqIac"
      }
    },
    {
      "cell_type": "code",
      "source": [
        "folder_path_sard = '/content/drive/MyDrive/projectUPV/datasets/SARD_dataset/SARD'\n",
        "\n",
        "updated = set(update_xml_filenames_sard(folder_path_sard))\n",
        "not_updated = set(find_unmodified_xml_files(folder_path_sard))\n",
        "\n",
        "# Check overlap or discrepancies\n",
        "print(\"Files that should have been updated but have not:\")\n",
        "print(updated & not_updated)\n",
        "\n",
        "print(\"\\nFiles that have been updated correctly:\")\n",
        "print(updated - not_updated)"
      ],
      "metadata": {
        "colab": {
          "base_uri": "https://localhost:8080/"
        },
        "id": "2Tc-ilUhqFFX",
        "outputId": "39ab6f9a-8a44-4cb8-a2f5-393c9806b583"
      },
      "execution_count": null,
      "outputs": [
        {
          "output_type": "stream",
          "name": "stdout",
          "text": [
            "Updated <filename> in 0 XML files.\n",
            "Found 0 outdated XML files.\n",
            "Files that should have been updated but have not:\n",
            "set()\n",
            "\n",
            "Files that have been updated correctly:\n",
            "set()\n"
          ]
        }
      ]
    },
    {
      "cell_type": "markdown",
      "source": [
        "There are no inconsistencies. \\\n",
        "We normalize the class names in the _sard_labels.csv_ file to match those in the XML annotations:"
      ],
      "metadata": {
        "id": "13pBbUiWsAEC"
      }
    },
    {
      "cell_type": "code",
      "source": [
        "def map_class_name(label):\n",
        "  \"\"\"\n",
        "  Map a class name from CSV to its corresponding XML label.\n",
        "  \"\"\"\n",
        "  class_mapping = {\n",
        "    \"Standing\": \"stands\",\n",
        "    \"Not-defined\": \"not_defined\",\n",
        "    \"Lying\": \"laying_down\",\n",
        "    \"Sitting\": \"seated\",\n",
        "    \"Walking\": \"Walking\",\n",
        "    \"Running\": \"Running\"\n",
        "  }\n",
        "  return class_mapping.get(label, label)\n",
        "\n",
        "def normalize_csv_annotations(folder_path, csv_filename): # To normalize class name in a csv file to match XML annotation format\n",
        "  \"\"\"\n",
        "  Normalize class names in a CSV file to match XML annotation format.\n",
        "\n",
        "  Args:\n",
        "    folder_path (str): Path to the folder containing the CSV file.\n",
        "    csv_filename (str): Name of the CSV file.\n",
        "  \"\"\"\n",
        "  csv_path = os.path.join(folder_path, csv_filename)\n",
        "  df = pd.read_csv(csv_path)\n",
        "\n",
        "  # Normalize class names\n",
        "  df['class'] = df['class'].apply(map_class_name).str.lower().str.strip()\n",
        "\n",
        "  # Sort by filename\n",
        "  df = df.sort_values(by='filename').reset_index(drop=True)\n",
        "\n",
        "  # Save the modified CSV\n",
        "  df.to_csv(csv_path, index=False)\n",
        "  print(f\"CSV '{csv_filename}' normalized and saved.\")\n",
        "  return df\n",
        "\n",
        "normalize_csv_annotations(folder_path_sard, 'sard_labels.csv')"
      ],
      "metadata": {
        "id": "1HmnbnXEAFEb",
        "outputId": "7b125d5c-a4e5-405b-dba5-e26d7f21b3b1",
        "colab": {
          "base_uri": "https://localhost:8080/",
          "height": 442
        }
      },
      "execution_count": null,
      "outputs": [
        {
          "output_type": "stream",
          "name": "stdout",
          "text": [
            "CSV 'sard_labels.csv' normalized and saved.\n"
          ]
        },
        {
          "output_type": "execute_result",
          "data": {
            "text/plain": [
              "         filename  width  height    class  xmin  ymin  xmax  ymax\n",
              "0     gss0001.jpg   1920    1080  walking  1110   358  1134   424\n",
              "1     gss0001.jpg   1920    1080   stands  1077   367  1100   428\n",
              "2     gss0001.jpg   1920    1080   seated  1041   144  1061   173\n",
              "3     gss0002.jpg   1920    1080   seated  1041   142  1062   173\n",
              "4     gss0002.jpg   1920    1080   stands  1079   365  1101   428\n",
              "...           ...    ...     ...      ...   ...   ...   ...   ...\n",
              "6527  gss2104.jpg   1920    1080   stands  1391   931  1458   982\n",
              "6528  gss2104.jpg   1920    1080   stands  1548  1032  1608  1071\n",
              "6529  gss2104.jpg   1920    1080   stands  1174   604  1226   672\n",
              "6530  gss2104.jpg   1920    1080   stands  1226  1040  1266  1080\n",
              "6531  gss2104.jpg   1920    1080   stands  1840  1011  1918  1075\n",
              "\n",
              "[6532 rows x 8 columns]"
            ],
            "text/html": [
              "\n",
              "  <div id=\"df-d4948f6d-4c9f-4961-841b-034b0566b10b\" class=\"colab-df-container\">\n",
              "    <div>\n",
              "<style scoped>\n",
              "    .dataframe tbody tr th:only-of-type {\n",
              "        vertical-align: middle;\n",
              "    }\n",
              "\n",
              "    .dataframe tbody tr th {\n",
              "        vertical-align: top;\n",
              "    }\n",
              "\n",
              "    .dataframe thead th {\n",
              "        text-align: right;\n",
              "    }\n",
              "</style>\n",
              "<table border=\"1\" class=\"dataframe\">\n",
              "  <thead>\n",
              "    <tr style=\"text-align: right;\">\n",
              "      <th></th>\n",
              "      <th>filename</th>\n",
              "      <th>width</th>\n",
              "      <th>height</th>\n",
              "      <th>class</th>\n",
              "      <th>xmin</th>\n",
              "      <th>ymin</th>\n",
              "      <th>xmax</th>\n",
              "      <th>ymax</th>\n",
              "    </tr>\n",
              "  </thead>\n",
              "  <tbody>\n",
              "    <tr>\n",
              "      <th>0</th>\n",
              "      <td>gss0001.jpg</td>\n",
              "      <td>1920</td>\n",
              "      <td>1080</td>\n",
              "      <td>walking</td>\n",
              "      <td>1110</td>\n",
              "      <td>358</td>\n",
              "      <td>1134</td>\n",
              "      <td>424</td>\n",
              "    </tr>\n",
              "    <tr>\n",
              "      <th>1</th>\n",
              "      <td>gss0001.jpg</td>\n",
              "      <td>1920</td>\n",
              "      <td>1080</td>\n",
              "      <td>stands</td>\n",
              "      <td>1077</td>\n",
              "      <td>367</td>\n",
              "      <td>1100</td>\n",
              "      <td>428</td>\n",
              "    </tr>\n",
              "    <tr>\n",
              "      <th>2</th>\n",
              "      <td>gss0001.jpg</td>\n",
              "      <td>1920</td>\n",
              "      <td>1080</td>\n",
              "      <td>seated</td>\n",
              "      <td>1041</td>\n",
              "      <td>144</td>\n",
              "      <td>1061</td>\n",
              "      <td>173</td>\n",
              "    </tr>\n",
              "    <tr>\n",
              "      <th>3</th>\n",
              "      <td>gss0002.jpg</td>\n",
              "      <td>1920</td>\n",
              "      <td>1080</td>\n",
              "      <td>seated</td>\n",
              "      <td>1041</td>\n",
              "      <td>142</td>\n",
              "      <td>1062</td>\n",
              "      <td>173</td>\n",
              "    </tr>\n",
              "    <tr>\n",
              "      <th>4</th>\n",
              "      <td>gss0002.jpg</td>\n",
              "      <td>1920</td>\n",
              "      <td>1080</td>\n",
              "      <td>stands</td>\n",
              "      <td>1079</td>\n",
              "      <td>365</td>\n",
              "      <td>1101</td>\n",
              "      <td>428</td>\n",
              "    </tr>\n",
              "    <tr>\n",
              "      <th>...</th>\n",
              "      <td>...</td>\n",
              "      <td>...</td>\n",
              "      <td>...</td>\n",
              "      <td>...</td>\n",
              "      <td>...</td>\n",
              "      <td>...</td>\n",
              "      <td>...</td>\n",
              "      <td>...</td>\n",
              "    </tr>\n",
              "    <tr>\n",
              "      <th>6527</th>\n",
              "      <td>gss2104.jpg</td>\n",
              "      <td>1920</td>\n",
              "      <td>1080</td>\n",
              "      <td>stands</td>\n",
              "      <td>1391</td>\n",
              "      <td>931</td>\n",
              "      <td>1458</td>\n",
              "      <td>982</td>\n",
              "    </tr>\n",
              "    <tr>\n",
              "      <th>6528</th>\n",
              "      <td>gss2104.jpg</td>\n",
              "      <td>1920</td>\n",
              "      <td>1080</td>\n",
              "      <td>stands</td>\n",
              "      <td>1548</td>\n",
              "      <td>1032</td>\n",
              "      <td>1608</td>\n",
              "      <td>1071</td>\n",
              "    </tr>\n",
              "    <tr>\n",
              "      <th>6529</th>\n",
              "      <td>gss2104.jpg</td>\n",
              "      <td>1920</td>\n",
              "      <td>1080</td>\n",
              "      <td>stands</td>\n",
              "      <td>1174</td>\n",
              "      <td>604</td>\n",
              "      <td>1226</td>\n",
              "      <td>672</td>\n",
              "    </tr>\n",
              "    <tr>\n",
              "      <th>6530</th>\n",
              "      <td>gss2104.jpg</td>\n",
              "      <td>1920</td>\n",
              "      <td>1080</td>\n",
              "      <td>stands</td>\n",
              "      <td>1226</td>\n",
              "      <td>1040</td>\n",
              "      <td>1266</td>\n",
              "      <td>1080</td>\n",
              "    </tr>\n",
              "    <tr>\n",
              "      <th>6531</th>\n",
              "      <td>gss2104.jpg</td>\n",
              "      <td>1920</td>\n",
              "      <td>1080</td>\n",
              "      <td>stands</td>\n",
              "      <td>1840</td>\n",
              "      <td>1011</td>\n",
              "      <td>1918</td>\n",
              "      <td>1075</td>\n",
              "    </tr>\n",
              "  </tbody>\n",
              "</table>\n",
              "<p>6532 rows × 8 columns</p>\n",
              "</div>\n",
              "    <div class=\"colab-df-buttons\">\n",
              "\n",
              "  <div class=\"colab-df-container\">\n",
              "    <button class=\"colab-df-convert\" onclick=\"convertToInteractive('df-d4948f6d-4c9f-4961-841b-034b0566b10b')\"\n",
              "            title=\"Convert this dataframe to an interactive table.\"\n",
              "            style=\"display:none;\">\n",
              "\n",
              "  <svg xmlns=\"http://www.w3.org/2000/svg\" height=\"24px\" viewBox=\"0 -960 960 960\">\n",
              "    <path d=\"M120-120v-720h720v720H120Zm60-500h600v-160H180v160Zm220 220h160v-160H400v160Zm0 220h160v-160H400v160ZM180-400h160v-160H180v160Zm440 0h160v-160H620v160ZM180-180h160v-160H180v160Zm440 0h160v-160H620v160Z\"/>\n",
              "  </svg>\n",
              "    </button>\n",
              "\n",
              "  <style>\n",
              "    .colab-df-container {\n",
              "      display:flex;\n",
              "      gap: 12px;\n",
              "    }\n",
              "\n",
              "    .colab-df-convert {\n",
              "      background-color: #E8F0FE;\n",
              "      border: none;\n",
              "      border-radius: 50%;\n",
              "      cursor: pointer;\n",
              "      display: none;\n",
              "      fill: #1967D2;\n",
              "      height: 32px;\n",
              "      padding: 0 0 0 0;\n",
              "      width: 32px;\n",
              "    }\n",
              "\n",
              "    .colab-df-convert:hover {\n",
              "      background-color: #E2EBFA;\n",
              "      box-shadow: 0px 1px 2px rgba(60, 64, 67, 0.3), 0px 1px 3px 1px rgba(60, 64, 67, 0.15);\n",
              "      fill: #174EA6;\n",
              "    }\n",
              "\n",
              "    .colab-df-buttons div {\n",
              "      margin-bottom: 4px;\n",
              "    }\n",
              "\n",
              "    [theme=dark] .colab-df-convert {\n",
              "      background-color: #3B4455;\n",
              "      fill: #D2E3FC;\n",
              "    }\n",
              "\n",
              "    [theme=dark] .colab-df-convert:hover {\n",
              "      background-color: #434B5C;\n",
              "      box-shadow: 0px 1px 3px 1px rgba(0, 0, 0, 0.15);\n",
              "      filter: drop-shadow(0px 1px 2px rgba(0, 0, 0, 0.3));\n",
              "      fill: #FFFFFF;\n",
              "    }\n",
              "  </style>\n",
              "\n",
              "    <script>\n",
              "      const buttonEl =\n",
              "        document.querySelector('#df-d4948f6d-4c9f-4961-841b-034b0566b10b button.colab-df-convert');\n",
              "      buttonEl.style.display =\n",
              "        google.colab.kernel.accessAllowed ? 'block' : 'none';\n",
              "\n",
              "      async function convertToInteractive(key) {\n",
              "        const element = document.querySelector('#df-d4948f6d-4c9f-4961-841b-034b0566b10b');\n",
              "        const dataTable =\n",
              "          await google.colab.kernel.invokeFunction('convertToInteractive',\n",
              "                                                    [key], {});\n",
              "        if (!dataTable) return;\n",
              "\n",
              "        const docLinkHtml = 'Like what you see? Visit the ' +\n",
              "          '<a target=\"_blank\" href=https://colab.research.google.com/notebooks/data_table.ipynb>data table notebook</a>'\n",
              "          + ' to learn more about interactive tables.';\n",
              "        element.innerHTML = '';\n",
              "        dataTable['output_type'] = 'display_data';\n",
              "        await google.colab.output.renderOutput(dataTable, element);\n",
              "        const docLink = document.createElement('div');\n",
              "        docLink.innerHTML = docLinkHtml;\n",
              "        element.appendChild(docLink);\n",
              "      }\n",
              "    </script>\n",
              "  </div>\n",
              "\n",
              "\n",
              "    <div id=\"df-34c360fb-3999-4204-8889-1b3d0bcc0f5c\">\n",
              "      <button class=\"colab-df-quickchart\" onclick=\"quickchart('df-34c360fb-3999-4204-8889-1b3d0bcc0f5c')\"\n",
              "                title=\"Suggest charts\"\n",
              "                style=\"display:none;\">\n",
              "\n",
              "<svg xmlns=\"http://www.w3.org/2000/svg\" height=\"24px\"viewBox=\"0 0 24 24\"\n",
              "     width=\"24px\">\n",
              "    <g>\n",
              "        <path d=\"M19 3H5c-1.1 0-2 .9-2 2v14c0 1.1.9 2 2 2h14c1.1 0 2-.9 2-2V5c0-1.1-.9-2-2-2zM9 17H7v-7h2v7zm4 0h-2V7h2v10zm4 0h-2v-4h2v4z\"/>\n",
              "    </g>\n",
              "</svg>\n",
              "      </button>\n",
              "\n",
              "<style>\n",
              "  .colab-df-quickchart {\n",
              "      --bg-color: #E8F0FE;\n",
              "      --fill-color: #1967D2;\n",
              "      --hover-bg-color: #E2EBFA;\n",
              "      --hover-fill-color: #174EA6;\n",
              "      --disabled-fill-color: #AAA;\n",
              "      --disabled-bg-color: #DDD;\n",
              "  }\n",
              "\n",
              "  [theme=dark] .colab-df-quickchart {\n",
              "      --bg-color: #3B4455;\n",
              "      --fill-color: #D2E3FC;\n",
              "      --hover-bg-color: #434B5C;\n",
              "      --hover-fill-color: #FFFFFF;\n",
              "      --disabled-bg-color: #3B4455;\n",
              "      --disabled-fill-color: #666;\n",
              "  }\n",
              "\n",
              "  .colab-df-quickchart {\n",
              "    background-color: var(--bg-color);\n",
              "    border: none;\n",
              "    border-radius: 50%;\n",
              "    cursor: pointer;\n",
              "    display: none;\n",
              "    fill: var(--fill-color);\n",
              "    height: 32px;\n",
              "    padding: 0;\n",
              "    width: 32px;\n",
              "  }\n",
              "\n",
              "  .colab-df-quickchart:hover {\n",
              "    background-color: var(--hover-bg-color);\n",
              "    box-shadow: 0 1px 2px rgba(60, 64, 67, 0.3), 0 1px 3px 1px rgba(60, 64, 67, 0.15);\n",
              "    fill: var(--button-hover-fill-color);\n",
              "  }\n",
              "\n",
              "  .colab-df-quickchart-complete:disabled,\n",
              "  .colab-df-quickchart-complete:disabled:hover {\n",
              "    background-color: var(--disabled-bg-color);\n",
              "    fill: var(--disabled-fill-color);\n",
              "    box-shadow: none;\n",
              "  }\n",
              "\n",
              "  .colab-df-spinner {\n",
              "    border: 2px solid var(--fill-color);\n",
              "    border-color: transparent;\n",
              "    border-bottom-color: var(--fill-color);\n",
              "    animation:\n",
              "      spin 1s steps(1) infinite;\n",
              "  }\n",
              "\n",
              "  @keyframes spin {\n",
              "    0% {\n",
              "      border-color: transparent;\n",
              "      border-bottom-color: var(--fill-color);\n",
              "      border-left-color: var(--fill-color);\n",
              "    }\n",
              "    20% {\n",
              "      border-color: transparent;\n",
              "      border-left-color: var(--fill-color);\n",
              "      border-top-color: var(--fill-color);\n",
              "    }\n",
              "    30% {\n",
              "      border-color: transparent;\n",
              "      border-left-color: var(--fill-color);\n",
              "      border-top-color: var(--fill-color);\n",
              "      border-right-color: var(--fill-color);\n",
              "    }\n",
              "    40% {\n",
              "      border-color: transparent;\n",
              "      border-right-color: var(--fill-color);\n",
              "      border-top-color: var(--fill-color);\n",
              "    }\n",
              "    60% {\n",
              "      border-color: transparent;\n",
              "      border-right-color: var(--fill-color);\n",
              "    }\n",
              "    80% {\n",
              "      border-color: transparent;\n",
              "      border-right-color: var(--fill-color);\n",
              "      border-bottom-color: var(--fill-color);\n",
              "    }\n",
              "    90% {\n",
              "      border-color: transparent;\n",
              "      border-bottom-color: var(--fill-color);\n",
              "    }\n",
              "  }\n",
              "</style>\n",
              "\n",
              "      <script>\n",
              "        async function quickchart(key) {\n",
              "          const quickchartButtonEl =\n",
              "            document.querySelector('#' + key + ' button');\n",
              "          quickchartButtonEl.disabled = true;  // To prevent multiple clicks.\n",
              "          quickchartButtonEl.classList.add('colab-df-spinner');\n",
              "          try {\n",
              "            const charts = await google.colab.kernel.invokeFunction(\n",
              "                'suggestCharts', [key], {});\n",
              "          } catch (error) {\n",
              "            console.error('Error during call to suggestCharts:', error);\n",
              "          }\n",
              "          quickchartButtonEl.classList.remove('colab-df-spinner');\n",
              "          quickchartButtonEl.classList.add('colab-df-quickchart-complete');\n",
              "        }\n",
              "        (() => {\n",
              "          let quickchartButtonEl =\n",
              "            document.querySelector('#df-34c360fb-3999-4204-8889-1b3d0bcc0f5c button');\n",
              "          quickchartButtonEl.style.display =\n",
              "            google.colab.kernel.accessAllowed ? 'block' : 'none';\n",
              "        })();\n",
              "      </script>\n",
              "    </div>\n",
              "\n",
              "    </div>\n",
              "  </div>\n"
            ],
            "application/vnd.google.colaboratory.intrinsic+json": {
              "type": "dataframe",
              "summary": "{\n  \"name\": \"normalize_csv_annotations(folder_path_sard, 'sard_labels\",\n  \"rows\": 6532,\n  \"fields\": [\n    {\n      \"column\": \"filename\",\n      \"properties\": {\n        \"dtype\": \"category\",\n        \"num_unique_values\": 1981,\n        \"samples\": [\n          \"gss0610.jpg\",\n          \"gss2082.jpg\",\n          \"gss1364.jpg\"\n        ],\n        \"semantic_type\": \"\",\n        \"description\": \"\"\n      }\n    },\n    {\n      \"column\": \"width\",\n      \"properties\": {\n        \"dtype\": \"number\",\n        \"std\": 0,\n        \"min\": 1920,\n        \"max\": 1920,\n        \"num_unique_values\": 1,\n        \"samples\": [\n          1920\n        ],\n        \"semantic_type\": \"\",\n        \"description\": \"\"\n      }\n    },\n    {\n      \"column\": \"height\",\n      \"properties\": {\n        \"dtype\": \"number\",\n        \"std\": 0,\n        \"min\": 1080,\n        \"max\": 1080,\n        \"num_unique_values\": 1,\n        \"samples\": [\n          1080\n        ],\n        \"semantic_type\": \"\",\n        \"description\": \"\"\n      }\n    },\n    {\n      \"column\": \"class\",\n      \"properties\": {\n        \"dtype\": \"category\",\n        \"num_unique_values\": 6,\n        \"samples\": [\n          \"walking\"\n        ],\n        \"semantic_type\": \"\",\n        \"description\": \"\"\n      }\n    },\n    {\n      \"column\": \"xmin\",\n      \"properties\": {\n        \"dtype\": \"number\",\n        \"std\": 469,\n        \"min\": 1,\n        \"max\": 1909,\n        \"num_unique_values\": 1786,\n        \"samples\": [\n          732\n        ],\n        \"semantic_type\": \"\",\n        \"description\": \"\"\n      }\n    },\n    {\n      \"column\": \"ymin\",\n      \"properties\": {\n        \"dtype\": \"number\",\n        \"std\": 261,\n        \"min\": 1,\n        \"max\": 1058,\n        \"num_unique_values\": 1017,\n        \"samples\": [\n          991\n        ],\n        \"semantic_type\": \"\",\n        \"description\": \"\"\n      }\n    },\n    {\n      \"column\": \"xmax\",\n      \"properties\": {\n        \"dtype\": \"number\",\n        \"std\": 468,\n        \"min\": 12,\n        \"max\": 1920,\n        \"num_unique_values\": 1774,\n        \"samples\": [\n          709\n        ],\n        \"semantic_type\": \"\",\n        \"description\": \"\"\n      }\n    },\n    {\n      \"column\": \"ymax\",\n      \"properties\": {\n        \"dtype\": \"number\",\n        \"std\": 268,\n        \"min\": 9,\n        \"max\": 1080,\n        \"num_unique_values\": 1052,\n        \"samples\": [\n          332\n        ],\n        \"semantic_type\": \"\",\n        \"description\": \"\"\n      }\n    }\n  ]\n}"
            }
          },
          "metadata": {},
          "execution_count": 60
        }
      ]
    },
    {
      "cell_type": "markdown",
      "source": [
        "Let's check whether the annotations in the CSV are correct by comparing them with the corresponding XML files:"
      ],
      "metadata": {
        "id": "9EQU_nonvpgG"
      }
    },
    {
      "cell_type": "code",
      "source": [
        "result = check_csv_vs_xml_annotations(folder_path_sard, 'sard_labels.csv')\n",
        "print(\"Result for sard_labels.csv:\\n\")\n",
        "print(\"Correct Annotations:\", result['matched'])\n",
        "print(\"Annotations only in CSV:\", result['only_in_csv'])\n",
        "print(\"Annotazioni only in XML:\", result['only_in_xml'])\n",
        "\n",
        "\n",
        "result_person = check_csv_vs_xml_annotations(folder_path_sard, 'sard_person_labels.csv')\n",
        "print(\"\\nResult for sard_person_labels.csv:\\n\")\n",
        "print(\"Correct Annotations:\", result_person['matched'])\n",
        "print(\"Annotations only in CSV:\", result_person['only_in_csv'])\n",
        "print(\"Annotazioni only in XML:\", result_person['only_in_xml'])\n",
        "\n",
        "# if result['files_only_in_csv']:\n",
        "#   print(\"Images with annotations only in CSV:\")\n",
        "#   for f in result['files_only_in_csv']:\n",
        "#     print(\"  -\", f)\n",
        "\n",
        "# if result['files_only_in_xml']:\n",
        "#   print(\"Images with annotations only in XML:\")\n",
        "#   for f in result['files_only_in_xml']:\n",
        "#     print(\"  -\", f)"
      ],
      "metadata": {
        "id": "KTsJwSsllSd0",
        "outputId": "5f4b8c4c-2e04-48ed-cbf7-84801ceaa049",
        "colab": {
          "base_uri": "https://localhost:8080/"
        }
      },
      "execution_count": null,
      "outputs": [
        {
          "output_type": "stream",
          "name": "stdout",
          "text": [
            "Result for sard_labels.csv:\n",
            "\n",
            "Correct Annotations: 6532\n",
            "Annotations only in CSV: 0\n",
            "Annotazioni only in XML: 0\n",
            "\n",
            "Result for sard_person_labels.csv:\n",
            "\n",
            "Correct Annotations: 0\n",
            "Annotations only in CSV: 6532\n",
            "Annotazioni only in XML: 6532\n"
          ]
        }
      ]
    },
    {
      "cell_type": "code",
      "source": [
        "# To compare two csv files: The purpose is to ensure that both CSV files are consistent when the class labels are normalized to \"person\"\n",
        "def compare_personified_csvs(folder_path, full_csv='sard_labels.csv', person_csv='sard_person_labels.csv'):\n",
        "  \"\"\"\n",
        "  Compares two CSV files where one contains full class labels and the other has all labels replaced with 'person'.\n",
        "\n",
        "  Args:\n",
        "    folder_path (str): Path to the folder containing the CSV files.\n",
        "    full_csv (str): CSV file with full class names.\n",
        "    person_csv (str): CSV file with all classes replaced by 'person'.\n",
        "\n",
        "  Returns:\n",
        "    dict: Summary of matching and mismatching rows.\n",
        "  \"\"\"\n",
        "  path_full = os.path.join(folder_path, full_csv)\n",
        "  path_person = os.path.join(folder_path, person_csv)\n",
        "\n",
        "  df_full = pd.read_csv(path_full)\n",
        "  df_person = pd.read_csv(path_person)\n",
        "\n",
        "  # Normalize the full CSV to have 'person' as the class\n",
        "  df_full_personified = df_full.copy()\n",
        "  df_full_personified['class'] = 'person'\n",
        "\n",
        "  # Sort both for consistent comparison\n",
        "  df_full_personified = df_full_personified.sort_values(by=['filename', 'xmin', 'ymin', 'xmax', 'ymax']).reset_index(drop=True)\n",
        "  df_person = df_person.sort_values(by=['filename', 'xmin', 'ymin', 'xmax', 'ymax']).reset_index(drop=True)\n",
        "\n",
        "  # Compare relevant columns\n",
        "  cols_to_compare = ['filename', 'xmin', 'ymin', 'xmax', 'ymax', 'class']\n",
        "  comparison = df_full_personified[cols_to_compare].equals(df_person[cols_to_compare])\n",
        "\n",
        "  if comparison:\n",
        "    print(\"The CSV files match after normalizing class names to 'person'.\")\n",
        "  else:\n",
        "    mismatches = df_full_personified[cols_to_compare].compare(df_person[cols_to_compare])\n",
        "    print(\"Differences found between the two CSVs after normalizing classes.\")\n",
        "    print(\"Sample differences:\")\n",
        "    print(mismatches.head(10))\n",
        "\n",
        "  return comparison\n",
        "\n",
        "\n",
        "compare_personified_csvs(folder_path_sard)"
      ],
      "metadata": {
        "id": "AVif1l-imQYJ",
        "outputId": "9716a1d8-00ae-4747-88d5-807cad0ee635",
        "colab": {
          "base_uri": "https://localhost:8080/"
        }
      },
      "execution_count": null,
      "outputs": [
        {
          "output_type": "stream",
          "name": "stdout",
          "text": [
            "The CSV files match after normalizing class names to 'person'.\n"
          ]
        },
        {
          "output_type": "execute_result",
          "data": {
            "text/plain": [
              "True"
            ]
          },
          "metadata": {},
          "execution_count": 65
        }
      ]
    },
    {
      "cell_type": "markdown",
      "source": [
        "We start with some general analysis of the cleaned dataset:"
      ],
      "metadata": {
        "id": "eTLn3df2wbT6"
      }
    },
    {
      "cell_type": "code",
      "source": [
        "folder_path_sard = '/content/drive/MyDrive/projectUPV/datasets/SARD_dataset/SARD'\n",
        "csv_path_sard = os.path.join(folder_path_sard, 'sard_labels.csv')\n",
        "\n",
        "risultati = analyze_dataset_annotations(csv_path_sard, folder_path_sard)\n",
        "\n",
        "print(\"How many images for each label:\")\n",
        "print(risultati[\"label_count\"])\n",
        "\n",
        "print(\"\\nDistribution of bbox for image:\")\n",
        "for n_bbox, n_images in risultati[\"distribution_of_bbox\"].items():\n",
        "  print(f\"There are {n_images} images with {n_bbox} bbox\")\n",
        "\n",
        "print(\"\\nImages with at least one label (bounding box):\", risultati[\"number_images_annotated\"])\n",
        "print(\"Total images:\", risultati[\"number_all_images\"])\n",
        "print(\"Images without any label:\", risultati[\"number_images_without_annotations\"])\n",
        "print(\"The images without any label are:\", risultati[\"images_without_annotations\"])\n"
      ],
      "metadata": {
        "id": "liQOpJ9YPfbb",
        "outputId": "fd5bb8bf-13b4-42e7-dfaa-0edde11797ed",
        "colab": {
          "base_uri": "https://localhost:8080/"
        }
      },
      "execution_count": null,
      "outputs": [
        {
          "output_type": "stream",
          "name": "stdout",
          "text": [
            "How many images for each label:\n",
            "class\n",
            "stands         1896\n",
            "laying_down    1591\n",
            "walking        1303\n",
            "not_defined    1039\n",
            "seated          624\n",
            "running          79\n",
            "Name: count, dtype: int64\n",
            "\n",
            "Distribution of bbox for image:\n",
            "There are 305 images with 1 bbox\n",
            "There are 649 images with 2 bbox\n",
            "There are 355 images with 3 bbox\n",
            "There are 197 images with 4 bbox\n",
            "There are 141 images with 5 bbox\n",
            "There are 136 images with 6 bbox\n",
            "There are 95 images with 7 bbox\n",
            "There are 37 images with 8 bbox\n",
            "There are 66 images with 9 bbox\n",
            "\n",
            "Images with at least one label (bounding box): 1981\n",
            "Total images: 1981\n",
            "Images without any label: 0\n",
            "The images without any label are: set()\n"
          ]
        }
      ]
    },
    {
      "cell_type": "markdown",
      "source": [
        "But we are more interested to analize the _sard_person_labels.csv_:"
      ],
      "metadata": {
        "id": "dYEeUS5K9tLc"
      }
    },
    {
      "cell_type": "code",
      "source": [
        "csv_path_sard = os.path.join(folder_path_sard, 'sard_person_labels.csv')\n",
        "\n",
        "risultati = analyze_dataset_annotations(csv_path_sard, folder_path_sard)\n",
        "\n",
        "print(\"How many images for each label:\")\n",
        "print(risultati[\"label_count\"])\n",
        "\n",
        "print(\"\\nDistribution of bbox for image:\")\n",
        "for n_bbox, n_images in risultati[\"distribution_of_bbox\"].items():\n",
        "  print(f\"There are {n_images} images with {n_bbox} bbox\")\n",
        "\n",
        "print(\"\\nImages with at least one label (bounding box):\", risultati[\"number_images_annotated\"])\n",
        "print(\"Total images:\", risultati[\"number_all_images\"])\n",
        "print(\"Images without any label:\", risultati[\"number_images_without_annotations\"])\n",
        "print(\"The images without any label are:\", risultati[\"images_without_annotations\"])"
      ],
      "metadata": {
        "colab": {
          "base_uri": "https://localhost:8080/"
        },
        "id": "famkKW9Y92UL",
        "outputId": "7cb8a30a-04b6-48dd-e6e8-766ff9ef1348"
      },
      "execution_count": null,
      "outputs": [
        {
          "output_type": "stream",
          "name": "stdout",
          "text": [
            "How many images for each label:\n",
            "class\n",
            "person    6532\n",
            "Name: count, dtype: int64\n",
            "\n",
            "Distribution of bbox for image:\n",
            "There are 305 images with 1 bbox\n",
            "There are 649 images with 2 bbox\n",
            "There are 355 images with 3 bbox\n",
            "There are 197 images with 4 bbox\n",
            "There are 141 images with 5 bbox\n",
            "There are 136 images with 6 bbox\n",
            "There are 95 images with 7 bbox\n",
            "There are 37 images with 8 bbox\n",
            "There are 66 images with 9 bbox\n",
            "\n",
            "Images with at least one label (bounding box): 1981\n",
            "Total images: 1981\n",
            "Images without any label: 0\n",
            "The images without any label are: set()\n"
          ]
        }
      ]
    },
    {
      "cell_type": "markdown",
      "source": [
        "We check that all images have the same dimensions:"
      ],
      "metadata": {
        "id": "ihLo0I58wlPr"
      }
    },
    {
      "cell_type": "code",
      "source": [
        "print(\"\\nAbout 'sard_person_labels.csv': \")\n",
        "csv_sard_person_labels_path = os.path.join(folder_path_sard, 'sard_person_labels.csv')\n",
        "\n",
        "check_image_dimensions_consistency(csv_sard_person_labels_path)"
      ],
      "metadata": {
        "id": "lVJAXCNFJE9e",
        "outputId": "651b30b0-6ce3-4253-a846-a9b14110fe14",
        "colab": {
          "base_uri": "https://localhost:8080/",
          "height": 135
        }
      },
      "execution_count": null,
      "outputs": [
        {
          "output_type": "stream",
          "name": "stdout",
          "text": [
            "\n",
            "About 'sard_person_labels.csv': \n",
            "All images have the same size: 1920x1080\n"
          ]
        },
        {
          "output_type": "execute_result",
          "data": {
            "text/plain": [
              "   width  height  image_count\n",
              "0   1920    1080         1981"
            ],
            "text/html": [
              "\n",
              "  <div id=\"df-acdb2ff5-324b-4ec1-a817-b7321107c8bd\" class=\"colab-df-container\">\n",
              "    <div>\n",
              "<style scoped>\n",
              "    .dataframe tbody tr th:only-of-type {\n",
              "        vertical-align: middle;\n",
              "    }\n",
              "\n",
              "    .dataframe tbody tr th {\n",
              "        vertical-align: top;\n",
              "    }\n",
              "\n",
              "    .dataframe thead th {\n",
              "        text-align: right;\n",
              "    }\n",
              "</style>\n",
              "<table border=\"1\" class=\"dataframe\">\n",
              "  <thead>\n",
              "    <tr style=\"text-align: right;\">\n",
              "      <th></th>\n",
              "      <th>width</th>\n",
              "      <th>height</th>\n",
              "      <th>image_count</th>\n",
              "    </tr>\n",
              "  </thead>\n",
              "  <tbody>\n",
              "    <tr>\n",
              "      <th>0</th>\n",
              "      <td>1920</td>\n",
              "      <td>1080</td>\n",
              "      <td>1981</td>\n",
              "    </tr>\n",
              "  </tbody>\n",
              "</table>\n",
              "</div>\n",
              "    <div class=\"colab-df-buttons\">\n",
              "\n",
              "  <div class=\"colab-df-container\">\n",
              "    <button class=\"colab-df-convert\" onclick=\"convertToInteractive('df-acdb2ff5-324b-4ec1-a817-b7321107c8bd')\"\n",
              "            title=\"Convert this dataframe to an interactive table.\"\n",
              "            style=\"display:none;\">\n",
              "\n",
              "  <svg xmlns=\"http://www.w3.org/2000/svg\" height=\"24px\" viewBox=\"0 -960 960 960\">\n",
              "    <path d=\"M120-120v-720h720v720H120Zm60-500h600v-160H180v160Zm220 220h160v-160H400v160Zm0 220h160v-160H400v160ZM180-400h160v-160H180v160Zm440 0h160v-160H620v160ZM180-180h160v-160H180v160Zm440 0h160v-160H620v160Z\"/>\n",
              "  </svg>\n",
              "    </button>\n",
              "\n",
              "  <style>\n",
              "    .colab-df-container {\n",
              "      display:flex;\n",
              "      gap: 12px;\n",
              "    }\n",
              "\n",
              "    .colab-df-convert {\n",
              "      background-color: #E8F0FE;\n",
              "      border: none;\n",
              "      border-radius: 50%;\n",
              "      cursor: pointer;\n",
              "      display: none;\n",
              "      fill: #1967D2;\n",
              "      height: 32px;\n",
              "      padding: 0 0 0 0;\n",
              "      width: 32px;\n",
              "    }\n",
              "\n",
              "    .colab-df-convert:hover {\n",
              "      background-color: #E2EBFA;\n",
              "      box-shadow: 0px 1px 2px rgba(60, 64, 67, 0.3), 0px 1px 3px 1px rgba(60, 64, 67, 0.15);\n",
              "      fill: #174EA6;\n",
              "    }\n",
              "\n",
              "    .colab-df-buttons div {\n",
              "      margin-bottom: 4px;\n",
              "    }\n",
              "\n",
              "    [theme=dark] .colab-df-convert {\n",
              "      background-color: #3B4455;\n",
              "      fill: #D2E3FC;\n",
              "    }\n",
              "\n",
              "    [theme=dark] .colab-df-convert:hover {\n",
              "      background-color: #434B5C;\n",
              "      box-shadow: 0px 1px 3px 1px rgba(0, 0, 0, 0.15);\n",
              "      filter: drop-shadow(0px 1px 2px rgba(0, 0, 0, 0.3));\n",
              "      fill: #FFFFFF;\n",
              "    }\n",
              "  </style>\n",
              "\n",
              "    <script>\n",
              "      const buttonEl =\n",
              "        document.querySelector('#df-acdb2ff5-324b-4ec1-a817-b7321107c8bd button.colab-df-convert');\n",
              "      buttonEl.style.display =\n",
              "        google.colab.kernel.accessAllowed ? 'block' : 'none';\n",
              "\n",
              "      async function convertToInteractive(key) {\n",
              "        const element = document.querySelector('#df-acdb2ff5-324b-4ec1-a817-b7321107c8bd');\n",
              "        const dataTable =\n",
              "          await google.colab.kernel.invokeFunction('convertToInteractive',\n",
              "                                                    [key], {});\n",
              "        if (!dataTable) return;\n",
              "\n",
              "        const docLinkHtml = 'Like what you see? Visit the ' +\n",
              "          '<a target=\"_blank\" href=https://colab.research.google.com/notebooks/data_table.ipynb>data table notebook</a>'\n",
              "          + ' to learn more about interactive tables.';\n",
              "        element.innerHTML = '';\n",
              "        dataTable['output_type'] = 'display_data';\n",
              "        await google.colab.output.renderOutput(dataTable, element);\n",
              "        const docLink = document.createElement('div');\n",
              "        docLink.innerHTML = docLinkHtml;\n",
              "        element.appendChild(docLink);\n",
              "      }\n",
              "    </script>\n",
              "  </div>\n",
              "\n",
              "\n",
              "    </div>\n",
              "  </div>\n"
            ],
            "application/vnd.google.colaboratory.intrinsic+json": {
              "type": "dataframe",
              "summary": "{\n  \"name\": \"check_image_dimensions_consistency(csv_sard_person_labels_path)\",\n  \"rows\": 1,\n  \"fields\": [\n    {\n      \"column\": \"width\",\n      \"properties\": {\n        \"dtype\": \"number\",\n        \"std\": null,\n        \"min\": 1920,\n        \"max\": 1920,\n        \"num_unique_values\": 1,\n        \"samples\": [\n          1920\n        ],\n        \"semantic_type\": \"\",\n        \"description\": \"\"\n      }\n    },\n    {\n      \"column\": \"height\",\n      \"properties\": {\n        \"dtype\": \"number\",\n        \"std\": null,\n        \"min\": 1080,\n        \"max\": 1080,\n        \"num_unique_values\": 1,\n        \"samples\": [\n          1080\n        ],\n        \"semantic_type\": \"\",\n        \"description\": \"\"\n      }\n    },\n    {\n      \"column\": \"image_count\",\n      \"properties\": {\n        \"dtype\": \"number\",\n        \"std\": null,\n        \"min\": 1981,\n        \"max\": 1981,\n        \"num_unique_values\": 1,\n        \"samples\": [\n          1981\n        ],\n        \"semantic_type\": \"\",\n        \"description\": \"\"\n      }\n    }\n  ]\n}"
            }
          },
          "metadata": {},
          "execution_count": 68
        }
      ]
    },
    {
      "cell_type": "markdown",
      "source": [
        "Now we verify that all bounding boxes are within the image boundaries:"
      ],
      "metadata": {
        "id": "rCrXQwL1wvla"
      }
    },
    {
      "cell_type": "code",
      "source": [
        "csv_sard_person_labels_path = os.path.join(folder_path_sard, 'sard_person_labels.csv')\n",
        "\n",
        "# 1) indexation estimate\n",
        "info_sard = infer_indexing_from_csv_verbose(csv_sard_person_labels_path, thresh=0.2)\n",
        "print(\"SARD indexing:\", info_sard)\n",
        "\n",
        "# 2) flag for checking (fallback: if ambiguous, assume VOC 1-based)\n",
        "voc_flag_sard = (info_sard[\"indexing\"] == \"1-based\") or (info_sard[\"indexing\"] == \"ambiguous\")\n",
        "\n",
        "# 3) OOB with correct flag\n",
        "invalid_bboxes_sard_person_labels = check_bboxes_out_of_bounds_from_csv(\n",
        "  csv_sard_person_labels_path, voc_one_indexed=voc_flag_sard\n",
        ")\n",
        "print(invalid_bboxes_sard_person_labels[['filename','xmin','ymin','xmax','ymax','width','height']])"
      ],
      "metadata": {
        "id": "zKZBz0KiG8H5",
        "outputId": "f6133eb8-1a65-46c0-d52b-9464df6a9858",
        "colab": {
          "base_uri": "https://localhost:8080/"
        }
      },
      "execution_count": null,
      "outputs": [
        {
          "output_type": "stream",
          "name": "stdout",
          "text": [
            "Checked all entries. Found 0 invalid bounding boxes.\n",
            "Empty DataFrame\n",
            "Columns: [filename, xmin, ymin, xmax, ymax, width, height]\n",
            "Index: []\n"
          ]
        }
      ]
    },
    {
      "cell_type": "markdown",
      "source": [
        "_Note on the \"not_defined\" label:_ \\\n",
        "In the SARD dataset, the \"not_defined\" label is used when a person is clearly present in the image, but their activity or posture cannot be reliably classified (e.g., due to occlusion or ambiguity). \\\n",
        "Since my task is person detection (i.e., detecting the presence of a person, regardless of their behavior), I decided to treat all \"not_defined\" annotations as valid person instances. \\\n",
        "This avoids undercounting people in cases where the action is unclear but their presence is certain."
      ],
      "metadata": {
        "id": "vYyJo-F907Df"
      }
    },
    {
      "cell_type": "markdown",
      "source": [
        "We now categorize the images into three groups to identify potential annotation errors. \\\n",
        "This check allows us to avoid working with misannotated or unannotated images, improving dataset quality."
      ],
      "metadata": {
        "id": "9SphlT1l5IEt"
      }
    },
    {
      "cell_type": "code",
      "source": [
        "folder_path_sard = '/content/drive/MyDrive/projectUPV/datasets/SARD_dataset/SARD'\n",
        "\n",
        "csv_sard_person_labels_path = os.path.join(folder_path_sard, 'sard_person_labels.csv')\n",
        "\n",
        "result = classify_image_annotation_quality(csv_sard_person_labels_path, folder_path_sard)\n",
        "\n",
        "print(f\"Case 1 (only bbox suspicious): {len(result['case1_all_suspicious'])} and they are: {result['case1_all_suspicious']}\")\n",
        "print(f\"Case 2 (bbox mix): {len(result['case2_some_suspicious'])}\")\n",
        "print(f\"Case 3 (no annotation): {len(result['case3_no_annotations'])} and they are: {result['case3_no_annotations']}\")\n",
        "\n",
        "# I also think that the images in the case 1 and 3 are useless in this unbalanced dataset. So i'm going to delete them."
      ],
      "metadata": {
        "id": "3VXmwnA8wqSa",
        "outputId": "b3f5d40d-219e-4913-f08e-9308f35e4cb1",
        "colab": {
          "base_uri": "https://localhost:8080/"
        }
      },
      "execution_count": null,
      "outputs": [
        {
          "output_type": "stream",
          "name": "stdout",
          "text": [
            "Case 1 (only bbox suspicious): 4 and they are: {'gss0326.jpg', 'gss1129.jpg', 'gss0327.jpg', 'gss1138.jpg'}\n",
            "Case 2 (bbox mix): 107\n",
            "Case 3 (no annotation): 0 and they are: set()\n"
          ]
        }
      ]
    },
    {
      "cell_type": "markdown",
      "source": [
        "We notice that the repeating images are always the same. \\\n",
        "We now delete the images identified as suspicious, specifically: images with very small bounding boxes (case 1), and images with no annotations (case 3):"
      ],
      "metadata": {
        "id": "bQ3OJ5hI5Uo4"
      }
    },
    {
      "cell_type": "code",
      "source": [
        "# At first let's see which rows would be removed from CSVs without editing them.\n",
        "\n",
        "csv_sard_labels_path = os.path.join(folder_path_sard, 'sard_labels.csv')\n",
        "csv_sard_person_labels_path = os.path.join(folder_path_sard, 'sard_person_labels.csv')\n",
        "\n",
        "csv_files = [csv_sard_labels_path, csv_sard_person_labels_path]\n",
        "\n",
        "print(\"case1: \", result['case1_all_suspicious'])\n",
        "print(\"case3: \", result['case3_no_annotations'])\n",
        "\n",
        "images_to_remove = result['case1_all_suspicious'].union(result['case3_no_annotations'])\n",
        "\n",
        "# Show what would be eliminated\n",
        "preview_dataset_cleaning(csv_files, images_to_remove)"
      ],
      "metadata": {
        "id": "DEf9ekfcEDG8",
        "colab": {
          "base_uri": "https://localhost:8080/"
        },
        "outputId": "1270d81d-4e3f-4dcb-a585-51a5bc05c91f"
      },
      "execution_count": null,
      "outputs": [
        {
          "output_type": "stream",
          "name": "stdout",
          "text": [
            "case1:  {'gss0326.jpg', 'gss1129.jpg', 'gss0327.jpg', 'gss1138.jpg'}\n",
            "case3:  set()\n",
            "\n",
            " /content/drive/MyDrive/projectUPV/datasets/SARD_dataset/SARD/sard_labels.csv: 4 rows to remove\n",
            "Filenames involved: ['gss0326.jpg' 'gss0327.jpg' 'gss1129.jpg' 'gss1138.jpg']\n",
            "\n",
            " /content/drive/MyDrive/projectUPV/datasets/SARD_dataset/SARD/sard_person_labels.csv: 4 rows to remove\n",
            "Filenames involved: ['gss0326.jpg' 'gss0327.jpg' 'gss1129.jpg' 'gss1138.jpg']\n"
          ]
        }
      ]
    },
    {
      "cell_type": "code",
      "source": [
        "# Ok now we can really delete the images\n",
        "\n",
        "items_deleted = clean_dataset(folder_path_sard, csv_files, images_to_remove)\n",
        "print(\"Number of images deleted: \", len(items_deleted[\"deleted_images\"]))\n",
        "print(\"Number of xml files deleted: \", len(items_deleted[\"deleted_xmls\"]))\n",
        "print(\"Rows deleted: \", len(items_deleted[\"removed_csv_rows\"]))"
      ],
      "metadata": {
        "id": "MwVoC8glETuq",
        "colab": {
          "base_uri": "https://localhost:8080/"
        },
        "outputId": "7ebfb63a-2605-46a5-d884-cc06816a2cd7"
      },
      "execution_count": null,
      "outputs": [
        {
          "output_type": "stream",
          "name": "stdout",
          "text": [
            "\n",
            "Check on /content/drive/MyDrive/projectUPV/datasets/SARD_dataset/SARD/sard_labels.csv: 4 rows to delete\n",
            "Filenames: ['gss0326.jpg' 'gss0327.jpg' 'gss1129.jpg' 'gss1138.jpg']\n",
            "Updated /content/drive/MyDrive/projectUPV/datasets/SARD_dataset/SARD/sard_labels.csv: 4 rows removed\n",
            "Number of images deleted:  4\n",
            "Number of xml files deleted:  4\n",
            "Rows deleted:  1\n"
          ]
        }
      ]
    },
    {
      "cell_type": "code",
      "source": [
        "is_image_present(sard_dataset_path, \"gss0329.jpg\")"
      ],
      "metadata": {
        "id": "75PyGNLb6fch",
        "outputId": "9f095de0-4e4b-43f9-bcf1-736b6156cdc5",
        "colab": {
          "base_uri": "https://localhost:8080/"
        }
      },
      "execution_count": null,
      "outputs": [
        {
          "output_type": "execute_result",
          "data": {
            "text/plain": [
              "False"
            ]
          },
          "metadata": {},
          "execution_count": 73
        }
      ]
    },
    {
      "cell_type": "markdown",
      "source": [
        "And now let's see again some basic analysis:"
      ],
      "metadata": {
        "id": "sRgXPZuaOatW"
      }
    },
    {
      "cell_type": "code",
      "source": [
        "csv_path_sard = os.path.join(folder_path_sard, 'sard_person_labels.csv')\n",
        "\n",
        "results = analyze_dataset_annotations(csv_path_sard, folder_path_sard)\n",
        "\n",
        "print(\"How many images for each label:\")\n",
        "print(results[\"label_count\"])\n",
        "\n",
        "print(\"\\nDistribution of bbox for image:\")\n",
        "for n_bbox, n_images in results[\"distribution_of_bbox\"].items():\n",
        "  print(f\"There are {n_images} images with {n_bbox} bbox\")\n",
        "\n",
        "print(\"\\nImages with at least one label (bounding box):\", results[\"number_images_annotated\"])\n",
        "print(\"Total images:\", results[\"number_all_images\"])\n",
        "print(\"Images without any label:\", results[\"number_images_without_annotations\"])\n",
        "print(\"The images without any label are:\", results[\"images_without_annotations\"])"
      ],
      "metadata": {
        "id": "qLJG9_N_OaQy",
        "outputId": "65f30053-8220-4f63-f85e-c025c6606df6",
        "colab": {
          "base_uri": "https://localhost:8080/"
        }
      },
      "execution_count": null,
      "outputs": [
        {
          "output_type": "stream",
          "name": "stdout",
          "text": [
            "How many images for each label:\n",
            "class\n",
            "person    6532\n",
            "Name: count, dtype: int64\n",
            "\n",
            "Distribution of bbox for image:\n",
            "There are 305 images with 1 bbox\n",
            "There are 649 images with 2 bbox\n",
            "There are 355 images with 3 bbox\n",
            "There are 197 images with 4 bbox\n",
            "There are 141 images with 5 bbox\n",
            "There are 136 images with 6 bbox\n",
            "There are 95 images with 7 bbox\n",
            "There are 37 images with 8 bbox\n",
            "There are 66 images with 9 bbox\n",
            "\n",
            "Images with at least one label (bounding box): 1981\n",
            "Total images: 1977\n",
            "Images without any label: 0\n",
            "The images without any label are: set()\n"
          ]
        }
      ]
    },
    {
      "cell_type": "markdown",
      "source": [
        "Finally, for the future merge, we want to unify all classes to 'person':"
      ],
      "metadata": {
        "id": "BmSpO2mnFvmT"
      }
    },
    {
      "cell_type": "code",
      "source": [
        "def unify_sard_classes_to_person(folder_path, new_class=\"person\"):\n",
        "  \"\"\"\n",
        "  Update all classes (<name>) in SARD XML files to 'person'.\n",
        "\n",
        "  Args:\n",
        "    folder_path (str): Folder containing XML files.\n",
        "    new_class (str): Class name to be set (default: 'person').\n",
        "\n",
        "  Riturns:\n",
        "    int: Number of updated XML files.\n",
        "  \"\"\"\n",
        "  updated_files = 0\n",
        "\n",
        "  for file in os.listdir(folder_path):\n",
        "    if file.endswith('.xml'):\n",
        "      xml_path = os.path.join(folder_path, file)\n",
        "\n",
        "      try:\n",
        "        tree = ET.parse(xml_path)\n",
        "        root = tree.getroot()\n",
        "\n",
        "        modified = False\n",
        "        for obj in root.findall('object'):\n",
        "          name_tag = obj.find('name')\n",
        "          if name_tag is not None and name_tag.text != new_class:\n",
        "            name_tag.text = new_class\n",
        "            modified = True\n",
        "\n",
        "        if modified:\n",
        "          tree.write(xml_path)\n",
        "          updated_files += 1\n",
        "\n",
        "      except ET.ParseError:\n",
        "        print(f\"Error in the parsing of: {file}\")\n",
        "\n",
        "  print(f\"Updated {updated_files} XML files.\")\n",
        "  return updated_files # number of updated files"
      ],
      "metadata": {
        "id": "JQ0HDKpIUhOh"
      },
      "execution_count": null,
      "outputs": []
    },
    {
      "cell_type": "code",
      "source": [
        "folder_path_sard = \"/content/drive/MyDrive/projectUPV/datasets/SARD_dataset/SARD\"\n",
        "unify_sard_classes_to_person(folder_path_sard)"
      ],
      "metadata": {
        "id": "tFds23J1GkZn",
        "outputId": "938fcd0d-9a77-4c42-975b-a34bb7f3fc64",
        "colab": {
          "base_uri": "https://localhost:8080/"
        }
      },
      "execution_count": null,
      "outputs": [
        {
          "output_type": "stream",
          "name": "stdout",
          "text": [
            "Updated 1977 XML files.\n"
          ]
        },
        {
          "output_type": "execute_result",
          "data": {
            "text/plain": [
              "1977"
            ]
          },
          "metadata": {},
          "execution_count": 76
        }
      ]
    },
    {
      "cell_type": "markdown",
      "source": [
        "And now let's see if it really went well:"
      ],
      "metadata": {
        "id": "4eI9fQttJkah"
      }
    },
    {
      "cell_type": "code",
      "source": [
        "def count_xml_with_non_person_classes(folder_path):\n",
        "  \"\"\"\n",
        "  Count how many XML files contain at least one class other than 'person'.\n",
        "\n",
        "  Args:\n",
        "    folder_path (str): path to folder with XML files\n",
        "\n",
        "  Returns:\n",
        "    int: Number of XML files that contain at least one non 'person' class\n",
        "    list: list of the names of these files\n",
        "  \"\"\"\n",
        "  non_person_files = []\n",
        "\n",
        "  for file in os.listdir(folder_path):\n",
        "    if file.endswith(\".xml\"):\n",
        "      file_path = os.path.join(folder_path, file)\n",
        "      try:\n",
        "        tree = ET.parse(file_path)\n",
        "        root = tree.getroot()\n",
        "\n",
        "        # Checks all objects in the file\n",
        "        found_non_person = False\n",
        "        for obj in root.findall(\"object\"):\n",
        "          name_tag = obj.find(\"name\")\n",
        "          if name_tag is not None and name_tag.text.strip().lower() != \"person\":\n",
        "            found_non_person = True\n",
        "\n",
        "        if found_non_person:\n",
        "          non_person_files.append(file)\n",
        "\n",
        "      except ET.ParseError:\n",
        "        print(f\"Error in the parsing of: {file}\")\n",
        "\n",
        "  print(f\"XML files with at least one class other than 'person': {len(non_person_files)}\")\n",
        "  return len(non_person_files), non_person_files"
      ],
      "metadata": {
        "id": "bfUi1JPoJpfq"
      },
      "execution_count": null,
      "outputs": []
    },
    {
      "cell_type": "code",
      "source": [
        "count, files = count_xml_with_non_person_classes(folder_path_sard) # Expected 0 files without person as class"
      ],
      "metadata": {
        "id": "QqfKZ3wVMWTp",
        "outputId": "2e7ec3e1-9799-4c8c-9b32-a4659cc26622",
        "colab": {
          "base_uri": "https://localhost:8080/"
        }
      },
      "execution_count": null,
      "outputs": [
        {
          "output_type": "stream",
          "name": "stdout",
          "text": [
            "XML files with at least one class other than 'person': 0\n"
          ]
        }
      ]
    },
    {
      "cell_type": "markdown",
      "source": [
        "_Note:_ \\\n",
        "The SARD dataset is imbalanced: there are very few (almost none) empty images (i.e., without people). With such a dataset, the model will get used to always seeing people. I believe it's better to have a certain number of images without people. \\\n",
        "To address this issue, I decided to use another dataset, 'Herida', which contains both images with and without people. \\\n",
        "We now proceed with cleaning that dataset, and later we will merge it with SARD, creating a dataset suitable for my objective."
      ],
      "metadata": {
        "id": "BEp3T7bk6TBk"
      }
    },
    {
      "cell_type": "markdown",
      "source": [
        "#### Images with effects"
      ],
      "metadata": {
        "id": "JtfwnP9k7UBB"
      }
    },
    {
      "cell_type": "code",
      "source": [
        "# To rename images with effects\n",
        "folder_path_fog = '/content/drive/MyDrive/projectUPV/datasets/SARD_dataset/Corr/fog'\n",
        "folder_path_snow = '/content/drive/MyDrive/projectUPV/datasets/SARD_dataset/Corr/snow'\n",
        "folder_path_motion_blur = '/content/drive/MyDrive/projectUPV/datasets/SARD_dataset/Corr/motion_blur'\n",
        "\n",
        "prefix_fog = 'fog'\n",
        "prefix_snow = 'snow'\n",
        "prefix_motion_blur = 'motion_blur'\n",
        "\n",
        "def rename_files(folder_path, prefix):\n",
        "  \"\"\"\n",
        "  Rename images with effects (fog, snow, motion blur)\n",
        "\n",
        "  Args:\n",
        "    folder_path (str): Path to dataset containing images\n",
        "    prefix (str): Prefix to add to the new filenames\n",
        "  \"\"\"\n",
        "\n",
        "  files = sorted([f for f in os.listdir(folder_path) if f.lower().endswith((\".jpg\", \".jpeg\", \".png\"))]) # to order files by name\n",
        "  for i, filename in enumerate(files, start=1):\n",
        "    ext = os.path.splitext(filename)[1] # to separate \"namefile.jpg\" in (\"namefile\", \".jpg\"), and [1] to take just the extension\n",
        "    new_name = f\"{prefix}_{i:04d}{ext}\" # to build the new name\n",
        "    old_path = os.path.join(folder_path, filename)\n",
        "    new_path = os.path.join(folder_path, new_name)\n",
        "    os.rename(old_path, new_path)\n",
        "\n",
        "rename_files(folder_path_fog, prefix_fog)\n",
        "rename_files(folder_path_snow, prefix_snow)\n",
        "rename_files(folder_path_motion_blur, prefix_motion_blur)"
      ],
      "metadata": {
        "id": "k5UJWx10ELxM"
      },
      "execution_count": null,
      "outputs": []
    },
    {
      "cell_type": "code",
      "source": [
        "\n",
        "fog_mapping = {\n",
        "  'fog_0001.jpg': 'gss2.jpg', 'fog_0002.jpg': 'gss4.jpg', 'fog_0003.jpg': 'gss7.jpg', 'fog_0004.jpg': 'gss9.jpg', 'fog_0005.jpg': 'gss12.jpg', 'fog_0006.jpg': 'gss14.jpg', 'fog_0007.jpg': 'gss17.jpg', 'fog_0008.jpg': 'gss19.jpg', 'fog_0009.jpg': 'gss22.jpg', 'fog_0010.jpg': 'gss24.jpg', 'fog_0011.jpg': 'gss27.jpg', 'fog_0012.jpg': 'gss29.jpg', 'fog_0013.jpg': 'gss32.jpg', 'fog_0014.jpg': 'gss34.jpg', 'fog_0015.jpg': 'gss37.jpg', 'fog_0016.jpg': 'gss39.jpg', 'fog_0017.jpg': 'gss42.jpg', 'fog_0018.jpg': 'gss44.jpg', 'fog_0019.jpg': 'gss47.jpg', 'fog_0020.jpg': 'gss49.jpg',\n",
        "  'fog_0021.jpg': 'gss52.jpg', 'fog_0022.jpg': 'gss54.jpg', 'fog_0023.jpg': 'gss57.jpg', 'fog_0024.jpg': 'gss59.jpg', 'fog_0025.jpg': 'gss66.jpg', 'fog_0026.jpg': 'gss83.jpg', 'fog_0027.jpg': 'gss87.jpg', 'fog_0028.jpg': 'gss89.jpg', 'fog_0029.jpg': 'gss92.jpg', 'fog_0030.jpg': 'gss94.jpg', 'fog_0031.jpg': 'gss97.jpg', 'fog_0032.jpg': 'gss99.jpg', 'fog_0033.jpg': 'gss102.jpg', 'fog_0034.jpg': 'gss104.jpg', 'fog_0035.jpg': 'gss107.jpg', 'fog_0036.jpg': 'gss109.jpg', 'fog_0037.jpg': 'gss112.jpg', 'fog_0038.jpg': 'gss114.jpg', 'fog_0039.jpg': 'gss117.jpg', 'fog_0040.jpg': 'gss119.jpg',\n",
        "  'fog_0041.jpg': 'gss122.jpg', 'fog_0042.jpg': 'gss124.jpg', 'fog_0043.jpg': 'gss127.jpg', 'fog_0044.jpg': 'gss129.jpg', 'fog_0045.jpg': 'gss132.jpg', 'fog_0046.jpg': 'gss134.jpg', 'fog_0047.jpg': 'gss137.jpg', 'fog_0048.jpg': 'gss139.jpg', 'fog_0049.jpg': 'gss142.jpg', 'fog_0050.jpg': 'gss144.jpg', 'fog_0051.jpg': 'gss147.jpg', 'fog_0052.jpg': 'gss149.jpg', 'fog_0053.jpg': 'gss152.jpg', 'fog_0054.jpg': 'gss154.jpg', 'fog_0055.jpg': 'gss157.jpg', 'fog_0056.jpg': 'gss159.jpg', 'fog_0057.jpg': 'gss162.jpg', 'fog_0058.jpg': 'gss164.jpg', 'fog_0059.jpg': 'gss167.jpg', 'fog_0060.jpg': 'gss169.jpg',\n",
        "  'fog_0061.jpg': 'gss172.jpg', 'fog_0062.jpg': 'gss174.jpg', 'fog_0063.jpg': 'gss177.jpg', 'fog_0064.jpg': 'gss179.jpg', 'fog_0065.jpg': 'gss182.jpg', 'fog_0066.jpg': 'gss184.jpg', 'fog_0067.jpg': 'gss187.jpg', 'fog_0068.jpg': 'gss189.jpg', 'fog_0069.jpg': 'gss192.jpg', 'fog_0070.jpg': 'gss194.jpg', 'fog_0071.jpg': 'gss197.jpg', 'fog_0072.jpg': 'gss199.jpg', 'fog_0073.jpg': 'gss202.jpg', 'fog_0074.jpg': 'gss204.jpg', 'fog_0075.jpg': 'gss207.jpg', 'fog_0076.jpg': 'gss209.jpg', 'fog_0077.jpg': 'gss212.jpg', 'fog_0078.jpg': 'gss214.jpg', 'fog_0079.jpg': 'gss217.jpg', 'fog_0080.jpg': 'gss219.jpg',\n",
        "  'fog_0081.jpg': 'gss222.jpg', 'fog_0082.jpg': 'gss224.jpg', 'fog_0083.jpg': 'gss227.jpg', 'fog_0084.jpg': 'gss229.jpg', 'fog_0085.jpg': 'gss232.jpg', 'fog_0086.jpg': 'gss234.jpg', 'fog_0087.jpg': 'gss237.jpg', 'fog_0088.jpg': 'gss239.jpg', 'fog_0089.jpg': 'gss242.jpg', 'fog_0090.jpg': 'gss244.jpg', 'fog_0091.jpg': 'gss247.jpg', 'fog_0092.jpg': 'gss249.jpg', 'fog_0093.jpg': 'gss252.jpg', 'fog_0094.jpg': 'gss254.jpg', 'fog_0095.jpg': 'gss257.jpg', 'fog_0096.jpg': 'gss259.jpg', 'fog_0097.jpg': 'gss262.jpg', 'fog_0098.jpg': 'gss264.jpg', 'fog_0099.jpg': 'gss267.jpg', 'fog_0100.jpg': 'gss269.jpg',\n",
        "  'fog_0101.jpg': 'gss272.jpg', 'fog_0102.jpg': 'gss274.jpg', 'fog_0103.jpg': 'gss277.jpg', 'fog_0104.jpg': 'gss279.jpg', 'fog_0105.jpg': 'gss282.jpg', 'fog_0106.jpg': 'gss288.jpg', 'fog_0107.jpg': 'gss291.jpg', 'fog_0108.jpg': 'gss293.jpg', 'fog_0109.jpg': 'gss296.jpg', 'fog_0110.jpg': 'gss298.jpg', 'fog_0111.jpg': 'gss301.jpg', 'fog_0112.jpg': 'gss303.jpg', 'fog_0113.jpg': 'gss306.jpg', 'fog_0114.jpg': 'gss309.jpg', 'fog_0115.jpg': 'gss312.jpg', 'fog_0116.jpg': 'gss314.jpg', 'fog_0117.jpg': 'gss317.jpg', 'fog_0118.jpg': 'gss319.jpg', 'fog_0119.jpg': 'gss322.jpg', 'fog_0120.jpg': 'gss324.jpg',\n",
        "  'fog_0121.jpg': 'gss327.jpg', 'fog_0122.jpg': 'gss331.jpg', 'fog_0123.jpg': 'gss334.jpg', 'fog_0124.jpg': 'gss336.jpg', 'fog_0125.jpg': 'gss339.jpg', 'fog_0126.jpg': 'gss341.jpg', 'fog_0127.jpg': 'gss344.jpg', 'fog_0128.jpg': 'gss346.jpg', 'fog_0129.jpg': 'gss349.jpg', 'fog_0130.jpg': 'gss351.jpg', 'fog_0131.jpg': 'gss354.jpg', 'fog_0132.jpg': 'gss356.jpg', 'fog_0133.jpg': 'gss359.jpg', 'fog_0134.jpg': 'gss361.jpg', 'fog_0135.jpg': 'gss364.jpg', 'fog_0136.jpg': 'gss366.jpg', 'fog_0137.jpg': 'gss369.jpg', 'fog_0207.jpg': 'gss544.jpg', 'fog_0208.jpg': 'gss546.jpg', 'fog_0209.jpg': 'gss549.jpg',\n",
        "  'fog_0210.jpg': 'gss551.jpg', 'fog_0211.jpg': 'gss554.jpg', 'fog_0212.jpg': 'gss556.jpg', 'fog_0213.jpg': 'gss559.jpg', 'fog_0214.jpg': 'gss561.jpg', 'fog_0215.jpg': 'gss564.jpg', 'fog_0216.jpg': 'gss566.jpg', 'fog_0217.jpg': 'gss569.jpg', 'fog_0218.jpg': 'gss571.jpg', 'fog_0219.jpg': 'gss574.jpg', 'fog_0220.jpg': 'gss576.jpg', 'fog_0221.jpg': 'gss579.jpg', 'fog_0222.jpg': 'gss581.jpg', 'fog_0223.jpg': 'gss584.jpg', 'fog_0224.jpg': 'gss586.jpg', 'fog_0225.jpg': 'gss589.jpg', 'fog_0226.jpg': 'gss591.jpg', 'fog_0227.jpg': 'gss594.jpg', 'fog_0237.jpg': 'gss619.jpg', 'fog_0238.jpg': 'gss621.jpg',\n",
        "  'fog_0239.jpg': 'gss624.jpg', 'fog_0240.jpg': 'gss626.jpg', 'fog_0241.jpg': 'gss629.jpg', 'fog_0242.jpg': 'gss631.jpg', 'fog_0243.jpg': 'gss634.jpg', 'fog_0244.jpg': 'gss636.jpg', 'fog_0245.jpg': 'gss639.jpg', 'fog_0246.jpg': 'gss641.jpg', 'fog_0247.jpg': 'gss644.jpg', 'fog_0248.jpg': 'gss646.jpg', 'fog_0249.jpg': 'gss649.jpg', 'fog_0250.jpg': 'gss651.jpg', 'fog_0251.jpg': 'gss654.jpg', 'fog_0252.jpg': 'gss656.jpg', 'fog_0253.jpg': 'gss659.jpg', 'fog_0254.jpg': 'gss661.jpg', 'fog_0255.jpg': 'gss664.jpg', 'fog_0256.jpg': 'gss666.jpg', 'fog_0257.jpg': 'gss669.jpg', 'fog_0258.jpg': 'gss671.jpg',\n",
        "  'fog_0259.jpg': 'gss674.jpg', 'fog_0260.jpg': 'gss676.jpg', 'fog_0261.jpg': 'gss679.jpg', 'fog_0262.jpg': 'gss681.jpg', 'fog_0263.jpg': 'gss684.jpg', 'fog_0264.jpg': 'gss686.jpg', 'fog_0265.jpg': 'gss689.jpg', 'fog_0266.jpg': 'gss691.jpg', 'fog_0267.jpg': 'gss694.jpg', 'fog_0268.jpg': 'gss696.jpg', 'fog_0269.jpg': 'gss699.jpg', 'fog_0270.jpg': 'gss701.jpg', 'fog_0271.jpg': 'gss704.jpg', 'fog_0272.jpg': 'gss706.jpg', 'fog_0273.jpg': 'gss709.jpg', 'fog_0274.jpg': 'gss711.jpg', 'fog_0275.jpg': 'gss714.jpg', 'fog_0276.jpg': 'gss716.jpg', 'fog_0277.jpg': 'gss719.jpg', 'fog_0278.jpg': 'gss721.jpg',\n",
        "  'fog_0279.jpg': 'gss724.jpg', 'fog_0280.jpg': 'gss726.jpg', 'fog_0281.jpg': 'gss729.jpg', 'fog_0282.jpg': 'gss731.jpg', 'fog_0283.jpg': 'gss734.jpg', 'fog_0284.jpg': 'gss736.jpg', 'fog_0285.jpg': 'gss739.jpg', 'fog_0286.jpg': 'gss741.jpg', 'fog_0287.jpg': 'gss748.jpg', 'fog_0288.jpg': 'gss750.jpg', 'fog_0289.jpg': 'gss753.jpg', 'fog_0290.jpg': 'gss755.jpg', 'fog_0291.jpg': 'gss758.jpg', 'fog_0292.jpg': 'gss760.jpg', 'fog_0293.jpg': 'gss763.jpg', 'fog_0294.jpg': 'gss765.jpg', 'fog_0295.jpg': 'gss768.jpg', 'fog_0296.jpg': 'gss770.jpg', 'fog_0297.jpg': 'gss773.jpg', 'fog_0298.jpg': 'gss775.jpg',\n",
        "  'fog_0299.jpg': 'gss778.jpg', 'fog_0300.jpg': 'gss780.jpg', 'fog_0301.jpg': 'gss783.jpg', 'fog_0302.jpg': 'gss785.jpg', 'fog_0303.jpg': 'gss788.jpg', 'fog_0304.jpg': 'gss790.jpg', 'fog_0305.jpg': 'gss793.jpg', 'fog_0306.jpg': 'gss795.jpg', 'fog_0307.jpg': 'gss798.jpg', 'fog_0308.jpg': 'gss800.jpg', 'fog_0309.jpg': 'gss803.jpg', 'fog_0310.jpg': 'gss805.jpg', 'fog_0311.jpg': 'gss809.jpg', 'fog_0312.jpg': 'gss811.jpg', 'fog_0313.jpg': 'gss814.jpg', 'fog_0314.jpg': 'gss816.jpg', 'fog_0315.jpg': 'gss819.jpg', 'fog_0316.jpg': 'gss821.jpg', 'fog_0317.jpg': 'gss824.jpg', 'fog_0318.jpg': 'gss826.jpg',\n",
        "  'fog_0319.jpg': 'gss829.jpg', 'fog_0320.jpg': 'gss831.jpg', 'fog_0321.jpg': 'gss834.jpg', 'fog_0322.jpg': 'gss837.jpg', 'fog_0323.jpg': 'gss840.jpg', 'fog_0324.jpg': 'gss842.jpg', 'fog_0325.jpg': 'gss845.jpg', 'fog_0326.jpg': 'gss847.jpg', 'fog_0327.jpg': 'gss850.jpg', 'fog_0328.jpg': 'gss852.jpg', 'fog_0329.jpg': 'gss855.jpg', 'fog_0330.jpg': 'gss857.jpg', 'fog_0331.jpg': 'gss860.jpg', 'fog_0332.jpg': 'gss862.jpg', 'fog_0333.jpg': 'gss865.jpg', 'fog_0334.jpg': 'gss867.jpg', 'fog_0335.jpg': 'gss870.jpg', 'fog_0336.jpg': 'gss872.jpg', 'fog_0337.jpg': 'gss875.jpg', 'fog_0338.jpg': 'gss877.jpg',\n",
        "  'fog_0339.jpg': 'gss880.jpg', 'fog_0340.jpg': 'gss882.jpg', 'fog_0341.jpg': 'gss885.jpg', 'fog_0342.jpg': 'gss887.jpg', 'fog_0343.jpg': 'gss892.jpg', 'fog_0344.jpg': 'gss894.jpg', 'fog_0345.jpg': 'gss897.jpg', 'fog_0346.jpg': 'gss899.jpg', 'fog_0347.jpg': 'gss902.jpg', 'fog_0348.jpg': 'gss904.jpg', 'fog_0349.jpg': 'gss907.jpg', 'fog_0350.jpg': 'gss909.jpg', 'fog_0351.jpg': 'gss912.jpg', 'fog_0352.jpg': 'gss914.jpg', 'fog_0353.jpg': 'gss917.jpg', 'fog_0354.jpg': 'gss919.jpg', 'fog_0355.jpg': 'gss922.jpg', 'fog_0356.jpg': 'gss924.jpg', 'fog_0357.jpg': 'gss927.jpg', 'fog_0358.jpg': 'gss929.jpg',\n",
        "  'fog_0359.jpg': 'gss932.jpg', 'fog_0360.jpg': 'gss934.jpg', 'fog_0361.jpg': 'gss937.jpg', 'fog_0362.jpg': 'gss939.jpg', 'fog_0363.jpg': 'gss942.jpg', 'fog_0364.jpg': 'gss944.jpg', 'fog_0365.jpg': 'gss947.jpg', 'fog_0366.jpg': 'gss949.jpg', 'fog_0367.jpg': 'gss952.jpg', 'fog_0368.jpg': 'gss954.jpg', 'fog_0369.jpg': 'gss957.jpg', 'fog_0370.jpg': 'gss959.jpg', 'fog_0371.jpg': 'gss962.jpg', 'fog_0372.jpg': 'gss964.jpg', 'fog_0373.jpg': 'gss967.jpg', 'fog_0374.jpg': 'gss969.jpg', 'fog_0375.jpg': 'gss972.jpg', 'fog_0376.jpg': 'gss974.jpg', 'fog_0377.jpg': 'gss1008.jpg', 'fog_0378.jpg': 'gss1010.jpg',\n",
        "  'fog_0379.jpg': 'gss1013.jpg', 'fog_0380.jpg': 'gss1015.jpg', 'fog_0381.jpg': 'gss1018.jpg', 'fog_0382.jpg': 'gss1020.jpg', 'fog_0383.jpg': 'gss1023.jpg', 'fog_0384.jpg': 'gss1025.jpg', 'fog_0385.jpg': 'gss1028.jpg', 'fog_0386.jpg': 'gss1030.jpg', 'fog_0387.jpg': 'gss1033.jpg', 'fog_0388.jpg': 'gss1035.jpg', 'fog_0389.jpg': 'gss1038.jpg', 'fog_0390.jpg': 'gss1040.jpg', 'fog_0391.jpg': 'gss1043.jpg', 'fog_0392.jpg': 'gss1045.jpg', 'fog_0393.jpg': 'gss1048.jpg', 'fog_0394.jpg': 'gss1050.jpg', 'fog_0395.jpg': 'gss1053.jpg', 'fog_0396.jpg': 'gss1055.jpg', 'fog_0397.jpg': 'gss1058.jpg', 'fog_0398.jpg': 'gss1060.jpg',\n",
        "  'fog_0399.jpg': 'gss1063.jpg', 'fog_0400.jpg': 'gss1065.jpg', 'fog_0401.jpg': 'gss1068.jpg', 'fog_0402.jpg': 'gss1070.jpg', 'fog_0403.jpg': 'gss1073.jpg', 'fog_0404.jpg': 'gss1075.jpg', 'fog_0405.jpg': 'gss1078.jpg', 'fog_0406.jpg': 'gss1080.jpg', 'fog_0407.jpg': 'gss1083.jpg', 'fog_0408.jpg': 'gss1085.jpg', 'fog_0409.jpg': 'gss1088.jpg', 'fog_0410.jpg': 'gss1090.jpg', 'fog_0411.jpg': 'gss1093.jpg', 'fog_0412.jpg': 'gss1095.jpg', 'fog_0413.jpg': 'gss1098.jpg', 'fog_0414.jpg': 'gss1100.jpg', 'fog_0415.jpg': 'gss1103.jpg', 'fog_0416.jpg': 'gss1105.jpg', 'fog_0417.jpg': 'gss1108.jpg', 'fog_0418.jpg': 'gss1110.jpg',\n",
        "  'fog_0419.jpg': 'gss1113.jpg', 'fog_0420.jpg': 'gss1115.jpg', 'fog_0421.jpg': 'gss1118.jpg', 'fog_0422.jpg': 'gss1120.jpg', 'fog_0423.jpg': 'gss1123.jpg', 'fog_0424.jpg': 'gss1125.jpg', 'fog_0425.jpg': 'gss1129.jpg', 'fog_0426.jpg': 'gss1139.jpg', 'fog_0427.jpg': 'gss1142.jpg', 'fog_0428.jpg': 'gss1144.jpg', 'fog_0429.jpg': 'gss1147.jpg', 'fog_0430.jpg': 'gss1149.jpg', 'fog_0431.jpg': 'gss1152.jpg', 'fog_0432.jpg': 'gss1154.jpg', 'fog_0433.jpg': 'gss1157.jpg', 'fog_0434.jpg': 'gss1159.jpg', 'fog_0435.jpg': 'gss1162.jpg', 'fog_0436.jpg': 'gss1164.jpg', 'fog_0437.jpg': 'gss1167.jpg', 'fog_0438.jpg': 'gss1169.jpg',\n",
        "  'fog_0439.jpg': 'gss1172.jpg', 'fog_0440.jpg': 'gss1174.jpg', 'fog_0441.jpg': 'gss1177.jpg', 'fog_0442.jpg': 'gss1179.jpg', 'fog_0443.jpg': 'gss1182.jpg', 'fog_0444.jpg': 'gss1184.jpg', 'fog_0445.jpg': 'gss1187.jpg', 'fog_0446.jpg': 'gss1189.jpg', 'fog_0447.jpg': 'gss1197.jpg', 'fog_0448.jpg': 'gss1199.jpg', 'fog_0449.jpg': 'gss1202.jpg', 'fog_0450.jpg': 'gss1204.jpg', 'fog_0451.jpg': 'gss1207.jpg', 'fog_0452.jpg': 'gss1209.jpg', 'fog_0453.jpg': 'gss1212.jpg', 'fog_0454.jpg': 'gss1214.jpg', 'fog_0455.jpg': 'gss1217.jpg', 'fog_0456.jpg': 'gss1219.jpg', 'fog_0457.jpg': 'gss1222.jpg', 'fog_0458.jpg': 'gss1224.jpg',\n",
        "  'fog_0459.jpg': 'gss1227.jpg', 'fog_0460.jpg': 'gss1229.jpg', 'fog_0461.jpg': 'gss1232.jpg', 'fog_0462.jpg': 'gss1234.jpg', 'fog_0463.jpg': 'gss1259.jpg', 'fog_0464.jpg': 'gss1261.jpg', 'fog_0465.jpg': 'gss1264.jpg', 'fog_0466.jpg': 'gss1266.jpg', 'fog_0467.jpg': 'gss1269.jpg', 'fog_0468.jpg': 'gss1271.jpg', 'fog_0469.jpg': 'gss1291.jpg', 'fog_0470.jpg': 'gss1293.jpg', 'fog_0471.jpg': 'gss1296.jpg', 'fog_0472.jpg': 'gss1298.jpg', 'fog_0473.jpg': 'gss1301.jpg', 'fog_0474.jpg': 'gss1303.jpg', 'fog_0475.jpg': 'gss1306.jpg', 'fog_0476.jpg': 'gss1308.jpg', 'fog_0477.jpg': 'gss1311.jpg', 'fog_0478.jpg': 'gss1313.jpg',\n",
        "  'fog_0479.jpg': 'gss1316.jpg', 'fog_0480.jpg': 'gss1318.jpg', 'fog_0481.jpg': 'gss1321.jpg', 'fog_0482.jpg': 'gss1323.jpg', 'fog_0483.jpg': 'gss1326.jpg', 'fog_0484.jpg': 'gss1328.jpg', 'fog_0485.jpg': 'gss1331.jpg', 'fog_0486.jpg': 'gss1333.jpg', 'fog_0487.jpg': 'gss1336.jpg', 'fog_0488.jpg': 'gss1338.jpg', 'fog_0489.jpg': 'gss1341.jpg', 'fog_0490.jpg': 'gss1343.jpg', 'fog_0491.jpg': 'gss1346.jpg', 'fog_0492.jpg': 'gss1348.jpg', 'fog_0493.jpg': 'gss1351.jpg', 'fog_0494.jpg': 'gss1353.jpg', 'fog_0495.jpg': 'gss1356.jpg', 'fog_0496.jpg': 'gss1358.jpg', 'fog_0497.jpg': 'gss1361.jpg', 'fog_0498.jpg': 'gss1363.jpg',\n",
        "  'fog_0499.jpg': 'gss1366.jpg', 'fog_0500.jpg': 'gss1368.jpg', 'fog_0501.jpg': 'gss1371.jpg', 'fog_0502.jpg': 'gss1373.jpg', 'fog_0503.jpg': 'gss1376.jpg', 'fog_0504.jpg': 'gss1378.jpg', 'fog_0505.jpg': 'gss1381.jpg', 'fog_0506.jpg': 'gss1383.jpg', 'fog_0507.jpg': 'gss1386.jpg', 'fog_0508.jpg': 'gss1388.jpg', 'fog_0509.jpg': 'gss1391.jpg', 'fog_0510.jpg': 'gss1393.jpg', 'fog_0511.jpg': 'gss1396.jpg', 'fog_0512.jpg': 'gss1398.jpg', 'fog_0513.jpg': 'gss1401.jpg', 'fog_0514.jpg': 'gss1403.jpg', 'fog_0515.jpg': 'gss1406.jpg', 'fog_0516.jpg': 'gss1408.jpg', 'fog_0517.jpg': 'gss1411.jpg', 'fog_0518.jpg': 'gss1413.jpg',\n",
        "  'fog_0519.jpg': 'gss1416.jpg', 'fog_0520.jpg': 'gss1418.jpg', 'fog_0521.jpg': 'gss1421.jpg', 'fog_0522.jpg': 'gss1423.jpg', 'fog_0523.jpg': 'gss1426.jpg', 'fog_0524.jpg': 'gss1428.jpg', 'fog_0525.jpg': 'gss1431.jpg', 'fog_0526.jpg': 'gss1433.jpg', 'fog_0527.jpg': 'gss1436.jpg', 'fog_0528.jpg': 'gss1438.jpg', 'fog_0529.jpg': 'gss1441.jpg', 'fog_0530.jpg': 'gss1443.jpg', 'fog_0531.jpg': 'gss1446.jpg', 'fog_0532.jpg': 'gss1448.jpg', 'fog_0533.jpg': 'gss1451.jpg', 'fog_0534.jpg': 'gss1453.jpg', 'fog_0535.jpg': 'gss1456.jpg', 'fog_0536.jpg': 'gss1458.jpg', 'fog_0537.jpg': 'gss1461.jpg', 'fog_0538.jpg': 'gss1463.jpg',\n",
        "  'fog_0539.jpg': 'gss1466.jpg', 'fog_0540.jpg': 'gss1468.jpg', 'fog_0541.jpg': 'gss1471.jpg', 'fog_0542.jpg': 'gss1473.jpg', 'fog_0543.jpg': 'gss1476.jpg', 'fog_0544.jpg': 'gss1478.jpg', 'fog_0545.jpg': 'gss1481.jpg', 'fog_0546.jpg': 'gss1483.jpg', 'fog_0547.jpg': 'gss1486.jpg', 'fog_0548.jpg': 'gss1488.jpg', 'fog_0549.jpg': 'gss1491.jpg', 'fog_0550.jpg': 'gss1493.jpg', 'fog_0551.jpg': 'gss1496.jpg', 'fog_0552.jpg': 'gss1498.jpg', 'fog_0553.jpg': 'gss1501.jpg', 'fog_0554.jpg': 'gss1503.jpg', 'fog_0555.jpg': 'gss1506.jpg', 'fog_0556.jpg': 'gss1508.jpg', 'fog_0557.jpg': 'gss1511.jpg', 'fog_0558.jpg': 'gss1513.jpg',\n",
        "  'fog_0559.jpg': 'gss1516.jpg', 'fog_0560.jpg': 'gss1518.jpg', 'fog_0561.jpg': 'gss1521.jpg', 'fog_0562.jpg': 'gss1523.jpg', 'fog_0563.jpg': 'gss1526.jpg', 'fog_0564.jpg': 'gss1528.jpg', 'fog_0565.jpg': 'gss1531.jpg', 'fog_0566.jpg': 'gss1533.jpg', 'fog_0567.jpg': 'gss1536.jpg', 'fog_0568.jpg': 'gss1538.jpg', 'fog_0569.jpg': 'gss1541.jpg', 'fog_0570.jpg': 'gss1543.jpg', 'fog_0571.jpg': 'gss1546.jpg', 'fog_0572.jpg': 'gss1548.jpg', 'fog_0573.jpg': 'gss1551.jpg', 'fog_0574.jpg': 'gss1553.jpg', 'fog_0575.jpg': 'gss1556.jpg', 'fog_0576.jpg': 'gss1558.jpg', 'fog_0577.jpg': 'gss1561.jpg', 'fog_0578.jpg': 'gss1563.jpg',\n",
        "  'fog_0579.jpg': 'gss1566.jpg', 'fog_0580.jpg': 'gss1568.jpg', 'fog_0581.jpg': 'gss1571.jpg', 'fog_0582.jpg': 'gss1573.jpg', 'fog_0583.jpg': 'gss1576.jpg', 'fog_0584.jpg': 'gss1578.jpg', 'fog_0585.jpg': 'gss1581.jpg', 'fog_0586.jpg': 'gss1583.jpg', 'fog_0587.jpg': 'gss1586.jpg', 'fog_0588.jpg': 'gss1588.jpg', 'fog_0589.jpg': 'gss1591.jpg', 'fog_0590.jpg': 'gss1593.jpg', 'fog_0591.jpg': 'gss1596.jpg', 'fog_0592.jpg': 'gss1598.jpg', 'fog_0593.jpg': 'gss1601.jpg', 'fog_0594.jpg': 'gss1603.jpg', 'fog_0595.jpg': 'gss1606.jpg', 'fog_0596.jpg': 'gss1608.jpg', 'fog_0597.jpg': 'gss1611.jpg', 'fog_0598.jpg': 'gss1613.jpg',\n",
        "  'fog_0599.jpg': 'gss1616.jpg', 'fog_0600.jpg': 'gss1618.jpg', 'fog_0601.jpg': 'gss1621.jpg', 'fog_0602.jpg': 'gss1623.jpg', 'fog_0603.jpg': 'gss1626.jpg', 'fog_0604.jpg': 'gss1628.jpg', 'fog_0605.jpg': 'gss1631.jpg', 'fog_0606.jpg': 'gss1633.jpg', 'fog_0607.jpg': 'gss1636.jpg', 'fog_0608.jpg': 'gss1638.jpg', 'fog_0609.jpg': 'gss1641.jpg', 'fog_0610.jpg': 'gss1643.jpg', 'fog_0611.jpg': 'gss1646.jpg', 'fog_0612.jpg': 'gss1648.jpg', 'fog_0613.jpg': 'gss1651.jpg', 'fog_0614.jpg': 'gss1653.jpg', 'fog_0615.jpg': 'gss1656.jpg', 'fog_0616.jpg': 'gss1658.jpg', 'fog_0617.jpg': 'gss1661.jpg', 'fog_0618.jpg': 'gss1663.jpg',\n",
        "  'fog_0619.jpg': 'gss1666.jpg', 'fog_0620.jpg': 'gss1668.jpg', 'fog_0621.jpg': 'gss1671.jpg', 'fog_0622.jpg': 'gss1673.jpg', 'fog_0623.jpg': 'gss1676.jpg', 'fog_0624.jpg': 'gss1678.jpg', 'fog_0625.jpg': 'gss1681.jpg', 'fog_0626.jpg': 'gss1683.jpg', 'fog_0627.jpg': 'gss1686.jpg', 'fog_0628.jpg': 'gss1688.jpg', 'fog_0629.jpg': 'gss1691.jpg', 'fog_0630.jpg': 'gss1693.jpg', 'fog_0631.jpg': 'gss1696.jpg', 'fog_0632.jpg': 'gss1699.jpg', 'fog_0633.jpg': 'gss1701.jpg', 'fog_0634.jpg': 'gss1703.jpg', 'fog_0635.jpg': 'gss1706.jpg', 'fog_0636.jpg': 'gss1708.jpg', 'fog_0637.jpg': 'gss1711.jpg', 'fog_0638.jpg': 'gss1713.jpg',\n",
        "  'fog_0639.jpg': 'gss1716.jpg', 'fog_0640.jpg': 'gss1718.jpg', 'fog_0641.jpg': 'gss1721.jpg', 'fog_0642.jpg': 'gss1723.jpg', 'fog_0643.jpg': 'gss1726.jpg', 'fog_0644.jpg': 'gss1728.jpg', 'fog_0645.jpg': 'gss1731.jpg', 'fog_0646.jpg': 'gss1733.jpg', 'fog_0647.jpg': 'gss1736.jpg', 'fog_0648.jpg': 'gss1738.jpg', 'fog_0649.jpg': 'gss1741.jpg', 'fog_0650.jpg': 'gss1743.jpg', 'fog_0651.jpg': 'gss1746.jpg', 'fog_0652.jpg': 'gss1748.jpg', 'fog_0653.jpg': 'gss1751.jpg', 'fog_0654.jpg': 'gss1753.jpg', 'fog_0655.jpg': 'gss1756.jpg', 'fog_0656.jpg': 'gss1758.jpg', 'fog_0657.jpg': 'gss1761.jpg', 'fog_0658.jpg': 'gss1763.jpg',\n",
        "  'fog_0659.jpg': 'gss1766.jpg', 'fog_0660.jpg': 'gss1768.jpg', 'fog_0661.jpg': 'gss1771.jpg', 'fog_0662.jpg': 'gss1773.jpg', 'fog_0663.jpg': 'gss1776.jpg', 'fog_0664.jpg': 'gss1778.jpg', 'fog_0665.jpg': 'gss1781.jpg', 'fog_0666.jpg': 'gss1783.jpg', 'fog_0667.jpg': 'gss1786.jpg', 'fog_0668.jpg': 'gss1788.jpg', 'fog_0669.jpg': 'gss1791.jpg', 'fog_0670.jpg': 'gss1793.jpg', 'fog_0671.jpg': 'gss1796.jpg', 'fog_0672.jpg': 'gss1798.jpg', 'fog_0673.jpg': 'gss1801.jpg', 'fog_0674.jpg': 'gss1803.jpg', 'fog_0675.jpg': 'gss1806.jpg', 'fog_0676.jpg': 'gss1808.jpg', 'fog_0677.jpg': 'gss1811.jpg', 'fog_0678.jpg': 'gss1813.jpg',\n",
        "  'fog_0679.jpg': 'gss1816.jpg', 'fog_0680.jpg': 'gss1818.jpg', 'fog_0681.jpg': 'gss1821.jpg', 'fog_0682.jpg': 'gss1823.jpg', 'fog_0683.jpg': 'gss1826.jpg', 'fog_0684.jpg': 'gss1828.jpg', 'fog_0685.jpg': 'gss1831.jpg', 'fog_0686.jpg': 'gss1833.jpg', 'fog_0687.jpg': 'gss1836.jpg', 'fog_0688.jpg': 'gss1838.jpg', 'fog_0689.jpg': 'gss1841.jpg', 'fog_0690.jpg': 'gss1843.jpg', 'fog_0691.jpg': 'gss1846.jpg', 'fog_0692.jpg': 'gss1848.jpg', 'fog_0693.jpg': 'gss1851.jpg', 'fog_0694.jpg': 'gss1853.jpg', 'fog_0695.jpg': 'gss1856.jpg', 'fog_0696.jpg': 'gss1858.jpg', 'fog_0697.jpg': 'gss1861.jpg', 'fog_0698.jpg': 'gss1863.jpg',\n",
        "  'fog_0699.jpg': 'gss1866.jpg', 'fog_0700.jpg': 'gss1868.jpg', 'fog_0701.jpg': 'gss1871.jpg', 'fog_0702.jpg': 'gss1873.jpg', 'fog_0703.jpg': 'gss1876.jpg', 'fog_0704.jpg': 'gss1878.jpg', 'fog_0705.jpg': 'gss1881.jpg', 'fog_0706.jpg': 'gss1883.jpg', 'fog_0707.jpg': 'gss1886.jpg', 'fog_0708.jpg': 'gss1888.jpg', 'fog_0709.jpg': 'gss1891.jpg', 'fog_0710.jpg': 'gss1893.jpg', 'fog_0711.jpg': 'gss1896.jpg', 'fog_0712.jpg': 'gss1898.jpg', 'fog_0713.jpg': 'gss1901.jpg', 'fog_0714.jpg': 'gss1903.jpg', 'fog_0715.jpg': 'gss1906.jpg', 'fog_0716.jpg': 'gss1908.jpg', 'fog_0717.jpg': 'gss1911.jpg', 'fog_0718.jpg': 'gss1913.jpg',\n",
        "  'fog_0719.jpg': 'gss1916.jpg', 'fog_0720.jpg': 'gss1918.jpg', 'fog_0721.jpg': 'gss1921.jpg', 'fog_0722.jpg': 'gss1923.jpg', 'fog_0723.jpg': 'gss1926.jpg', 'fog_0724.jpg': 'gss1928.jpg', 'fog_0725.jpg': 'gss1931.jpg', 'fog_0726.jpg': 'gss1933.jpg', 'fog_0727.jpg': 'gss1936.jpg', 'fog_0728.jpg': 'gss1938.jpg', 'fog_0729.jpg': 'gss1941.jpg', 'fog_0730.jpg': 'gss1943.jpg', 'fog_0731.jpg': 'gss1946.jpg', 'fog_0732.jpg': 'gss1948.jpg', 'fog_0733.jpg': 'gss1951.jpg', 'fog_0734.jpg': 'gss1953.jpg', 'fog_0735.jpg': 'gss1956.jpg', 'fog_0736.jpg': 'gss1958.jpg', 'fog_0737.jpg': 'gss1961.jpg', 'fog_0738.jpg': 'gss1963.jpg',\n",
        "  'fog_0739.jpg': 'gss1966.jpg', 'fog_0740.jpg': 'gss1968.jpg', 'fog_0741.jpg': 'gss1971.jpg', 'fog_0742.jpg': 'gss1973.jpg', 'fog_0743.jpg': 'gss1980.jpg', 'fog_0744.jpg': 'gss1982.jpg', 'fog_0745.jpg': 'gss1985.jpg', 'fog_0746.jpg': 'gss1987.jpg', 'fog_0747.jpg': 'gss1990.jpg', 'fog_0748.jpg': 'gss1992.jpg', 'fog_0749.jpg': 'gss1995.jpg', 'fog_0750.jpg': 'gss1997.jpg', 'fog_0751.jpg': 'gss2000.jpg', 'fog_0752.jpg': 'gss2002.jpg', 'fog_0753.jpg': 'gss2005.jpg', 'fog_0754.jpg': 'gss2007.jpg', 'fog_0755.jpg': 'gss2010.jpg', 'fog_0756.jpg': 'gss2012.jpg', 'fog_0757.jpg': 'gss2015.jpg', 'fog_0758.jpg': 'gss2017.jpg',\n",
        "  'fog_0759.jpg': 'gss2020.jpg', 'fog_0760.jpg': 'gss2022.jpg', 'fog_0761.jpg': 'gss2025.jpg', 'fog_0762.jpg': 'gss2027.jpg', 'fog_0763.jpg': 'gss2030.jpg', 'fog_0764.jpg': 'gss2032.jpg', 'fog_0765.jpg': 'gss2035.jpg', 'fog_0766.jpg': 'gss2037.jpg', 'fog_0767.jpg': 'gss2040.jpg', 'fog_0768.jpg': 'gss2042.jpg', 'fog_0769.jpg': 'gss2045.jpg', 'fog_0770.jpg': 'gss2047.jpg', 'fog_0771.jpg': 'gss2050.jpg', 'fog_0772.jpg': 'gss2052.jpg', 'fog_0773.jpg': 'gss2055.jpg', 'fog_0774.jpg': 'gss2057.jpg', 'fog_0775.jpg': 'gss2060.jpg', 'fog_0776.jpg': 'gss2062.jpg', 'fog_0777.jpg': 'gss2065.jpg', 'fog_0778.jpg': 'gss2067.jpg',\n",
        "  'fog_0779.jpg': 'gss2070.jpg', 'fog_0780.jpg': 'gss2072.jpg', 'fog_0781.jpg': 'gss2075.jpg', 'fog_0782.jpg': 'gss2077.jpg', 'fog_0783.jpg': 'gss2080.jpg', 'fog_0784.jpg': 'gss2082.jpg', 'fog_0785.jpg': 'gss2085.jpg', 'fog_0786.jpg': 'gss2087.jpg', 'fog_0787.jpg': 'gss2090.jpg', 'fog_0788.jpg': 'gss2092.jpg', 'fog_0789.jpg': 'gss2095.jpg', 'fog_0790.jpg': 'gss2097.jpg', 'fog_0791.jpg': 'gss2100.jpg', 'fog_0792.jpg': 'gss2102.jpg'\n",
        "  }"
      ],
      "metadata": {
        "id": "OSalRfqt8LFD"
      },
      "execution_count": null,
      "outputs": []
    },
    {
      "cell_type": "markdown",
      "source": [
        "This dataset was built for detecting casualties and persons in search and rescue scenarios in drone images and videos. The actors in the footage have simulate exhausted and injured persons as well as \"classic\" types of movement of people in nature, such as running, walking, standing, sitting, or lying down. The shots include persons on macadam roads, in quarries, low and high grass, forest shade, and the like."
      ],
      "metadata": {
        "id": "erGE9bnSqxn9"
      }
    },
    {
      "cell_type": "markdown",
      "source": [
        "### Reflection on the \"Not-Defined\" label:"
      ],
      "metadata": {
        "id": "0WSVWmmmzCzJ"
      }
    },
    {
      "cell_type": "markdown",
      "source": [
        "The image annotation consists of the position of the bounding box around each object of interest, the size of the bounding box in terms of width and height, and the corresponding class designation (Standing, Walking, Running, Sitting, Lying, Not Defined) for the person.\n",
        "\n",
        "We want to implement a person detection system and are not interested in understanding the movement that the person is making. Therefore, the first step we will take is to unify all the labels into a single class, 'person'. But what should we do with the 'not-defined' label? What does it represent?\n",
        "\n",
        "After analyzing the dataset, I noticed that there are many images containing the 'not-defined' label, so removing these images cannot be considered. In all of these, the subject is clearly a person. Therefore, the 'not-defined' class does not identify the presence or absence of a person, but rather the movement of the person in the image, which, for various reasons, is undefined.\n",
        "\n",
        "We have therefore decided to include the 'not-defined' class in the unified 'person' class."
      ],
      "metadata": {
        "id": "ZJAU2tt8dCqc"
      }
    },
    {
      "cell_type": "code",
      "source": [],
      "metadata": {
        "id": "DsmA31H312n-"
      },
      "execution_count": null,
      "outputs": []
    },
    {
      "cell_type": "markdown",
      "source": [
        "To increase the robustness of the SARD data, an extension of the SARD set, called Corr, was created that includes images that further simulate different weather conditions that may occur in actual search and rescue situations such as fog, snow, and ice. Also, blur images are included in the Corr set that occur in real conditions as a result of camera movement and aerial shooting in motion."
      ],
      "metadata": {
        "id": "a8g1bhWVzYTX"
      }
    },
    {
      "cell_type": "markdown",
      "source": [
        "## Dataset Herida"
      ],
      "metadata": {
        "id": "TsiB9rqhR-iL"
      }
    },
    {
      "cell_type": "code",
      "source": [
        "# os.chdir('../') # to change the directory (../ is the start)\n",
        "os.chdir('/content/drive/MyDrive/projectUPV/datasets/Herida_dataset/train') # the directory with the dataset\n",
        "print(os.getcwd()) # to see in which directory we are\n",
        "# print(os.listdir()) # to see what there is in the current directory (add the path inside the () to see the content of another directory)"
      ],
      "metadata": {
        "id": "hssnvcH9STAa",
        "outputId": "10179137-a1f3-4bf0-9f06-613374575c98",
        "colab": {
          "base_uri": "https://localhost:8080/"
        }
      },
      "execution_count": null,
      "outputs": [
        {
          "output_type": "stream",
          "name": "stdout",
          "text": [
            "/content/drive/.shortcut-targets-by-id/1LQbD7p_iS5KLqGNdfrYEvsAx0i_bgB0h/projectUPV/datasets/Herida_dataset/train\n"
          ]
        }
      ]
    },
    {
      "cell_type": "code",
      "source": [
        "folder_path_herida = \"/content/drive/MyDrive/projectUPV/datasets/Herida_dataset/train\""
      ],
      "metadata": {
        "id": "npcVAFP8lj_C"
      },
      "execution_count": null,
      "outputs": []
    },
    {
      "cell_type": "markdown",
      "source": [
        "We start by checking if there are any jpg images without an associated XML file or vice versa:"
      ],
      "metadata": {
        "id": "kdU5pZyoYmEK"
      }
    },
    {
      "cell_type": "code",
      "source": [
        "inconsistencies_herida = check_image_xml_consistency(folder_path_herida)\n",
        "\n",
        "# Let's see which files aren't matching\n",
        "total_unmatched_herida = len(inconsistencies_herida[\"images_without_xml\"]) + len(inconsistencies_herida[\"xml_without_images\"])\n",
        "print(\"Total unmatched files:\", total_unmatched_herida)\n",
        "\n",
        "print(\"\\nImages without XML:\")\n",
        "for f in inconsistencies_herida['images_without_xml']:\n",
        "  print(f\"  - {f}.jpg\")\n",
        "\n",
        "print(\"\\nXML files without image:\")\n",
        "for f in inconsistencies_herida['xml_without_images']:\n",
        "  print(f\"  - {f}.xml\")\n"
      ],
      "metadata": {
        "id": "njrdW0UCSddl",
        "outputId": "92f9afd0-4eb0-4e84-bd59-eda941509ac7",
        "colab": {
          "base_uri": "https://localhost:8080/"
        }
      },
      "execution_count": null,
      "outputs": [
        {
          "output_type": "stream",
          "name": "stdout",
          "text": [
            "Total images: 1546\n",
            "Total XML files: 1546\n",
            "Images without matching XML: 0\n",
            "XML files without matching image: 0\n",
            "Total unmatched files: 0\n",
            "\n",
            "Images without XML:\n",
            "\n",
            "XML files without image:\n"
          ]
        }
      ]
    },
    {
      "cell_type": "markdown",
      "source": [
        "Fortunately, all images have an associated XML file. \\\n",
        "We now rename all images (jpg) and XML files using the prefix _hda_:"
      ],
      "metadata": {
        "id": "PRGpizrkZI1N"
      }
    },
    {
      "cell_type": "code",
      "source": [
        "def rename_paired_images_and_xml(folder_path, prefix=\"hda\"): # To rename all images (jpg) and xml files using hda as prefix\n",
        "  \"\"\"\n",
        "  Rename the pairs .jpg and .xml files in the 'prefixNNNN.jpg/xml' format.\n",
        "  Skip orphan files (shouldn't be there, already checked).\n",
        "  \"\"\"\n",
        "  # Take name without extension\n",
        "  jpg_basenames = {os.path.splitext(f)[0] for f in os.listdir(folder_path) if f.lower().endswith('.jpg')}\n",
        "  xml_basenames = {os.path.splitext(f)[0] for f in os.listdir(folder_path) if f.lower().endswith('.xml')}\n",
        "\n",
        "  # Find the couples\n",
        "  paired = sorted(jpg_basenames & xml_basenames)\n",
        "\n",
        "  print(f\"Found {len(paired)} pairs to rename \\n\")\n",
        "\n",
        "  for i, base_name in enumerate(paired, start=1):\n",
        "    new_base = f\"{prefix}{str(i).zfill(4)}\"\n",
        "\n",
        "    old_jpg_path = os.path.join(folder_path, base_name + '.jpg')\n",
        "    old_xml_path = os.path.join(folder_path, base_name + '.xml')\n",
        "\n",
        "    new_jpg_path = os.path.join(folder_path, new_base + '.jpg')\n",
        "    new_xml_path = os.path.join(folder_path, new_base + '.xml')\n",
        "\n",
        "    # Rename only if the file exists\n",
        "    if os.path.exists(old_jpg_path):\n",
        "      os.rename(old_jpg_path, new_jpg_path)\n",
        "    if os.path.exists(old_xml_path):\n",
        "      os.rename(old_xml_path, new_xml_path)\n",
        "\n",
        "    #print(f\"{base_name} → {new_base}.jpg / {new_base}.xml\")\n",
        "\n",
        "  print(\"\\n All file renamed with success\")\n",
        "\n",
        "# Let's try\n",
        "rename_paired_images_and_xml(folder_path_herida, prefix=\"hda\")\n",
        "\n"
      ],
      "metadata": {
        "id": "e_WcdPjieB7V",
        "outputId": "a0b43991-d80e-4f9a-ad05-ce9a58b9294f",
        "colab": {
          "base_uri": "https://localhost:8080/"
        }
      },
      "execution_count": null,
      "outputs": [
        {
          "output_type": "stream",
          "name": "stdout",
          "text": [
            "Found 1546 pairs to rename \n",
            "\n",
            "\n",
            " All file renamed with success\n"
          ]
        }
      ]
    },
    {
      "cell_type": "markdown",
      "source": [
        "Rename all filenames inside the XML files accordingly:"
      ],
      "metadata": {
        "id": "ZF5iTEpLZyhh"
      }
    },
    {
      "cell_type": "code",
      "source": [
        "def update_xml_filenames_herida(xml_folder): # To rename all the 'filename' in the xml files in a specific directory\n",
        "  \"\"\"\n",
        "  Update <filename> and <path> tags in XML files to match renamed .jpg files.\n",
        "  Assumes each XML file has a matching .jpg with the same basename.\n",
        "\n",
        "  Args:\n",
        "      xml_folder (str): Path to the folder containing renamed XML and JPG files.\n",
        "  \"\"\"\n",
        "  updated = 0\n",
        "\n",
        "  for file in os.listdir(xml_folder):\n",
        "    if file.endswith('.xml'):\n",
        "      xml_path = os.path.join(xml_folder, file)\n",
        "\n",
        "      try:\n",
        "        tree = ET.parse(xml_path)\n",
        "        root = tree.getroot()\n",
        "\n",
        "        new_filename = os.path.splitext(file)[0] + '.jpg'\n",
        "\n",
        "        # Update <filename> and <path> tags\n",
        "        filename_tag = root.find('filename')\n",
        "        if filename_tag is not None:\n",
        "          filename_tag.text = new_filename\n",
        "\n",
        "        path_tag = root.find('path')\n",
        "        if path_tag is not None:\n",
        "          path_tag.text = new_filename  # or full path if needed\n",
        "\n",
        "        # Save the updated XML\n",
        "        tree.write(xml_path)\n",
        "        updated += 1\n",
        "\n",
        "      except ET.ParseError:\n",
        "        print(f\"Error parsing {file}, skipping.\")\n",
        "\n",
        "  print(f\"Updated {updated} XML files with correct filename/path.\")\n",
        "\n",
        "# Let's try\n",
        "update_xml_filenames_herida(folder_path_herida)"
      ],
      "metadata": {
        "id": "87a2NJ4rehlT",
        "outputId": "883652a7-5dbe-4be4-f7b1-87e2d7268b08",
        "colab": {
          "base_uri": "https://localhost:8080/"
        }
      },
      "execution_count": null,
      "outputs": [
        {
          "output_type": "stream",
          "name": "stdout",
          "text": [
            "Updated 1546 XML files with correct filename/path.\n"
          ]
        }
      ]
    },
    {
      "cell_type": "markdown",
      "source": [
        "We standardize the labels, renaming _\"human\"_ to _\"person\"_:"
      ],
      "metadata": {
        "id": "z3nQ4D7cZ-w5"
      }
    },
    {
      "cell_type": "code",
      "source": [
        "def update_xml_class(folder_path, new_class=\"person\"): # To change all class from 'human' to 'person' in the Herida dataset\n",
        "  \"\"\"\n",
        "  Update all <name> tags in each <object> of XML files to a new class name.\n",
        "\n",
        "  Args:\n",
        "    folder_path (str): Path to folder with .xml files.\n",
        "    new_class (str): New class name to replace current ones.\n",
        "  \"\"\"\n",
        "  updated = 0\n",
        "\n",
        "  for file in os.listdir(folder_path):\n",
        "    if file.endswith('.xml'):\n",
        "      xml_path = os.path.join(folder_path, file)\n",
        "\n",
        "      try:\n",
        "        tree = ET.parse(xml_path)\n",
        "        root = tree.getroot()\n",
        "\n",
        "        modified = False\n",
        "        for obj in root.findall('object'):\n",
        "          name_tag = obj.find('name')\n",
        "          if name_tag is not None and name_tag.text != new_class:\n",
        "            name_tag.text = new_class\n",
        "            modified = True\n",
        "\n",
        "        if modified:\n",
        "          tree.write(xml_path)\n",
        "          updated += 1\n",
        "\n",
        "      except ET.ParseError:\n",
        "        print(f\"Failed to parse {file}\")\n",
        "\n",
        "  print(f\"Updated <name> in {updated} XML files.\")\n",
        "\n",
        "\n",
        "\n",
        "update_xml_class(folder_path_herida)\n",
        "#update_xml_class(folder_path_herida, new_class=\"person\")"
      ],
      "metadata": {
        "id": "JMEGM2Ysx2Zq",
        "colab": {
          "base_uri": "https://localhost:8080/"
        },
        "outputId": "2001cc46-fa00-4f58-efd7-20a05fe3ef27"
      },
      "execution_count": null,
      "outputs": [
        {
          "output_type": "stream",
          "name": "stdout",
          "text": [
            "Updated <name> in 985 XML files.\n"
          ]
        }
      ]
    },
    {
      "cell_type": "markdown",
      "source": [
        "I noticed that there are some pictures in urban settings, and we don't like that. \\\n",
        "So let's create a function that removes those images and their associated xml files:"
      ],
      "metadata": {
        "id": "9t-efcxG6KoY"
      }
    },
    {
      "cell_type": "code",
      "source": [
        "def remove_images_by_number_range(folder, start, end, prefix=\"hda\"):\n",
        "  \"\"\"\n",
        "  Remove all images and XML files with a numerical index in the given range.\n",
        "\n",
        "  Args:\n",
        "    folder (str): Path to folder containing .jpg and .xml files.\n",
        "    start (int): Starting index (inclusive).\n",
        "    end (int): Ending index (inclusive).\n",
        "    prefix (str): Filename prefix (e.g., 'hda' for 'hda1234.jpg').\n",
        "  \"\"\"\n",
        "  deleted_images = []\n",
        "  deleted_xmls = []\n",
        "\n",
        "  for i in range(start, end + 1):\n",
        "    base_name = f\"{prefix}{str(i).zfill(4)}\"\n",
        "    img_path = os.path.join(folder, base_name + \".jpg\")\n",
        "    xml_path = os.path.join(folder, base_name + \".xml\")\n",
        "\n",
        "    if os.path.exists(img_path):\n",
        "      os.remove(img_path)\n",
        "      deleted_images.append(base_name + \".jpg\")\n",
        "    if os.path.exists(xml_path):\n",
        "      os.remove(xml_path)\n",
        "      deleted_xmls.append(base_name + \".xml\")\n",
        "\n",
        "  print(f\"Deleted {len(deleted_images)} images and {len(deleted_xmls)} XML files.\") # Expected 87 images and 87 xml files eliminated"
      ],
      "metadata": {
        "id": "D_K2q-YGgTgv"
      },
      "execution_count": null,
      "outputs": []
    },
    {
      "cell_type": "code",
      "source": [
        "folder_path_herida = \"/content/drive/MyDrive/projectUPV/datasets/Herida_dataset/train\"\n",
        "\n",
        "remove_images_by_number_range(folder_path_herida, 1425, 1511, prefix=\"hda\")"
      ],
      "metadata": {
        "id": "P6galvhc6vSw",
        "outputId": "ba0143c5-7850-446e-f19f-4b9c12b2bf6b",
        "colab": {
          "base_uri": "https://localhost:8080/"
        }
      },
      "execution_count": null,
      "outputs": [
        {
          "output_type": "stream",
          "name": "stdout",
          "text": [
            "Deleted 87 images and 87 XML files.\n"
          ]
        }
      ]
    },
    {
      "cell_type": "markdown",
      "source": [
        "We generate a CSV file containing the annotations from the XML files:"
      ],
      "metadata": {
        "id": "I_gbwFwLaQp6"
      }
    },
    {
      "cell_type": "code",
      "source": [
        "# To create csv file with (filename, width, height, class, xmin, ymin, xmax, ymax) based on info from various xml files\n",
        "def create_csv_from_xml(xml_folder, output_csv_path):\n",
        "  \"\"\"\n",
        "  Create a CSV from XML files in the folder and save it inside the same folder.\n",
        "  The CSV contains the following columns: filename, width, height, class, xmin, ymin, xmax, ymax.\n",
        "\n",
        "  Args:\n",
        "    xml_folder (str): Path to folder with .xml files.\n",
        "    output_csv_path (str): Name of the output CSV file (default: 'annotations.csv').\n",
        "\n",
        "  Returns:\n",
        "    str: Path to the created CSV file.\n",
        "  \"\"\"\n",
        "  herida_person_labels = []\n",
        "\n",
        "  # if output_csv_path is relative, save it in xml_folder\n",
        "  if not os.path.isabs(output_csv_path):\n",
        "    output_csv_path = os.path.join(xml_folder, output_csv_path)\n",
        "\n",
        "  for file in os.listdir(xml_folder):\n",
        "    if file.endswith('.xml'):\n",
        "      xml_path = os.path.join(xml_folder, file)\n",
        "\n",
        "      try:\n",
        "        tree = ET.parse(xml_path)\n",
        "        root = tree.getroot()\n",
        "\n",
        "        filename = root.find('filename').text.strip()\n",
        "        size = root.find('size')\n",
        "        width = int(size.find('width').text)\n",
        "        height = int(size.find('height').text)\n",
        "\n",
        "        objects = root.findall('object')\n",
        "\n",
        "        if not objects:\n",
        "          herida_person_labels.append({\n",
        "            'filename': filename,\n",
        "            'width': width,\n",
        "            'height': height,\n",
        "            'class': 'no_person',\n",
        "            'xmin': None,\n",
        "            'ymin': None,\n",
        "            'xmax': None,\n",
        "            'ymax': None\n",
        "          })\n",
        "        else:\n",
        "          for obj in objects:\n",
        "            label = obj.find('name').text.strip()\n",
        "            bbox = obj.find('bndbox')\n",
        "            xmin = int(bbox.find('xmin').text)\n",
        "            ymin = int(bbox.find('ymin').text)\n",
        "            xmax = int(bbox.find('xmax').text)\n",
        "            ymax = int(bbox.find('ymax').text)\n",
        "\n",
        "            herida_person_labels.append({\n",
        "              'filename': filename,\n",
        "              'width': width,\n",
        "              'height': height,\n",
        "              'class': label,\n",
        "              'xmin': xmin,\n",
        "              'ymin': ymin,\n",
        "              'xmax': xmax,\n",
        "              'ymax': ymax\n",
        "            })\n",
        "\n",
        "      except Exception as e:\n",
        "        print(f\"Error parsing {file}: {e}\")\n",
        "\n",
        "  df = pd.DataFrame(herida_person_labels)\n",
        "\n",
        "  # Save the CSV in the same folder\n",
        "  df.sort_values(by='filename', inplace=True)\n",
        "  df.to_csv(output_csv_path, index=False)\n",
        "\n",
        "  print(f\"CSV created: {output_csv_path} ({len(df)} rows)\")\n",
        "  return output_csv_path\n",
        "\n",
        "\n",
        "\n",
        "# Let's try:\n",
        "folder_path_herida = '/content/drive/MyDrive/projectUPV/datasets/Herida_dataset/train'\n",
        "\n",
        "csv_herida = create_csv_from_xml(folder_path_herida, \"herida_person_labels.csv\")\n",
        "\n",
        "df = pd.read_csv(csv_herida)\n",
        "print(df.head()) # Print first few rows to verify"
      ],
      "metadata": {
        "id": "itVVrlEpehni",
        "colab": {
          "base_uri": "https://localhost:8080/"
        },
        "outputId": "0e7a4176-696c-4859-c006-d944dc8da800"
      },
      "execution_count": null,
      "outputs": [
        {
          "output_type": "stream",
          "name": "stdout",
          "text": [
            "CSV created: herida_person_labels.csv (2685 rows)\n",
            "      filename  width  height   class    xmin    ymin    xmax    ymax\n",
            "0  hda0001.jpg   4000    3000  person  3471.0  1195.0  3540.0  1275.0\n",
            "1  hda0001.jpg   4000    3000  person  2645.0  2820.0  2709.0  2887.0\n",
            "2  hda0001.jpg   4000    3000  person   355.0  1751.0   435.0  1791.0\n",
            "3  hda0002.jpg   4000    3000  person  2656.0  2810.0  2706.0  2884.0\n",
            "4  hda0002.jpg   4000    3000  person  3478.0  1180.0  3536.0  1269.0\n"
          ]
        }
      ]
    },
    {
      "cell_type": "markdown",
      "source": [
        "Let's check if this new csv file is correct:"
      ],
      "metadata": {
        "id": "ofFnA6x6mWXO"
      }
    },
    {
      "cell_type": "code",
      "source": [
        "result = check_csv_vs_xml_annotations(folder_path_herida, 'herida_person_labels.csv')\n",
        "\n",
        "print(\"Result for herida_person_labels.csv:\\n\")\n",
        "print(\"Correct Annotations:\", result['matched'])\n",
        "print(\"Annotations only in CSV:\", result['only_in_csv'])\n",
        "print(\"Annotazioni only in XML:\", result['only_in_xml'])"
      ],
      "metadata": {
        "colab": {
          "base_uri": "https://localhost:8080/"
        },
        "id": "bZu6SijVLdaC",
        "outputId": "b077019d-b0bb-46cd-bd58-8271bdc0f8e9"
      },
      "execution_count": null,
      "outputs": [
        {
          "output_type": "stream",
          "name": "stdout",
          "text": [
            "Result for herida_person_labels.csv:\n",
            "\n",
            "Correct Annotations: 2129\n",
            "Annotations only in CSV: 556\n",
            "Annotazioni only in XML: 0\n"
          ]
        }
      ]
    },
    {
      "cell_type": "markdown",
      "source": [
        "We can see that there are a lot of annotations only in the csv file, these are the images without bounding boxes. \\\n",
        "\\\n",
        "Now let's verify that all images have the same dimensions:"
      ],
      "metadata": {
        "id": "f8CKpBdpacSG"
      }
    },
    {
      "cell_type": "code",
      "source": [
        "folder_path_herida = '/content/drive/MyDrive/projectUPV/datasets/Herida_dataset/train'\n",
        "\n",
        "csv_herida_person_labels_path = os.path.join(folder_path_herida, 'herida_person_labels.csv')\n",
        "\n",
        "check_image_dimensions_consistency(csv_herida_person_labels_path)"
      ],
      "metadata": {
        "id": "6-Gv1AaCehqA",
        "colab": {
          "base_uri": "https://localhost:8080/",
          "height": 99
        },
        "outputId": "ac8069e5-6c64-469e-a7fc-7095819f0a52"
      },
      "execution_count": null,
      "outputs": [
        {
          "output_type": "stream",
          "name": "stdout",
          "text": [
            "All images have the same size: 4000x3000\n"
          ]
        },
        {
          "output_type": "execute_result",
          "data": {
            "text/plain": [
              "   width  height  image_count\n",
              "0   4000    3000         1459"
            ],
            "text/html": [
              "\n",
              "  <div id=\"df-44a80882-1d8e-4f35-b20c-deabcb6de54d\" class=\"colab-df-container\">\n",
              "    <div>\n",
              "<style scoped>\n",
              "    .dataframe tbody tr th:only-of-type {\n",
              "        vertical-align: middle;\n",
              "    }\n",
              "\n",
              "    .dataframe tbody tr th {\n",
              "        vertical-align: top;\n",
              "    }\n",
              "\n",
              "    .dataframe thead th {\n",
              "        text-align: right;\n",
              "    }\n",
              "</style>\n",
              "<table border=\"1\" class=\"dataframe\">\n",
              "  <thead>\n",
              "    <tr style=\"text-align: right;\">\n",
              "      <th></th>\n",
              "      <th>width</th>\n",
              "      <th>height</th>\n",
              "      <th>image_count</th>\n",
              "    </tr>\n",
              "  </thead>\n",
              "  <tbody>\n",
              "    <tr>\n",
              "      <th>0</th>\n",
              "      <td>4000</td>\n",
              "      <td>3000</td>\n",
              "      <td>1459</td>\n",
              "    </tr>\n",
              "  </tbody>\n",
              "</table>\n",
              "</div>\n",
              "    <div class=\"colab-df-buttons\">\n",
              "\n",
              "  <div class=\"colab-df-container\">\n",
              "    <button class=\"colab-df-convert\" onclick=\"convertToInteractive('df-44a80882-1d8e-4f35-b20c-deabcb6de54d')\"\n",
              "            title=\"Convert this dataframe to an interactive table.\"\n",
              "            style=\"display:none;\">\n",
              "\n",
              "  <svg xmlns=\"http://www.w3.org/2000/svg\" height=\"24px\" viewBox=\"0 -960 960 960\">\n",
              "    <path d=\"M120-120v-720h720v720H120Zm60-500h600v-160H180v160Zm220 220h160v-160H400v160Zm0 220h160v-160H400v160ZM180-400h160v-160H180v160Zm440 0h160v-160H620v160ZM180-180h160v-160H180v160Zm440 0h160v-160H620v160Z\"/>\n",
              "  </svg>\n",
              "    </button>\n",
              "\n",
              "  <style>\n",
              "    .colab-df-container {\n",
              "      display:flex;\n",
              "      gap: 12px;\n",
              "    }\n",
              "\n",
              "    .colab-df-convert {\n",
              "      background-color: #E8F0FE;\n",
              "      border: none;\n",
              "      border-radius: 50%;\n",
              "      cursor: pointer;\n",
              "      display: none;\n",
              "      fill: #1967D2;\n",
              "      height: 32px;\n",
              "      padding: 0 0 0 0;\n",
              "      width: 32px;\n",
              "    }\n",
              "\n",
              "    .colab-df-convert:hover {\n",
              "      background-color: #E2EBFA;\n",
              "      box-shadow: 0px 1px 2px rgba(60, 64, 67, 0.3), 0px 1px 3px 1px rgba(60, 64, 67, 0.15);\n",
              "      fill: #174EA6;\n",
              "    }\n",
              "\n",
              "    .colab-df-buttons div {\n",
              "      margin-bottom: 4px;\n",
              "    }\n",
              "\n",
              "    [theme=dark] .colab-df-convert {\n",
              "      background-color: #3B4455;\n",
              "      fill: #D2E3FC;\n",
              "    }\n",
              "\n",
              "    [theme=dark] .colab-df-convert:hover {\n",
              "      background-color: #434B5C;\n",
              "      box-shadow: 0px 1px 3px 1px rgba(0, 0, 0, 0.15);\n",
              "      filter: drop-shadow(0px 1px 2px rgba(0, 0, 0, 0.3));\n",
              "      fill: #FFFFFF;\n",
              "    }\n",
              "  </style>\n",
              "\n",
              "    <script>\n",
              "      const buttonEl =\n",
              "        document.querySelector('#df-44a80882-1d8e-4f35-b20c-deabcb6de54d button.colab-df-convert');\n",
              "      buttonEl.style.display =\n",
              "        google.colab.kernel.accessAllowed ? 'block' : 'none';\n",
              "\n",
              "      async function convertToInteractive(key) {\n",
              "        const element = document.querySelector('#df-44a80882-1d8e-4f35-b20c-deabcb6de54d');\n",
              "        const dataTable =\n",
              "          await google.colab.kernel.invokeFunction('convertToInteractive',\n",
              "                                                    [key], {});\n",
              "        if (!dataTable) return;\n",
              "\n",
              "        const docLinkHtml = 'Like what you see? Visit the ' +\n",
              "          '<a target=\"_blank\" href=https://colab.research.google.com/notebooks/data_table.ipynb>data table notebook</a>'\n",
              "          + ' to learn more about interactive tables.';\n",
              "        element.innerHTML = '';\n",
              "        dataTable['output_type'] = 'display_data';\n",
              "        await google.colab.output.renderOutput(dataTable, element);\n",
              "        const docLink = document.createElement('div');\n",
              "        docLink.innerHTML = docLinkHtml;\n",
              "        element.appendChild(docLink);\n",
              "      }\n",
              "    </script>\n",
              "  </div>\n",
              "\n",
              "\n",
              "    </div>\n",
              "  </div>\n"
            ],
            "application/vnd.google.colaboratory.intrinsic+json": {
              "type": "dataframe",
              "summary": "{\n  \"name\": \"check_image_dimensions_consistency(csv_herida_person_labels_path)\",\n  \"rows\": 1,\n  \"fields\": [\n    {\n      \"column\": \"width\",\n      \"properties\": {\n        \"dtype\": \"number\",\n        \"std\": null,\n        \"min\": 4000,\n        \"max\": 4000,\n        \"num_unique_values\": 1,\n        \"samples\": [\n          4000\n        ],\n        \"semantic_type\": \"\",\n        \"description\": \"\"\n      }\n    },\n    {\n      \"column\": \"height\",\n      \"properties\": {\n        \"dtype\": \"number\",\n        \"std\": null,\n        \"min\": 3000,\n        \"max\": 3000,\n        \"num_unique_values\": 1,\n        \"samples\": [\n          3000\n        ],\n        \"semantic_type\": \"\",\n        \"description\": \"\"\n      }\n    },\n    {\n      \"column\": \"image_count\",\n      \"properties\": {\n        \"dtype\": \"number\",\n        \"std\": null,\n        \"min\": 1459,\n        \"max\": 1459,\n        \"num_unique_values\": 1,\n        \"samples\": [\n          1459\n        ],\n        \"semantic_type\": \"\",\n        \"description\": \"\"\n      }\n    }\n  ]\n}"
            }
          },
          "metadata": {},
          "execution_count": 89
        }
      ]
    },
    {
      "cell_type": "markdown",
      "source": [
        "We now verify that all bounding boxes are within the image boundaries:"
      ],
      "metadata": {
        "id": "_808bf3ral90"
      }
    },
    {
      "cell_type": "code",
      "source": [
        "csv_herida_person_labels_path = os.path.join(folder_path_herida, 'herida_person_labels.csv')\n",
        "\n",
        "info_herida = infer_indexing_from_csv_verbose(csv_herida_person_labels_path, thresh=0.2)\n",
        "print(\"HERIDA indexing:\", info_herida)\n",
        "\n",
        "voc_flag_herida = (info_herida[\"indexing\"] == \"1-based\") or (info_herida[\"indexing\"] == \"ambiguous\")\n",
        "\n",
        "invalid_bboxes = check_bboxes_out_of_bounds_from_csv(\n",
        "  csv_herida_person_labels_path, voc_one_indexed=voc_flag_herida\n",
        ")\n",
        "print(invalid_bboxes[['filename','xmin','ymin','xmax','ymax','width','height']])"
      ],
      "metadata": {
        "id": "61-OktUqehrv",
        "colab": {
          "base_uri": "https://localhost:8080/"
        },
        "outputId": "7e2639ab-82ee-4335-f192-c2352f924654"
      },
      "execution_count": null,
      "outputs": [
        {
          "output_type": "stream",
          "name": "stdout",
          "text": [
            "Checked all entries. Found 556 invalid bounding boxes.\n",
            "         filename  xmin  ymin  xmax  ymax  width  height\n",
            "39    hda0016.jpg   NaN   NaN   NaN   NaN   4000    3000\n",
            "40    hda0017.jpg   NaN   NaN   NaN   NaN   4000    3000\n",
            "41    hda0018.jpg   NaN   NaN   NaN   NaN   4000    3000\n",
            "42    hda0019.jpg   NaN   NaN   NaN   NaN   4000    3000\n",
            "43    hda0020.jpg   NaN   NaN   NaN   NaN   4000    3000\n",
            "...           ...   ...   ...   ...   ...    ...     ...\n",
            "2173  hda1420.jpg   NaN   NaN   NaN   NaN   4000    3000\n",
            "2174  hda1421.jpg   NaN   NaN   NaN   NaN   4000    3000\n",
            "2176  hda1423.jpg   NaN   NaN   NaN   NaN   4000    3000\n",
            "2553  hda1539.jpg   NaN   NaN   NaN   NaN   4000    3000\n",
            "2554  hda1540.jpg   NaN   NaN   NaN   NaN   4000    3000\n",
            "\n",
            "[556 rows x 7 columns]\n"
          ]
        }
      ]
    },
    {
      "cell_type": "markdown",
      "source": [
        "We detect “suspicious” bounding boxes using the same function previously applied to the SARD dataset:"
      ],
      "metadata": {
        "id": "wN1g1kHla2Qi"
      }
    },
    {
      "cell_type": "code",
      "source": [
        "folder_path_herida = '/content/drive/MyDrive/projectUPV/datasets/Herida_dataset/train'\n",
        "\n",
        "csv_herida_person_labels_path = os.path.join(folder_path_herida, 'herida_person_labels.csv')\n",
        "\n",
        "result = classify_image_annotation_quality(csv_herida_person_labels_path, folder_path_herida)\n",
        "\n",
        "print(f\"Case 1 (only bbox suspicious): {len(result['case1_all_suspicious'])} and they are: {result['case1_all_suspicious']}\")\n",
        "print(f\"Case 2 (bbox mix): {len(result['case2_some_suspicious'])}\")\n",
        "print(f\"Case 3 (no annotation): {len(result['case3_no_annotations'])} and they are: {result['case3_no_annotations']}\")\n",
        "\n",
        "# I also think that the images in the case 1 and 3 are useless. So i'm going to delete them."
      ],
      "metadata": {
        "id": "I9KrHyJ6ehtp",
        "colab": {
          "base_uri": "https://localhost:8080/"
        },
        "outputId": "2359c88b-1dc8-436b-fa01-d74323f2f4f9"
      },
      "execution_count": null,
      "outputs": [
        {
          "output_type": "stream",
          "name": "stdout",
          "text": [
            "Case 1 (only bbox suspicious): 10 and they are: {'hda0857.jpg', 'hda0925.jpg', 'hda1178.jpg', 'hda1182.jpg', 'hda1183.jpg', 'hda1316.jpg', 'hda0498.jpg', 'hda0255.jpg', 'hda1269.jpg', 'hda0646.jpg'}\n",
            "Case 2 (bbox mix): 13\n",
            "Case 3 (no annotation): 0 and they are: set()\n"
          ]
        }
      ]
    },
    {
      "cell_type": "code",
      "source": [
        "# At first let's see which rows would be removed from CSVs without editing them.\n",
        "\n",
        "csv_files = [csv_herida_person_labels_path]\n",
        "\n",
        "print(\"case1: \", result['case1_all_suspicious'])\n",
        "print(\"case3: \", result['case3_no_annotations'])\n",
        "\n",
        "images_to_remove = result['case1_all_suspicious'].union(result['case3_no_annotations'])\n",
        "\n",
        "# Show what would be eliminated\n",
        "preview_dataset_cleaning(csv_files, images_to_remove)"
      ],
      "metadata": {
        "colab": {
          "base_uri": "https://localhost:8080/"
        },
        "id": "6HP_rS5nsBT5",
        "outputId": "83be45a6-1b05-4d4b-cff0-56d117514e24"
      },
      "execution_count": null,
      "outputs": [
        {
          "output_type": "stream",
          "name": "stdout",
          "text": [
            "case1:  {'hda0857.jpg', 'hda0925.jpg', 'hda1178.jpg', 'hda1182.jpg', 'hda1183.jpg', 'hda1316.jpg', 'hda0498.jpg', 'hda0255.jpg', 'hda1269.jpg', 'hda0646.jpg'}\n",
            "case3:  set()\n",
            "\n",
            " /content/drive/MyDrive/projectUPV/datasets/Herida_dataset/train/herida_person_labels.csv: 10 rows to remove\n",
            "Filenames involved: ['hda0255.jpg' 'hda0498.jpg' 'hda0646.jpg' 'hda0857.jpg' 'hda0925.jpg'\n",
            " 'hda1178.jpg' 'hda1182.jpg' 'hda1183.jpg' 'hda1269.jpg' 'hda1316.jpg']\n"
          ]
        }
      ]
    },
    {
      "cell_type": "code",
      "source": [
        "# Ok now we can really delete the images\n",
        "\n",
        "items_deleted = clean_dataset(folder_path_herida, csv_files, images_to_remove)\n",
        "print(\"Number of images deleted: \", len(items_deleted[\"deleted_images\"]))\n",
        "print(\"Number of xml files deleted: \", len(items_deleted[\"deleted_xmls\"]))\n",
        "print(\"Rows deleted: \", len(items_deleted[\"removed_csv_rows\"]))"
      ],
      "metadata": {
        "colab": {
          "base_uri": "https://localhost:8080/"
        },
        "id": "qbLqhi9UsxF7",
        "outputId": "197dc964-fd63-400e-c36e-0a7aaeac3d8b"
      },
      "execution_count": null,
      "outputs": [
        {
          "output_type": "stream",
          "name": "stdout",
          "text": [
            "\n",
            "Check on /content/drive/MyDrive/projectUPV/datasets/Herida_dataset/train/herida_person_labels.csv: 10 rows to delete\n",
            "Filenames: ['hda0255.jpg' 'hda0498.jpg' 'hda0646.jpg' 'hda0857.jpg' 'hda0925.jpg'\n",
            " 'hda1178.jpg' 'hda1182.jpg' 'hda1183.jpg' 'hda1269.jpg' 'hda1316.jpg']\n",
            "Updated /content/drive/MyDrive/projectUPV/datasets/Herida_dataset/train/herida_person_labels.csv: 10 rows removed\n",
            "Number of images deleted:  10\n",
            "Number of xml files deleted:  10\n",
            "Rows deleted:  1\n"
          ]
        }
      ]
    },
    {
      "cell_type": "markdown",
      "source": [
        "We perform a general analysis of the dataset:"
      ],
      "metadata": {
        "id": "D3B8LY17bduq"
      }
    },
    {
      "cell_type": "code",
      "source": [
        "folder_path_herida = '/content/drive/MyDrive/projectUPV/datasets/Herida_dataset/train'\n",
        "csv_herida_person_labels_path = os.path.join(folder_path_herida, 'herida_person_labels.csv')\n",
        "results = analyze_dataset_annotations(csv_herida_person_labels_path, folder_path_herida)\n",
        "\n",
        "print(\"How many images for each label:\")\n",
        "print(results[\"label_count\"])\n",
        "\n",
        "print(\"\\nDistribution of bbox for image:\")\n",
        "for n_bbox, n_images in results[\"distribution_of_bbox\"].items():\n",
        "  print(f\"There are {n_images} images with {n_bbox} bbox\")\n",
        "\n",
        "print(\"\\nImages with at least one label (bounding box):\", results[\"number_images_annotated\"])\n",
        "print(\"Total images:\", results[\"number_all_images\"])\n",
        "print(\"Images without any label:\", results[\"number_images_without_annotations\"])\n",
        "print(\"The images without any label are:\", results[\"images_without_annotations\"])\n"
      ],
      "metadata": {
        "id": "hpiIsH2-9HTG",
        "colab": {
          "base_uri": "https://localhost:8080/"
        },
        "outputId": "f1041764-12f0-4646-9a0c-3296820aa288"
      },
      "execution_count": null,
      "outputs": [
        {
          "output_type": "stream",
          "name": "stdout",
          "text": [
            "How many images for each label:\n",
            "class\n",
            "person       2119\n",
            "no_person     556\n",
            "Name: count, dtype: int64\n",
            "\n",
            "Distribution of bbox for image:\n",
            "There are 932 images with 1 bbox\n",
            "There are 350 images with 2 bbox\n",
            "There are 81 images with 3 bbox\n",
            "There are 23 images with 4 bbox\n",
            "There are 9 images with 5 bbox\n",
            "There are 9 images with 6 bbox\n",
            "There are 9 images with 7 bbox\n",
            "There are 7 images with 8 bbox\n",
            "There are 2 images with 9 bbox\n",
            "There are 2 images with 10 bbox\n",
            "There are 2 images with 11 bbox\n",
            "There are 2 images with 14 bbox\n",
            "There are 4 images with 15 bbox\n",
            "There are 4 images with 16 bbox\n",
            "There are 1 images with 17 bbox\n",
            "There are 1 images with 18 bbox\n",
            "There are 3 images with 19 bbox\n",
            "There are 3 images with 21 bbox\n",
            "There are 3 images with 22 bbox\n",
            "There are 1 images with 28 bbox\n",
            "There are 1 images with 29 bbox\n",
            "\n",
            "Images with at least one label (bounding box): 1449\n",
            "Total images: 1449\n",
            "Images without any label: 0\n",
            "The images without any label are: set()\n"
          ]
        }
      ]
    },
    {
      "cell_type": "markdown",
      "source": [
        "Since the two datasets contain images of different sizes, we need to perform resizing/normalization of the images. \\\n",
        "I chose to change the size of the images after the merge, as the most suitable model has not yet been decided."
      ],
      "metadata": {
        "id": "idNElRFGytru"
      }
    },
    {
      "cell_type": "markdown",
      "source": [
        "## Merge\n",
        "\n",
        "To optimize so that the model can generalize best, I decided to use both the Sard and Herida datasets. We proceed to merge the two to thus obtain a new, more balanced dataset, which we will call _AERALIS_"
      ],
      "metadata": {
        "id": "N5foT41ZX4X6"
      }
    },
    {
      "cell_type": "markdown",
      "source": [
        "We perform a merge of the two datasets:"
      ],
      "metadata": {
        "id": "F1qZunjNYINS"
      }
    },
    {
      "cell_type": "code",
      "source": [
        "# STEP 1: Copy images and XML to a single folder\n",
        "\n",
        "def merge_folders(source_folders, target_folder):\n",
        "  \"\"\"\n",
        "  Merge the contents of multiple folders into a single folder.\n",
        "\n",
        "  Args:\n",
        "    source_folders: list of folders to copy from\n",
        "    target_folder: folder to copy to\n",
        "  \"\"\"\n",
        "  os.makedirs(target_folder, exist_ok=True)\n",
        "\n",
        "  for folder in source_folders:\n",
        "    for file in os.listdir(folder):\n",
        "      if file.lower().endswith(('.jpg', '.xml')):\n",
        "        src_path = os.path.join(folder, file)\n",
        "        dst_path = os.path.join(target_folder, file)\n",
        "\n",
        "        if not os.path.exists(dst_path):  # Avoid overwrites\n",
        "          shutil.copy2(src_path, dst_path)\n",
        "        else:\n",
        "          print(f\"File already exists, skipping: {file}\")\n",
        "    print(f\"Copied files from {folder} to {target_folder}\")"
      ],
      "metadata": {
        "id": "Pi47won9YBXK"
      },
      "execution_count": null,
      "outputs": []
    },
    {
      "cell_type": "code",
      "source": [
        "merged_folder_path = \"/content/drive/MyDrive/projectUPV/datasets/AERALIS\"\n",
        "\n",
        "merge_folders([folder_path_sard, folder_path_herida], merged_folder_path)"
      ],
      "metadata": {
        "id": "8jOvAyePYHaR",
        "outputId": "22a7c602-2173-46fb-b953-d29a36a7b59e",
        "colab": {
          "base_uri": "https://localhost:8080/"
        }
      },
      "execution_count": null,
      "outputs": [
        {
          "output_type": "stream",
          "name": "stdout",
          "text": [
            "Copied files from /content/drive/MyDrive/projectUPV/datasets/SARD_dataset/SARD to /content/drive/MyDrive/projectUPV/datasets/AERALIS\n",
            "Copied files from /content/drive/MyDrive/projectUPV/datasets/Herida_dataset/train to /content/drive/MyDrive/projectUPV/datasets/AERALIS\n"
          ]
        }
      ]
    },
    {
      "cell_type": "markdown",
      "source": [
        "Let us now verify that the newly created dataset really does contain all the files:"
      ],
      "metadata": {
        "id": "PzpAIJECwi3a"
      }
    },
    {
      "cell_type": "code",
      "source": [
        "def verify_merged_files(source_folders, merged_folder):\n",
        "  \"\"\"\n",
        "  Verify that all files in the source folders are present in the merged folder.\n",
        "\n",
        "  Args:\n",
        "    source_folders: list of folders to copy from\n",
        "    target_folder: folder to copy to\n",
        "  \"\"\"\n",
        "  from collections import Counter\n",
        "\n",
        "  def collect_files(folder, extensions):\n",
        "    files = []\n",
        "    for file in os.listdir(folder):\n",
        "      if file.lower().endswith(extensions):\n",
        "        files.append(file)\n",
        "    return files\n",
        "\n",
        "  # 1. Collect all .jpg and .xml files from the sources\n",
        "  all_source_files = []\n",
        "  for folder in source_folders:\n",
        "      files = collect_files(folder, ('.jpg', '.xml'))\n",
        "      all_source_files.extend(files)\n",
        "\n",
        "  # Count how many identical files appear multiple times (possible duplicates)\n",
        "  duplicates = [item for item, count in Counter(all_source_files).items() if count > 1]\n",
        "\n",
        "  # 2. Collect all .jpg and .xml files from the merge folder\n",
        "  merged_files = set(collect_files(merged_folder, ('.jpg', '.xml')))\n",
        "  all_source_set = set(all_source_files)\n",
        "\n",
        "  # 3. Compare\n",
        "  missing_in_merge = all_source_set - merged_files\n",
        "  unexpected_in_merge = merged_files - all_source_set\n",
        "\n",
        "  print(f\"Total source files (jpg + xml): {len(all_source_files)}\")\n",
        "  print(f\"Unique files: {len(all_source_set)}\")\n",
        "  print(f\"Files present in the merge folder: {len(merged_files)}\")\n",
        "  print(f\"Duplicate files in the sources: {duplicates if duplicates else 'None'}\")\n",
        "  print(f\"\\nMissing files in the merge: {len(missing_in_merge)}\")\n",
        "  for f in sorted(missing_in_merge):\n",
        "    print(f\"  - {f}\")\n",
        "\n",
        "  print(f\"\\nUnexpected files in the merge folder: {len(unexpected_in_merge)}\")\n",
        "  for f in sorted(unexpected_in_merge):\n",
        "    print(f\"  - {f}\")\n"
      ],
      "metadata": {
        "id": "1Ki8wMVIwxPo"
      },
      "execution_count": null,
      "outputs": []
    },
    {
      "cell_type": "code",
      "source": [
        "merged_folder_path = \"/content/drive/MyDrive/projectUPV/datasets/AERALIS\"\n",
        "folder_path_sard = '/content/drive/MyDrive/projectUPV/datasets/SARD_dataset/SARD'\n",
        "folder_path_herida = \"/content/drive/MyDrive/projectUPV/datasets/Herida_dataset/train\"\n",
        "\n",
        "source_folders = [folder_path_sard, folder_path_herida]\n",
        "\n",
        "verify_merged_files(source_folders, merged_folder_path)"
      ],
      "metadata": {
        "id": "ByToN-FT8HEy",
        "outputId": "15318897-2af0-4bf9-9a80-124238a4ee82",
        "colab": {
          "base_uri": "https://localhost:8080/"
        }
      },
      "execution_count": null,
      "outputs": [
        {
          "output_type": "stream",
          "name": "stdout",
          "text": [
            "Total source files (jpg + xml): 6852\n",
            "Unique files: 6852\n",
            "Files present in the merge folder: 6852\n",
            "Duplicate files in the sources: None\n",
            "\n",
            "Missing files in the merge: 0\n",
            "\n",
            "Unexpected files in the merge folder: 0\n"
          ]
        }
      ]
    },
    {
      "cell_type": "markdown",
      "source": [
        "Let's see if the association between xml file and jpg file has been maintained:"
      ],
      "metadata": {
        "id": "UzgXoHKK862G"
      }
    },
    {
      "cell_type": "code",
      "source": [
        "inconsistencies_aeralis = check_image_xml_consistency(merged_folder_path)\n",
        "\n",
        "# Let's see which files aren't matching\n",
        "total_unmatched_aeralis = len(inconsistencies_aeralis[\"images_without_xml\"]) + len(inconsistencies_aeralis[\"xml_without_images\"])\n",
        "print(\"Total unmatched files:\", total_unmatched_aeralis)\n",
        "\n",
        "print(\"\\nImages without XML:\")\n",
        "for f in inconsistencies_aeralis['images_without_xml']:\n",
        "  print(f\"  - {f}.jpg\")\n",
        "\n",
        "print(\"\\nXML files without image:\")\n",
        "for f in inconsistencies_aeralis['xml_without_images']:\n",
        "  print(f\"  - {f}.xml\")"
      ],
      "metadata": {
        "id": "7pY8x2Jtw4cj",
        "outputId": "bce9b524-4a2c-4ce1-f774-98ba921ef3c0",
        "colab": {
          "base_uri": "https://localhost:8080/"
        }
      },
      "execution_count": null,
      "outputs": [
        {
          "output_type": "stream",
          "name": "stdout",
          "text": [
            "Total images: 3426\n",
            "Total XML files: 3426\n",
            "Images without matching XML: 0\n",
            "XML files without matching image: 0\n",
            "Total unmatched files: 0\n",
            "\n",
            "Images without XML:\n",
            "\n",
            "XML files without image:\n"
          ]
        }
      ]
    },
    {
      "cell_type": "markdown",
      "source": [
        "Perfect, all pairs are intact.\n",
        "\n",
        "\\\n",
        "Let's rename the files:"
      ],
      "metadata": {
        "id": "a40Gv8Ch9T3M"
      }
    },
    {
      "cell_type": "code",
      "source": [
        "# STEP 2: Rename the files (jpg and xml) and update the xmls\n",
        "\n",
        "# Let's rename all images (jpg) and xml files using aer as prefix\n",
        "rename_paired_images_and_xml(merged_folder_path, prefix=\"aer\") # This function was written in the \"Dataset Herida\" Section"
      ],
      "metadata": {
        "id": "DtNkgv7De_k3",
        "outputId": "a8d864e4-f094-40eb-92ed-467c3e8f5d88",
        "colab": {
          "base_uri": "https://localhost:8080/"
        }
      },
      "execution_count": null,
      "outputs": [
        {
          "output_type": "stream",
          "name": "stdout",
          "text": [
            "Found 3426 pairs to rename \n",
            "\n",
            "\n",
            " All file renamed with success\n"
          ]
        }
      ]
    },
    {
      "cell_type": "markdown",
      "source": [
        "In the end we rename all filenames inside the XML files accordingly:"
      ],
      "metadata": {
        "id": "hf3fG-l2_L3e"
      }
    },
    {
      "cell_type": "code",
      "source": [
        "# To rename all the 'filename' (and the 'path') tag in the xml files in a specific directory\n",
        "\n",
        "# Let's try\n",
        "update_xml_filenames_herida(merged_folder_path) # This function was written in the \"Dataset Herida\" Section"
      ],
      "metadata": {
        "id": "I-Tp8ZvL9z0E",
        "outputId": "ff46058e-23ab-450b-be43-abee8d8c3fe4",
        "colab": {
          "base_uri": "https://localhost:8080/"
        }
      },
      "execution_count": null,
      "outputs": [
        {
          "output_type": "stream",
          "name": "stdout",
          "text": [
            "Updated 3426 XML files with correct filename/path.\n"
          ]
        }
      ]
    },
    {
      "cell_type": "markdown",
      "source": [
        "Now that the aeralis directory has been created, we want to set it up as a working directory:"
      ],
      "metadata": {
        "id": "N0Hh8dJf9we8"
      }
    },
    {
      "cell_type": "code",
      "source": [
        "# os.chdir('../') # to change the directory (../ is the start)\n",
        "os.chdir('/content/drive/MyDrive/projectUPV/datasets/AERALIS') # the directory with the dataset\n",
        "print(os.getcwd()) # to see in which directory we are\n",
        "# print(os.listdir()) # to see what there is in the current directory (add the path inside the () to see the content of another directory)"
      ],
      "metadata": {
        "id": "e7kvpZ7n-FiB",
        "outputId": "e55bf0cf-0630-443e-b4c0-a7e2cc83c32e",
        "colab": {
          "base_uri": "https://localhost:8080/"
        }
      },
      "execution_count": null,
      "outputs": [
        {
          "output_type": "stream",
          "name": "stdout",
          "text": [
            "/content/drive/.shortcut-targets-by-id/1LQbD7p_iS5KLqGNdfrYEvsAx0i_bgB0h/projectUPV/datasets/AERALIS\n"
          ]
        }
      ]
    },
    {
      "cell_type": "markdown",
      "source": [
        "We generate a CSV file containing the annotations from the XML files:"
      ],
      "metadata": {
        "id": "P5jC2N9dN6V4"
      }
    },
    {
      "cell_type": "code",
      "source": [
        "# STEP 3: Create new unified CSV (merge of the two CSVs)\n",
        "\n",
        "# Let's try:\n",
        "merged_folder_path = \"/content/drive/MyDrive/projectUPV/datasets/AERALIS\"\n",
        "\n",
        "# This function was written in the \"Dataset Herida\" Section\n",
        "csv_aeralis = create_csv_from_xml(merged_folder_path, \"aeralis_person_labels.csv\")\n",
        "\n",
        "df = pd.read_csv(csv_aeralis)\n",
        "print(df.head()) # Print first few rows to verify"
      ],
      "metadata": {
        "id": "VD7UwvWiOdjz",
        "outputId": "b36e0074-7327-4444-afca-19197c891884",
        "colab": {
          "base_uri": "https://localhost:8080/"
        }
      },
      "execution_count": null,
      "outputs": [
        {
          "output_type": "stream",
          "name": "stdout",
          "text": [
            "CSV created: aeralis_person_labels.csv (9203 rows)\n",
            "      filename  width  height   class    xmin   ymin    xmax   ymax\n",
            "0  aer0001.jpg   1920    1080  person  1110.0  358.0  1134.0  424.0\n",
            "1  aer0001.jpg   1920    1080  person  1077.0  367.0  1100.0  428.0\n",
            "2  aer0001.jpg   1920    1080  person  1041.0  144.0  1061.0  173.0\n",
            "3  aer0002.jpg   1920    1080  person  1104.0  347.0  1126.0  414.0\n",
            "4  aer0002.jpg   1920    1080  person  1079.0  365.0  1101.0  428.0\n"
          ]
        }
      ]
    },
    {
      "cell_type": "markdown",
      "source": [
        "Let's check if this new csv file is correct:"
      ],
      "metadata": {
        "id": "tGb2TqXnN3XE"
      }
    },
    {
      "cell_type": "code",
      "source": [
        "result = check_csv_vs_xml_annotations(merged_folder_path, 'aeralis_person_labels.csv')\n",
        "\n",
        "print(\"Result for aeralis_person_labels.csv:\\n\")\n",
        "print(\"Correct Annotations:\", result['matched'])\n",
        "print(\"Annotations only in CSV:\", result['only_in_csv'])\n",
        "print(\"Annotazioni only in XML:\", result['only_in_xml'])"
      ],
      "metadata": {
        "id": "ooMfUP-UNm1H",
        "outputId": "1439f3d8-cb6a-4195-81b1-c20225aedd71",
        "colab": {
          "base_uri": "https://localhost:8080/"
        }
      },
      "execution_count": null,
      "outputs": [
        {
          "output_type": "stream",
          "name": "stdout",
          "text": [
            "Result for aeralis_person_labels.csv:\n",
            "\n",
            "Correct Annotations: 8647\n",
            "Annotations only in CSV: 556\n",
            "Annotazioni only in XML: 0\n"
          ]
        }
      ]
    },
    {
      "cell_type": "markdown",
      "source": [
        "All Perfect!\n",
        "\n",
        "\\\n",
        "\n",
        "Finally we are interested to see how this new dataset behaves with some basic analysis:"
      ],
      "metadata": {
        "id": "DrqzejzBSKj1"
      }
    },
    {
      "cell_type": "code",
      "source": [
        "merged_folder_path = \"/content/drive/MyDrive/projectUPV/datasets/AERALIS\"\n",
        "csv_aeralis_person_labels_path = os.path.join(merged_folder_path, 'aeralis_person_labels.csv')\n",
        "results = analyze_dataset_annotations(csv_aeralis_person_labels_path, merged_folder_path)\n",
        "\n",
        "print(\"How many images for each label:\")\n",
        "print(results[\"label_count\"])\n",
        "\n",
        "print(\"\\nDistribution of bbox for image:\")\n",
        "for n_bbox, n_images in results[\"distribution_of_bbox\"].items():\n",
        "  print(f\"There are {n_images} images with {n_bbox} bbox\")\n",
        "\n",
        "print(\"\\nImages with at least one label (bounding box):\", results[\"number_images_annotated\"])\n",
        "print(\"Total images:\", results[\"number_all_images\"])\n",
        "print(\"Images without any label:\", results[\"number_images_without_annotations\"])\n",
        "print(\"The images without any label are:\", results[\"images_without_annotations\"])"
      ],
      "metadata": {
        "id": "kW0L6phePxFt",
        "outputId": "4d91898b-605c-442e-e05c-c3239840db91",
        "colab": {
          "base_uri": "https://localhost:8080/"
        }
      },
      "execution_count": null,
      "outputs": [
        {
          "output_type": "stream",
          "name": "stdout",
          "text": [
            "How many images for each label:\n",
            "class\n",
            "person       8647\n",
            "no_person     556\n",
            "Name: count, dtype: int64\n",
            "\n",
            "Distribution of bbox for image:\n",
            "There are 1233 images with 1 bbox\n",
            "There are 999 images with 2 bbox\n",
            "There are 436 images with 3 bbox\n",
            "There are 220 images with 4 bbox\n",
            "There are 150 images with 5 bbox\n",
            "There are 145 images with 6 bbox\n",
            "There are 104 images with 7 bbox\n",
            "There are 44 images with 8 bbox\n",
            "There are 68 images with 9 bbox\n",
            "There are 2 images with 10 bbox\n",
            "There are 2 images with 11 bbox\n",
            "There are 2 images with 14 bbox\n",
            "There are 4 images with 15 bbox\n",
            "There are 4 images with 16 bbox\n",
            "There are 1 images with 17 bbox\n",
            "There are 1 images with 18 bbox\n",
            "There are 3 images with 19 bbox\n",
            "There are 3 images with 21 bbox\n",
            "There are 3 images with 22 bbox\n",
            "There are 1 images with 28 bbox\n",
            "There are 1 images with 29 bbox\n",
            "\n",
            "Images with at least one label (bounding box): 3426\n",
            "Total images: 3426\n",
            "Images without any label: 0\n",
            "The images without any label are: set()\n"
          ]
        }
      ]
    },
    {
      "cell_type": "markdown",
      "source": [
        "And in the end, only a few final checks:"
      ],
      "metadata": {
        "id": "4BOMM6b-TCwp"
      }
    },
    {
      "cell_type": "code",
      "source": [
        "# 1. Verification of classes in the embattled CSV:\n",
        "df = pd.read_csv(csv_aeralis_person_labels_path)\n",
        "\n",
        "print(df['class'].value_counts())"
      ],
      "metadata": {
        "id": "V3i1eXlqSY2M",
        "outputId": "7abfdd95-9db9-4413-c80d-1b7755bc5bff",
        "colab": {
          "base_uri": "https://localhost:8080/"
        }
      },
      "execution_count": null,
      "outputs": [
        {
          "output_type": "stream",
          "name": "stdout",
          "text": [
            "class\n",
            "person       8647\n",
            "no_person     556\n",
            "Name: count, dtype: int64\n"
          ]
        }
      ]
    },
    {
      "cell_type": "code",
      "source": [
        "# 2. Check for unexpected NaN values:\n",
        "print(df.isnull().sum())"
      ],
      "metadata": {
        "id": "H-6iU6A-SdPM",
        "outputId": "f3da4343-bef5-4049-bef2-252234ec04c4",
        "colab": {
          "base_uri": "https://localhost:8080/"
        }
      },
      "execution_count": null,
      "outputs": [
        {
          "output_type": "stream",
          "name": "stdout",
          "text": [
            "filename      0\n",
            "width         0\n",
            "height        0\n",
            "class         0\n",
            "xmin        556\n",
            "ymin        556\n",
            "xmax        556\n",
            "ymax        556\n",
            "dtype: int64\n"
          ]
        }
      ]
    },
    {
      "cell_type": "code",
      "source": [
        "# 3. Bounding box out of image:\n",
        "invalid_boxes = df[\n",
        "    (df['xmin'] >= df['xmax']) |\n",
        "    (df['ymin'] >= df['ymax']) |\n",
        "    (df['xmin'] < 0) |\n",
        "    (df['ymin'] < 0) |\n",
        "    (df['xmax'] > df['width']) |\n",
        "    (df['ymax'] > df['height'])\n",
        "]\n",
        "print(f\"Invalid bbox rows: {len(invalid_boxes)}\")"
      ],
      "metadata": {
        "id": "8cpxxByqSetz",
        "outputId": "c298433e-7b59-417b-df79-4903e5a16d5f",
        "colab": {
          "base_uri": "https://localhost:8080/"
        }
      },
      "execution_count": null,
      "outputs": [
        {
          "output_type": "stream",
          "name": "stdout",
          "text": [
            "Invalid bbox rows: 0\n"
          ]
        }
      ]
    }
  ]
}